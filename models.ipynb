{
 "cells": [
  {
   "cell_type": "markdown",
   "id": "f5cdd4ee",
   "metadata": {},
   "source": [
    "#### Импорт библиотек"
   ]
  },
  {
   "cell_type": "code",
   "execution_count": 1,
   "id": "00843db9",
   "metadata": {},
   "outputs": [],
   "source": [
    "import pandas as pd\n",
    "import numpy as np\n",
    "import lightgbm as lgbm\n",
    "import ipywidgets\n",
    "import statistics\n",
    "import gc\n",
    "import os\n",
    "import sys\n",
    "import dd as dd\n",
    "import optuna\n",
    "import dill\n",
    "\n",
    "from catboost import Pool, CatBoostClassifier, CatBoostRanker\n",
    "from sklearn.model_selection import train_test_split, StratifiedKFold, KFold\n",
    "from sklearn.metrics import roc_auc_score\n",
    "from sklearn.model_selection import GridSearchCV\n",
    "from xgboost import XGBClassifier\n",
    "from sklearn.svm import SVC\n",
    "from sklearn.metrics import mean_absolute_error, make_scorer\n",
    "from sklearn.model_selection import KFold\n",
    "from collections import defaultdict\n",
    "from copy import deepcopy\n",
    "from itertools import product\n",
    "from sklearn.metrics import log_loss\n",
    "from sklearn.model_selection import StratifiedKFold\n",
    "from optuna.integration import LightGBMPruningCallback\n",
    "\n",
    "sys.path.append('../Credit Scoring/')"
   ]
  },
  {
   "cell_type": "code",
   "execution_count": 2,
   "id": "d58fded5",
   "metadata": {},
   "outputs": [],
   "source": [
    "path = 'data/train_data/'"
   ]
  },
  {
   "cell_type": "code",
   "execution_count": 3,
   "id": "9d45a282",
   "metadata": {},
   "outputs": [],
   "source": [
    "def make_dataset(list_scores):\n",
    "    \n",
    "    list_scores_model = [list_scores]\n",
    "    print(list_scores_model)\n",
    "    data = {\n",
    "        'Модель': [item[0] for item in list_scores_model],\n",
    "        'Fold 1': [item[1][0] for item in list_scores_model],\n",
    "        'Fold 2': [item[1][1] for item in list_scores_model],\n",
    "        'Fold 3': [item[1][2] for item in list_scores_model],\n",
    "        'Fold 4': [item[1][3] for item in list_scores_model],\n",
    "        'Fold 5': [item[1][4] for item in list_scores_model],\n",
    "        'Mean roc_auc_score': [statistics.mean(list_scores_model[0][1])]\n",
    "    }\n",
    "    \n",
    "    return pd.DataFrame(data)\n",
    "\n",
    "def make_df_for_modelling(data, target: str):\n",
    "    \n",
    "    data[['id', 'flag']] = data[['id', 'flag']].astype(int)\n",
    "    data.drop(['id'], axis=1, inplace=True)\n",
    "\n",
    "    features = list(data.columns.values)\n",
    "    features.remove(target)\n",
    "\n",
    "    X = data[features]\n",
    "    y = data[target]\n",
    "    \n",
    "    X_train, X_test, y_train, y_test = train_test_split(X, y, test_size=0.2, shuffle=True, stratify = y, random_state=42)\n",
    "    \n",
    "    return X_train, X_test, y_train, y_test"
   ]
  },
  {
   "cell_type": "code",
   "execution_count": 4,
   "id": "cb2b1b3a",
   "metadata": {},
   "outputs": [],
   "source": [
    "def pipeline():\n",
    "\n",
    "    data = dd.modify_data()\n",
    "    X_train, X_test, y_train, y_test = make_df_for_modelling(data, 'flag')\n",
    "    \n",
    "    return X_train, X_test, y_train, y_test"
   ]
  },
  {
   "cell_type": "code",
   "execution_count": 5,
   "id": "a119dc5b",
   "metadata": {},
   "outputs": [
    {
     "data": {
      "text/plain": [
       "0"
      ]
     },
     "execution_count": 5,
     "metadata": {},
     "output_type": "execute_result"
    }
   ],
   "source": [
    "gc.collect()"
   ]
  },
  {
   "cell_type": "markdown",
   "id": "576b01b5",
   "metadata": {},
   "source": [
    "#### Загрузка данных"
   ]
  },
  {
   "cell_type": "code",
   "execution_count": 6,
   "id": "0b19c847",
   "metadata": {},
   "outputs": [
    {
     "name": "stdout",
     "output_type": "stream",
     "text": [
      "Modify data!\n"
     ]
    },
    {
     "data": {
      "application/vnd.jupyter.widget-view+json": {
       "model_id": "d102e8999aae495d8fadd4fce7986c72",
       "version_major": 2,
       "version_minor": 0
      },
      "text/plain": [
       "Transforming transactions data:   0%|          | 0/12 [00:00<?, ?it/s]"
      ]
     },
     "metadata": {},
     "output_type": "display_data"
    },
    {
     "name": "stdout",
     "output_type": "stream",
     "text": [
      "['data/train_data\\\\train_data_0.pq', 'data/train_data\\\\train_data_1.pq', 'data/train_data\\\\train_data_10.pq', 'data/train_data\\\\train_data_11.pq', 'data/train_data\\\\train_data_2.pq', 'data/train_data\\\\train_data_3.pq', 'data/train_data\\\\train_data_4.pq', 'data/train_data\\\\train_data_5.pq', 'data/train_data\\\\train_data_6.pq', 'data/train_data\\\\train_data_7.pq', 'data/train_data\\\\train_data_8.pq', 'data/train_data\\\\train_data_9.pq']\n",
      "Reading chunks!\n",
      "Read chunk: data/train_data\\train_data_0.pq\n"
     ]
    },
    {
     "data": {
      "application/vnd.jupyter.widget-view+json": {
       "model_id": "b87663f38e374c9e8f379f4e1b78b3a9",
       "version_major": 2,
       "version_minor": 0
      },
      "text/plain": [
       "Reading chunks with pandas!:   0%|          | 0/1 [00:00<?, ?it/s]"
      ]
     },
     "metadata": {},
     "output_type": "display_data"
    },
    {
     "name": "stdout",
     "output_type": "stream",
     "text": [
      "Chunk data/train_data\\train_data_0.pq\n",
      "['data/train_data\\\\train_data_0.pq', 'data/train_data\\\\train_data_1.pq', 'data/train_data\\\\train_data_10.pq', 'data/train_data\\\\train_data_11.pq', 'data/train_data\\\\train_data_2.pq', 'data/train_data\\\\train_data_3.pq', 'data/train_data\\\\train_data_4.pq', 'data/train_data\\\\train_data_5.pq', 'data/train_data\\\\train_data_6.pq', 'data/train_data\\\\train_data_7.pq', 'data/train_data\\\\train_data_8.pq', 'data/train_data\\\\train_data_9.pq']\n",
      "Reading chunks!\n",
      "Read chunk: data/train_data\\train_data_1.pq\n"
     ]
    },
    {
     "data": {
      "application/vnd.jupyter.widget-view+json": {
       "model_id": "7da0053fb1d34ad295e9ddd68e640d66",
       "version_major": 2,
       "version_minor": 0
      },
      "text/plain": [
       "Reading chunks with pandas!:   0%|          | 0/1 [00:00<?, ?it/s]"
      ]
     },
     "metadata": {},
     "output_type": "display_data"
    },
    {
     "name": "stdout",
     "output_type": "stream",
     "text": [
      "Chunk data/train_data\\train_data_1.pq\n",
      "['data/train_data\\\\train_data_0.pq', 'data/train_data\\\\train_data_1.pq', 'data/train_data\\\\train_data_10.pq', 'data/train_data\\\\train_data_11.pq', 'data/train_data\\\\train_data_2.pq', 'data/train_data\\\\train_data_3.pq', 'data/train_data\\\\train_data_4.pq', 'data/train_data\\\\train_data_5.pq', 'data/train_data\\\\train_data_6.pq', 'data/train_data\\\\train_data_7.pq', 'data/train_data\\\\train_data_8.pq', 'data/train_data\\\\train_data_9.pq']\n",
      "Reading chunks!\n",
      "Read chunk: data/train_data\\train_data_10.pq\n"
     ]
    },
    {
     "data": {
      "application/vnd.jupyter.widget-view+json": {
       "model_id": "a34c45f08c384e6a881505595474a427",
       "version_major": 2,
       "version_minor": 0
      },
      "text/plain": [
       "Reading chunks with pandas!:   0%|          | 0/1 [00:00<?, ?it/s]"
      ]
     },
     "metadata": {},
     "output_type": "display_data"
    },
    {
     "name": "stdout",
     "output_type": "stream",
     "text": [
      "Chunk data/train_data\\train_data_10.pq\n",
      "['data/train_data\\\\train_data_0.pq', 'data/train_data\\\\train_data_1.pq', 'data/train_data\\\\train_data_10.pq', 'data/train_data\\\\train_data_11.pq', 'data/train_data\\\\train_data_2.pq', 'data/train_data\\\\train_data_3.pq', 'data/train_data\\\\train_data_4.pq', 'data/train_data\\\\train_data_5.pq', 'data/train_data\\\\train_data_6.pq', 'data/train_data\\\\train_data_7.pq', 'data/train_data\\\\train_data_8.pq', 'data/train_data\\\\train_data_9.pq']\n",
      "Reading chunks!\n",
      "Read chunk: data/train_data\\train_data_11.pq\n"
     ]
    },
    {
     "data": {
      "application/vnd.jupyter.widget-view+json": {
       "model_id": "4d6b003be50c492397cafa18622a1329",
       "version_major": 2,
       "version_minor": 0
      },
      "text/plain": [
       "Reading chunks with pandas!:   0%|          | 0/1 [00:00<?, ?it/s]"
      ]
     },
     "metadata": {},
     "output_type": "display_data"
    },
    {
     "name": "stdout",
     "output_type": "stream",
     "text": [
      "Chunk data/train_data\\train_data_11.pq\n",
      "['data/train_data\\\\train_data_0.pq', 'data/train_data\\\\train_data_1.pq', 'data/train_data\\\\train_data_10.pq', 'data/train_data\\\\train_data_11.pq', 'data/train_data\\\\train_data_2.pq', 'data/train_data\\\\train_data_3.pq', 'data/train_data\\\\train_data_4.pq', 'data/train_data\\\\train_data_5.pq', 'data/train_data\\\\train_data_6.pq', 'data/train_data\\\\train_data_7.pq', 'data/train_data\\\\train_data_8.pq', 'data/train_data\\\\train_data_9.pq']\n",
      "Reading chunks!\n",
      "Read chunk: data/train_data\\train_data_2.pq\n"
     ]
    },
    {
     "data": {
      "application/vnd.jupyter.widget-view+json": {
       "model_id": "e53f2340d3f34619bac54dc27ca00ac7",
       "version_major": 2,
       "version_minor": 0
      },
      "text/plain": [
       "Reading chunks with pandas!:   0%|          | 0/1 [00:00<?, ?it/s]"
      ]
     },
     "metadata": {},
     "output_type": "display_data"
    },
    {
     "name": "stdout",
     "output_type": "stream",
     "text": [
      "Chunk data/train_data\\train_data_2.pq\n",
      "['data/train_data\\\\train_data_0.pq', 'data/train_data\\\\train_data_1.pq', 'data/train_data\\\\train_data_10.pq', 'data/train_data\\\\train_data_11.pq', 'data/train_data\\\\train_data_2.pq', 'data/train_data\\\\train_data_3.pq', 'data/train_data\\\\train_data_4.pq', 'data/train_data\\\\train_data_5.pq', 'data/train_data\\\\train_data_6.pq', 'data/train_data\\\\train_data_7.pq', 'data/train_data\\\\train_data_8.pq', 'data/train_data\\\\train_data_9.pq']\n",
      "Reading chunks!\n",
      "Read chunk: data/train_data\\train_data_3.pq\n"
     ]
    },
    {
     "data": {
      "application/vnd.jupyter.widget-view+json": {
       "model_id": "05d78c06fa964885a591735db24aed1d",
       "version_major": 2,
       "version_minor": 0
      },
      "text/plain": [
       "Reading chunks with pandas!:   0%|          | 0/1 [00:00<?, ?it/s]"
      ]
     },
     "metadata": {},
     "output_type": "display_data"
    },
    {
     "name": "stdout",
     "output_type": "stream",
     "text": [
      "Chunk data/train_data\\train_data_3.pq\n",
      "['data/train_data\\\\train_data_0.pq', 'data/train_data\\\\train_data_1.pq', 'data/train_data\\\\train_data_10.pq', 'data/train_data\\\\train_data_11.pq', 'data/train_data\\\\train_data_2.pq', 'data/train_data\\\\train_data_3.pq', 'data/train_data\\\\train_data_4.pq', 'data/train_data\\\\train_data_5.pq', 'data/train_data\\\\train_data_6.pq', 'data/train_data\\\\train_data_7.pq', 'data/train_data\\\\train_data_8.pq', 'data/train_data\\\\train_data_9.pq']\n",
      "Reading chunks!\n",
      "Read chunk: data/train_data\\train_data_4.pq\n"
     ]
    },
    {
     "data": {
      "application/vnd.jupyter.widget-view+json": {
       "model_id": "847d0e17cd144fa09504d74ee0447872",
       "version_major": 2,
       "version_minor": 0
      },
      "text/plain": [
       "Reading chunks with pandas!:   0%|          | 0/1 [00:00<?, ?it/s]"
      ]
     },
     "metadata": {},
     "output_type": "display_data"
    },
    {
     "name": "stdout",
     "output_type": "stream",
     "text": [
      "Chunk data/train_data\\train_data_4.pq\n",
      "['data/train_data\\\\train_data_0.pq', 'data/train_data\\\\train_data_1.pq', 'data/train_data\\\\train_data_10.pq', 'data/train_data\\\\train_data_11.pq', 'data/train_data\\\\train_data_2.pq', 'data/train_data\\\\train_data_3.pq', 'data/train_data\\\\train_data_4.pq', 'data/train_data\\\\train_data_5.pq', 'data/train_data\\\\train_data_6.pq', 'data/train_data\\\\train_data_7.pq', 'data/train_data\\\\train_data_8.pq', 'data/train_data\\\\train_data_9.pq']\n",
      "Reading chunks!\n",
      "Read chunk: data/train_data\\train_data_5.pq\n"
     ]
    },
    {
     "data": {
      "application/vnd.jupyter.widget-view+json": {
       "model_id": "922d6f8fce834cef979e87c85394291b",
       "version_major": 2,
       "version_minor": 0
      },
      "text/plain": [
       "Reading chunks with pandas!:   0%|          | 0/1 [00:00<?, ?it/s]"
      ]
     },
     "metadata": {},
     "output_type": "display_data"
    },
    {
     "name": "stdout",
     "output_type": "stream",
     "text": [
      "Chunk data/train_data\\train_data_5.pq\n",
      "['data/train_data\\\\train_data_0.pq', 'data/train_data\\\\train_data_1.pq', 'data/train_data\\\\train_data_10.pq', 'data/train_data\\\\train_data_11.pq', 'data/train_data\\\\train_data_2.pq', 'data/train_data\\\\train_data_3.pq', 'data/train_data\\\\train_data_4.pq', 'data/train_data\\\\train_data_5.pq', 'data/train_data\\\\train_data_6.pq', 'data/train_data\\\\train_data_7.pq', 'data/train_data\\\\train_data_8.pq', 'data/train_data\\\\train_data_9.pq']\n",
      "Reading chunks!\n",
      "Read chunk: data/train_data\\train_data_6.pq\n"
     ]
    },
    {
     "data": {
      "application/vnd.jupyter.widget-view+json": {
       "model_id": "1fb285177f7e4382bffa2922efc5a066",
       "version_major": 2,
       "version_minor": 0
      },
      "text/plain": [
       "Reading chunks with pandas!:   0%|          | 0/1 [00:00<?, ?it/s]"
      ]
     },
     "metadata": {},
     "output_type": "display_data"
    },
    {
     "name": "stdout",
     "output_type": "stream",
     "text": [
      "Chunk data/train_data\\train_data_6.pq\n",
      "['data/train_data\\\\train_data_0.pq', 'data/train_data\\\\train_data_1.pq', 'data/train_data\\\\train_data_10.pq', 'data/train_data\\\\train_data_11.pq', 'data/train_data\\\\train_data_2.pq', 'data/train_data\\\\train_data_3.pq', 'data/train_data\\\\train_data_4.pq', 'data/train_data\\\\train_data_5.pq', 'data/train_data\\\\train_data_6.pq', 'data/train_data\\\\train_data_7.pq', 'data/train_data\\\\train_data_8.pq', 'data/train_data\\\\train_data_9.pq']\n",
      "Reading chunks!\n",
      "Read chunk: data/train_data\\train_data_7.pq\n"
     ]
    },
    {
     "data": {
      "application/vnd.jupyter.widget-view+json": {
       "model_id": "352c70c8f32b4b07b0e232bb898bf468",
       "version_major": 2,
       "version_minor": 0
      },
      "text/plain": [
       "Reading chunks with pandas!:   0%|          | 0/1 [00:00<?, ?it/s]"
      ]
     },
     "metadata": {},
     "output_type": "display_data"
    },
    {
     "name": "stdout",
     "output_type": "stream",
     "text": [
      "Chunk data/train_data\\train_data_7.pq\n",
      "['data/train_data\\\\train_data_0.pq', 'data/train_data\\\\train_data_1.pq', 'data/train_data\\\\train_data_10.pq', 'data/train_data\\\\train_data_11.pq', 'data/train_data\\\\train_data_2.pq', 'data/train_data\\\\train_data_3.pq', 'data/train_data\\\\train_data_4.pq', 'data/train_data\\\\train_data_5.pq', 'data/train_data\\\\train_data_6.pq', 'data/train_data\\\\train_data_7.pq', 'data/train_data\\\\train_data_8.pq', 'data/train_data\\\\train_data_9.pq']\n",
      "Reading chunks!\n",
      "Read chunk: data/train_data\\train_data_8.pq\n"
     ]
    },
    {
     "data": {
      "application/vnd.jupyter.widget-view+json": {
       "model_id": "6717f8ffbc7a467889c51c944ca24d1a",
       "version_major": 2,
       "version_minor": 0
      },
      "text/plain": [
       "Reading chunks with pandas!:   0%|          | 0/1 [00:00<?, ?it/s]"
      ]
     },
     "metadata": {},
     "output_type": "display_data"
    },
    {
     "name": "stdout",
     "output_type": "stream",
     "text": [
      "Chunk data/train_data\\train_data_8.pq\n",
      "['data/train_data\\\\train_data_0.pq', 'data/train_data\\\\train_data_1.pq', 'data/train_data\\\\train_data_10.pq', 'data/train_data\\\\train_data_11.pq', 'data/train_data\\\\train_data_2.pq', 'data/train_data\\\\train_data_3.pq', 'data/train_data\\\\train_data_4.pq', 'data/train_data\\\\train_data_5.pq', 'data/train_data\\\\train_data_6.pq', 'data/train_data\\\\train_data_7.pq', 'data/train_data\\\\train_data_8.pq', 'data/train_data\\\\train_data_9.pq']\n",
      "Reading chunks!\n",
      "Read chunk: data/train_data\\train_data_9.pq\n"
     ]
    },
    {
     "data": {
      "application/vnd.jupyter.widget-view+json": {
       "model_id": "eb9b63864b244460b9251aa9ee50942e",
       "version_major": 2,
       "version_minor": 0
      },
      "text/plain": [
       "Reading chunks with pandas!:   0%|          | 0/1 [00:00<?, ?it/s]"
      ]
     },
     "metadata": {},
     "output_type": "display_data"
    },
    {
     "name": "stdout",
     "output_type": "stream",
     "text": [
      "Chunk data/train_data\\train_data_9.pq\n"
     ]
    },
    {
     "data": {
      "application/vnd.jupyter.widget-view+json": {
       "model_id": "ed2eac6a599041488b78201f5a578142",
       "version_major": 2,
       "version_minor": 0
      },
      "text/plain": [
       "Transforming transactions data:   0%|          | 0/12 [00:00<?, ?it/s]"
      ]
     },
     "metadata": {},
     "output_type": "display_data"
    },
    {
     "name": "stdout",
     "output_type": "stream",
     "text": [
      "['data/train_data\\\\train_data_0.pq', 'data/train_data\\\\train_data_1.pq', 'data/train_data\\\\train_data_10.pq', 'data/train_data\\\\train_data_11.pq', 'data/train_data\\\\train_data_2.pq', 'data/train_data\\\\train_data_3.pq', 'data/train_data\\\\train_data_4.pq', 'data/train_data\\\\train_data_5.pq', 'data/train_data\\\\train_data_6.pq', 'data/train_data\\\\train_data_7.pq', 'data/train_data\\\\train_data_8.pq', 'data/train_data\\\\train_data_9.pq']\n",
      "Reading chunks!\n",
      "Read chunk: data/train_data\\train_data_0.pq\n"
     ]
    },
    {
     "data": {
      "application/vnd.jupyter.widget-view+json": {
       "model_id": "216b207fbc974cf4a48ab59a42cc7a7d",
       "version_major": 2,
       "version_minor": 0
      },
      "text/plain": [
       "Reading chunks with pandas!:   0%|          | 0/1 [00:00<?, ?it/s]"
      ]
     },
     "metadata": {},
     "output_type": "display_data"
    },
    {
     "name": "stdout",
     "output_type": "stream",
     "text": [
      "Chunk data/train_data\\train_data_0.pq\n",
      "['data/train_data\\\\train_data_0.pq', 'data/train_data\\\\train_data_1.pq', 'data/train_data\\\\train_data_10.pq', 'data/train_data\\\\train_data_11.pq', 'data/train_data\\\\train_data_2.pq', 'data/train_data\\\\train_data_3.pq', 'data/train_data\\\\train_data_4.pq', 'data/train_data\\\\train_data_5.pq', 'data/train_data\\\\train_data_6.pq', 'data/train_data\\\\train_data_7.pq', 'data/train_data\\\\train_data_8.pq', 'data/train_data\\\\train_data_9.pq']\n",
      "Reading chunks!\n",
      "Read chunk: data/train_data\\train_data_1.pq\n"
     ]
    },
    {
     "data": {
      "application/vnd.jupyter.widget-view+json": {
       "model_id": "52bbf3572404485db715b30c93f885e2",
       "version_major": 2,
       "version_minor": 0
      },
      "text/plain": [
       "Reading chunks with pandas!:   0%|          | 0/1 [00:00<?, ?it/s]"
      ]
     },
     "metadata": {},
     "output_type": "display_data"
    },
    {
     "name": "stdout",
     "output_type": "stream",
     "text": [
      "Chunk data/train_data\\train_data_1.pq\n",
      "['data/train_data\\\\train_data_0.pq', 'data/train_data\\\\train_data_1.pq', 'data/train_data\\\\train_data_10.pq', 'data/train_data\\\\train_data_11.pq', 'data/train_data\\\\train_data_2.pq', 'data/train_data\\\\train_data_3.pq', 'data/train_data\\\\train_data_4.pq', 'data/train_data\\\\train_data_5.pq', 'data/train_data\\\\train_data_6.pq', 'data/train_data\\\\train_data_7.pq', 'data/train_data\\\\train_data_8.pq', 'data/train_data\\\\train_data_9.pq']\n",
      "Reading chunks!\n",
      "Read chunk: data/train_data\\train_data_10.pq\n"
     ]
    },
    {
     "data": {
      "application/vnd.jupyter.widget-view+json": {
       "model_id": "7a67283528cf4094bcc0e77a81f0eb43",
       "version_major": 2,
       "version_minor": 0
      },
      "text/plain": [
       "Reading chunks with pandas!:   0%|          | 0/1 [00:00<?, ?it/s]"
      ]
     },
     "metadata": {},
     "output_type": "display_data"
    },
    {
     "name": "stdout",
     "output_type": "stream",
     "text": [
      "Chunk data/train_data\\train_data_10.pq\n",
      "['data/train_data\\\\train_data_0.pq', 'data/train_data\\\\train_data_1.pq', 'data/train_data\\\\train_data_10.pq', 'data/train_data\\\\train_data_11.pq', 'data/train_data\\\\train_data_2.pq', 'data/train_data\\\\train_data_3.pq', 'data/train_data\\\\train_data_4.pq', 'data/train_data\\\\train_data_5.pq', 'data/train_data\\\\train_data_6.pq', 'data/train_data\\\\train_data_7.pq', 'data/train_data\\\\train_data_8.pq', 'data/train_data\\\\train_data_9.pq']\n",
      "Reading chunks!\n",
      "Read chunk: data/train_data\\train_data_11.pq\n"
     ]
    },
    {
     "data": {
      "application/vnd.jupyter.widget-view+json": {
       "model_id": "23be628d3fbd497fad1d71e499477dc7",
       "version_major": 2,
       "version_minor": 0
      },
      "text/plain": [
       "Reading chunks with pandas!:   0%|          | 0/1 [00:00<?, ?it/s]"
      ]
     },
     "metadata": {},
     "output_type": "display_data"
    },
    {
     "name": "stdout",
     "output_type": "stream",
     "text": [
      "Chunk data/train_data\\train_data_11.pq\n",
      "['data/train_data\\\\train_data_0.pq', 'data/train_data\\\\train_data_1.pq', 'data/train_data\\\\train_data_10.pq', 'data/train_data\\\\train_data_11.pq', 'data/train_data\\\\train_data_2.pq', 'data/train_data\\\\train_data_3.pq', 'data/train_data\\\\train_data_4.pq', 'data/train_data\\\\train_data_5.pq', 'data/train_data\\\\train_data_6.pq', 'data/train_data\\\\train_data_7.pq', 'data/train_data\\\\train_data_8.pq', 'data/train_data\\\\train_data_9.pq']\n",
      "Reading chunks!\n",
      "Read chunk: data/train_data\\train_data_2.pq\n"
     ]
    },
    {
     "data": {
      "application/vnd.jupyter.widget-view+json": {
       "model_id": "7a4e0da9532f48cc8cac29c4d03706f7",
       "version_major": 2,
       "version_minor": 0
      },
      "text/plain": [
       "Reading chunks with pandas!:   0%|          | 0/1 [00:00<?, ?it/s]"
      ]
     },
     "metadata": {},
     "output_type": "display_data"
    },
    {
     "name": "stdout",
     "output_type": "stream",
     "text": [
      "Chunk data/train_data\\train_data_2.pq\n",
      "['data/train_data\\\\train_data_0.pq', 'data/train_data\\\\train_data_1.pq', 'data/train_data\\\\train_data_10.pq', 'data/train_data\\\\train_data_11.pq', 'data/train_data\\\\train_data_2.pq', 'data/train_data\\\\train_data_3.pq', 'data/train_data\\\\train_data_4.pq', 'data/train_data\\\\train_data_5.pq', 'data/train_data\\\\train_data_6.pq', 'data/train_data\\\\train_data_7.pq', 'data/train_data\\\\train_data_8.pq', 'data/train_data\\\\train_data_9.pq']\n",
      "Reading chunks!\n",
      "Read chunk: data/train_data\\train_data_3.pq\n"
     ]
    },
    {
     "data": {
      "application/vnd.jupyter.widget-view+json": {
       "model_id": "5c0b93d5aad84deaa70da297b10b47f2",
       "version_major": 2,
       "version_minor": 0
      },
      "text/plain": [
       "Reading chunks with pandas!:   0%|          | 0/1 [00:00<?, ?it/s]"
      ]
     },
     "metadata": {},
     "output_type": "display_data"
    },
    {
     "name": "stdout",
     "output_type": "stream",
     "text": [
      "Chunk data/train_data\\train_data_3.pq\n",
      "['data/train_data\\\\train_data_0.pq', 'data/train_data\\\\train_data_1.pq', 'data/train_data\\\\train_data_10.pq', 'data/train_data\\\\train_data_11.pq', 'data/train_data\\\\train_data_2.pq', 'data/train_data\\\\train_data_3.pq', 'data/train_data\\\\train_data_4.pq', 'data/train_data\\\\train_data_5.pq', 'data/train_data\\\\train_data_6.pq', 'data/train_data\\\\train_data_7.pq', 'data/train_data\\\\train_data_8.pq', 'data/train_data\\\\train_data_9.pq']\n",
      "Reading chunks!\n",
      "Read chunk: data/train_data\\train_data_4.pq\n"
     ]
    },
    {
     "data": {
      "application/vnd.jupyter.widget-view+json": {
       "model_id": "bc10b76a7be741268f280772223409e3",
       "version_major": 2,
       "version_minor": 0
      },
      "text/plain": [
       "Reading chunks with pandas!:   0%|          | 0/1 [00:00<?, ?it/s]"
      ]
     },
     "metadata": {},
     "output_type": "display_data"
    },
    {
     "name": "stdout",
     "output_type": "stream",
     "text": [
      "Chunk data/train_data\\train_data_4.pq\n",
      "['data/train_data\\\\train_data_0.pq', 'data/train_data\\\\train_data_1.pq', 'data/train_data\\\\train_data_10.pq', 'data/train_data\\\\train_data_11.pq', 'data/train_data\\\\train_data_2.pq', 'data/train_data\\\\train_data_3.pq', 'data/train_data\\\\train_data_4.pq', 'data/train_data\\\\train_data_5.pq', 'data/train_data\\\\train_data_6.pq', 'data/train_data\\\\train_data_7.pq', 'data/train_data\\\\train_data_8.pq', 'data/train_data\\\\train_data_9.pq']\n",
      "Reading chunks!\n",
      "Read chunk: data/train_data\\train_data_5.pq\n"
     ]
    },
    {
     "data": {
      "application/vnd.jupyter.widget-view+json": {
       "model_id": "5e3d5f1011ef4ccf9f1a1cb8afe64495",
       "version_major": 2,
       "version_minor": 0
      },
      "text/plain": [
       "Reading chunks with pandas!:   0%|          | 0/1 [00:00<?, ?it/s]"
      ]
     },
     "metadata": {},
     "output_type": "display_data"
    },
    {
     "name": "stdout",
     "output_type": "stream",
     "text": [
      "Chunk data/train_data\\train_data_5.pq\n",
      "['data/train_data\\\\train_data_0.pq', 'data/train_data\\\\train_data_1.pq', 'data/train_data\\\\train_data_10.pq', 'data/train_data\\\\train_data_11.pq', 'data/train_data\\\\train_data_2.pq', 'data/train_data\\\\train_data_3.pq', 'data/train_data\\\\train_data_4.pq', 'data/train_data\\\\train_data_5.pq', 'data/train_data\\\\train_data_6.pq', 'data/train_data\\\\train_data_7.pq', 'data/train_data\\\\train_data_8.pq', 'data/train_data\\\\train_data_9.pq']\n",
      "Reading chunks!\n",
      "Read chunk: data/train_data\\train_data_6.pq\n"
     ]
    },
    {
     "data": {
      "application/vnd.jupyter.widget-view+json": {
       "model_id": "9743e9b0f83842289101e7d2cdf9507f",
       "version_major": 2,
       "version_minor": 0
      },
      "text/plain": [
       "Reading chunks with pandas!:   0%|          | 0/1 [00:00<?, ?it/s]"
      ]
     },
     "metadata": {},
     "output_type": "display_data"
    },
    {
     "name": "stdout",
     "output_type": "stream",
     "text": [
      "Chunk data/train_data\\train_data_6.pq\n",
      "['data/train_data\\\\train_data_0.pq', 'data/train_data\\\\train_data_1.pq', 'data/train_data\\\\train_data_10.pq', 'data/train_data\\\\train_data_11.pq', 'data/train_data\\\\train_data_2.pq', 'data/train_data\\\\train_data_3.pq', 'data/train_data\\\\train_data_4.pq', 'data/train_data\\\\train_data_5.pq', 'data/train_data\\\\train_data_6.pq', 'data/train_data\\\\train_data_7.pq', 'data/train_data\\\\train_data_8.pq', 'data/train_data\\\\train_data_9.pq']\n",
      "Reading chunks!\n",
      "Read chunk: data/train_data\\train_data_7.pq\n"
     ]
    },
    {
     "data": {
      "application/vnd.jupyter.widget-view+json": {
       "model_id": "8ee1d143d61d4c74affc9fc543779b74",
       "version_major": 2,
       "version_minor": 0
      },
      "text/plain": [
       "Reading chunks with pandas!:   0%|          | 0/1 [00:00<?, ?it/s]"
      ]
     },
     "metadata": {},
     "output_type": "display_data"
    },
    {
     "name": "stdout",
     "output_type": "stream",
     "text": [
      "Chunk data/train_data\\train_data_7.pq\n",
      "['data/train_data\\\\train_data_0.pq', 'data/train_data\\\\train_data_1.pq', 'data/train_data\\\\train_data_10.pq', 'data/train_data\\\\train_data_11.pq', 'data/train_data\\\\train_data_2.pq', 'data/train_data\\\\train_data_3.pq', 'data/train_data\\\\train_data_4.pq', 'data/train_data\\\\train_data_5.pq', 'data/train_data\\\\train_data_6.pq', 'data/train_data\\\\train_data_7.pq', 'data/train_data\\\\train_data_8.pq', 'data/train_data\\\\train_data_9.pq']\n",
      "Reading chunks!\n",
      "Read chunk: data/train_data\\train_data_8.pq\n"
     ]
    },
    {
     "data": {
      "application/vnd.jupyter.widget-view+json": {
       "model_id": "705f82b486334b5eb18e301b1815947d",
       "version_major": 2,
       "version_minor": 0
      },
      "text/plain": [
       "Reading chunks with pandas!:   0%|          | 0/1 [00:00<?, ?it/s]"
      ]
     },
     "metadata": {},
     "output_type": "display_data"
    },
    {
     "name": "stdout",
     "output_type": "stream",
     "text": [
      "Chunk data/train_data\\train_data_8.pq\n",
      "['data/train_data\\\\train_data_0.pq', 'data/train_data\\\\train_data_1.pq', 'data/train_data\\\\train_data_10.pq', 'data/train_data\\\\train_data_11.pq', 'data/train_data\\\\train_data_2.pq', 'data/train_data\\\\train_data_3.pq', 'data/train_data\\\\train_data_4.pq', 'data/train_data\\\\train_data_5.pq', 'data/train_data\\\\train_data_6.pq', 'data/train_data\\\\train_data_7.pq', 'data/train_data\\\\train_data_8.pq', 'data/train_data\\\\train_data_9.pq']\n",
      "Reading chunks!\n",
      "Read chunk: data/train_data\\train_data_9.pq\n"
     ]
    },
    {
     "data": {
      "application/vnd.jupyter.widget-view+json": {
       "model_id": "02782ee1b49541a098eaf9203d2aefcb",
       "version_major": 2,
       "version_minor": 0
      },
      "text/plain": [
       "Reading chunks with pandas!:   0%|          | 0/1 [00:00<?, ?it/s]"
      ]
     },
     "metadata": {},
     "output_type": "display_data"
    },
    {
     "name": "stdout",
     "output_type": "stream",
     "text": [
      "Chunk data/train_data\\train_data_9.pq\n",
      "['data/preprocess_train_data\\\\processed_chunk_count_agg_000.parquet', 'data/preprocess_train_data\\\\processed_chunk_count_agg_001.parquet', 'data/preprocess_train_data\\\\processed_chunk_count_agg_002.parquet', 'data/preprocess_train_data\\\\processed_chunk_count_agg_003.parquet', 'data/preprocess_train_data\\\\processed_chunk_count_agg_004.parquet', 'data/preprocess_train_data\\\\processed_chunk_count_agg_005.parquet', 'data/preprocess_train_data\\\\processed_chunk_count_agg_006.parquet', 'data/preprocess_train_data\\\\processed_chunk_count_agg_007.parquet', 'data/preprocess_train_data\\\\processed_chunk_count_agg_008.parquet', 'data/preprocess_train_data\\\\processed_chunk_count_agg_009.parquet', 'data/preprocess_train_data\\\\processed_chunk_count_agg_010.parquet', 'data/preprocess_train_data\\\\processed_chunk_count_agg_011.parquet']\n",
      "Reading chunks!\n"
     ]
    },
    {
     "data": {
      "application/vnd.jupyter.widget-view+json": {
       "model_id": "4ff890c7989645b5ae70232369014381",
       "version_major": 2,
       "version_minor": 0
      },
      "text/plain": [
       "Reading chunks in COUNT frames:   0%|          | 0/12 [00:00<?, ?it/s]"
      ]
     },
     "metadata": {},
     "output_type": "display_data"
    },
    {
     "data": {
      "application/vnd.jupyter.widget-view+json": {
       "model_id": "8034948459cc4a918c4da73614124805",
       "version_major": 2,
       "version_minor": 0
      },
      "text/plain": [
       "Reading chunks in WEIGHT frames:   0%|          | 0/12 [00:00<?, ?it/s]"
      ]
     },
     "metadata": {},
     "output_type": "display_data"
    },
    {
     "name": "stdout",
     "output_type": "stream",
     "text": [
      "Фрейм сохранен по пути data/process_data\\train_data_w_target.csv\n"
     ]
    }
   ],
   "source": [
    "X_train, X_test, y_train, y_test = pipeline()"
   ]
  },
  {
   "cell_type": "code",
   "execution_count": 7,
   "id": "7a80ff8e",
   "metadata": {},
   "outputs": [
    {
     "name": "stdout",
     "output_type": "stream",
     "text": [
      "Размеры обучающей выборки: (2400000, 839)\n",
      "Размеры тестовой выбоки (600000, 839)\n"
     ]
    }
   ],
   "source": [
    "print('Размеры обучающей выборки:', X_train.shape)\n",
    "print('Размеры тестовой выбоки', X_test.shape)"
   ]
  },
  {
   "cell_type": "code",
   "execution_count": 8,
   "id": "bc2ab7e1",
   "metadata": {},
   "outputs": [],
   "source": [
    "agg_model_scores = []"
   ]
  },
  {
   "cell_type": "code",
   "execution_count": 9,
   "id": "a4c0d6d5",
   "metadata": {},
   "outputs": [],
   "source": [
    "def make_df_for_modelling(path_to_data: str, target: str):\n",
    "    \n",
    "    data = pd.read_csv(os.path.join(path, 'train_data_w_target.csv'), index_col=0)\n",
    "    data[['id', 'flag']] = data[['id', 'flag']].astype(int)\n",
    "    data.drop(['id'], axis=1, inplace=True)\n",
    "\n",
    "    features = list(data.columns.values)\n",
    "    features.remove(target)\n",
    "\n",
    "    X = data[features]\n",
    "    y = data[target]\n",
    "    \n",
    "    X_train, X_test, y_train, y_test = train_test_split(X, y, test_size=0.2, shuffle=True, stratify = y, random_state=42)\n",
    "    \n",
    "    return X_train, X_test, y_train, y_test"
   ]
  },
  {
   "cell_type": "markdown",
   "id": "d38c4bdf",
   "metadata": {},
   "source": [
    "#### Catboost Classifier"
   ]
  },
  {
   "cell_type": "code",
   "execution_count": 10,
   "id": "0e5091c3",
   "metadata": {},
   "outputs": [
    {
     "data": {
      "application/vnd.jupyter.widget-view+json": {
       "model_id": "e5e6838e45104527968ff1b5fe5fd174",
       "version_major": 2,
       "version_minor": 0
      },
      "text/plain": [
       "MetricVisualizer(layout=Layout(align_self='stretch', height='500px'))"
      ]
     },
     "metadata": {},
     "output_type": "display_data"
    },
    {
     "name": "stderr",
     "output_type": "stream",
     "text": [
      "Default metric period is 5 because AUC is/are not implemented for GPU\n",
      "Default metric period is 5 because AUC is/are not implemented for GPU\n"
     ]
    },
    {
     "name": "stdout",
     "output_type": "stream",
     "text": [
      "0:\ttest: 0.6659016\tbest: 0.6659016 (0)\ttotal: 361ms\tremaining: 30m 3s\n",
      "1000:\ttest: 0.7508651\tbest: 0.7508651 (1000)\ttotal: 2m 29s\tremaining: 9m 56s\n",
      "2000:\ttest: 0.7537392\tbest: 0.7537419 (1939)\ttotal: 4m 27s\tremaining: 6m 41s\n",
      "3000:\ttest: 0.7542410\tbest: 0.7542414 (2981)\ttotal: 6m 13s\tremaining: 4m 9s\n",
      "4000:\ttest: 0.7545777\tbest: 0.7545777 (4000)\ttotal: 7m 59s\tremaining: 1m 59s\n",
      "4999:\ttest: 0.7559461\tbest: 0.7559461 (4996)\ttotal: 9m 54s\tremaining: 0us\n",
      "bestTest = 0.75594607\n",
      "bestIteration = 4996\n",
      "Metric AUC is not calculated on train by default. To calculate this metric on train, add hints=skip_train~false to metric parameters.\n",
      "0:\tloss: 0.7559461\tbest: 0.7559461 (0)\ttotal: 10m\tremaining: 1h 20m 7s\n"
     ]
    },
    {
     "name": "stderr",
     "output_type": "stream",
     "text": [
      "Default metric period is 5 because AUC is/are not implemented for GPU\n"
     ]
    },
    {
     "name": "stdout",
     "output_type": "stream",
     "text": [
      "0:\ttest: 0.6659016\tbest: 0.6659016 (0)\ttotal: 170ms\tremaining: 14m 9s\n",
      "1000:\ttest: 0.7513872\tbest: 0.7513872 (1000)\ttotal: 2m 30s\tremaining: 10m 1s\n",
      "2000:\ttest: 0.7564647\tbest: 0.7564647 (2000)\ttotal: 4m 41s\tremaining: 7m 2s\n",
      "3000:\ttest: 0.7578177\tbest: 0.7578179 (2960)\ttotal: 6m 37s\tremaining: 4m 25s\n",
      "4000:\ttest: 0.7580073\tbest: 0.7580073 (3975)\ttotal: 8m 22s\tremaining: 2m 5s\n",
      "4999:\ttest: 0.7582775\tbest: 0.7582775 (4997)\ttotal: 10m 7s\tremaining: 0us\n",
      "bestTest = 0.7582775354\n",
      "bestIteration = 4997\n",
      "Metric AUC is not calculated on train by default. To calculate this metric on train, add hints=skip_train~false to metric parameters.\n"
     ]
    },
    {
     "name": "stderr",
     "output_type": "stream",
     "text": [
      "Default metric period is 5 because AUC is/are not implemented for GPU\n"
     ]
    },
    {
     "name": "stdout",
     "output_type": "stream",
     "text": [
      "0:\ttest: 0.6659016\tbest: 0.6659016 (0)\ttotal: 171ms\tremaining: 14m 15s\n",
      "1000:\ttest: 0.7522424\tbest: 0.7522424 (1000)\ttotal: 2m 32s\tremaining: 10m 9s\n",
      "2000:\ttest: 0.7574733\tbest: 0.7574733 (2000)\ttotal: 4m 49s\tremaining: 7m 13s\n",
      "3000:\ttest: 0.7595027\tbest: 0.7595027 (2999)\ttotal: 6m 54s\tremaining: 4m 36s\n",
      "4000:\ttest: 0.7609833\tbest: 0.7609833 (4000)\ttotal: 9m 4s\tremaining: 2m 15s\n",
      "4999:\ttest: 0.7626693\tbest: 0.7626693 (4997)\ttotal: 11m 21s\tremaining: 0us\n",
      "bestTest = 0.7626692653\n",
      "bestIteration = 4997\n",
      "Metric AUC is not calculated on train by default. To calculate this metric on train, add hints=skip_train~false to metric parameters.\n"
     ]
    },
    {
     "name": "stderr",
     "output_type": "stream",
     "text": [
      "Default metric period is 5 because AUC is/are not implemented for GPU\n"
     ]
    },
    {
     "name": "stdout",
     "output_type": "stream",
     "text": [
      "0:\ttest: 0.6779470\tbest: 0.6779470 (0)\ttotal: 216ms\tremaining: 18m\n",
      "1000:\ttest: 0.7516986\tbest: 0.7516986 (1000)\ttotal: 2m 50s\tremaining: 11m 22s\n",
      "2000:\ttest: 0.7534324\tbest: 0.7534324 (1885)\ttotal: 4m 55s\tremaining: 7m 22s\n",
      "3000:\ttest: 0.7537797\tbest: 0.7537797 (2787)\ttotal: 6m 45s\tremaining: 4m 30s\n",
      "bestTest = 0.7538070083\n",
      "bestIteration = 3030\n",
      "Metric AUC is not calculated on train by default. To calculate this metric on train, add hints=skip_train~false to metric parameters.\n"
     ]
    },
    {
     "name": "stderr",
     "output_type": "stream",
     "text": [
      "Default metric period is 5 because AUC is/are not implemented for GPU\n"
     ]
    },
    {
     "name": "stdout",
     "output_type": "stream",
     "text": [
      "0:\ttest: 0.6779470\tbest: 0.6779470 (0)\ttotal: 214ms\tremaining: 17m 51s\n",
      "1000:\ttest: 0.7532753\tbest: 0.7532753 (1000)\ttotal: 2m 58s\tremaining: 11m 51s\n",
      "2000:\ttest: 0.7579912\tbest: 0.7579921 (1998)\ttotal: 5m 28s\tremaining: 8m 12s\n",
      "3000:\ttest: 0.7590410\tbest: 0.7590410 (2993)\ttotal: 7m 32s\tremaining: 5m 1s\n",
      "4000:\ttest: 0.7595808\tbest: 0.7595808 (3986)\ttotal: 9m 32s\tremaining: 2m 23s\n",
      "4999:\ttest: 0.7597502\tbest: 0.7597504 (4971)\ttotal: 11m 29s\tremaining: 0us\n",
      "bestTest = 0.7597503662\n",
      "bestIteration = 4971\n",
      "Metric AUC is not calculated on train by default. To calculate this metric on train, add hints=skip_train~false to metric parameters.\n"
     ]
    },
    {
     "name": "stderr",
     "output_type": "stream",
     "text": [
      "Default metric period is 5 because AUC is/are not implemented for GPU\n"
     ]
    },
    {
     "name": "stdout",
     "output_type": "stream",
     "text": [
      "0:\ttest: 0.6779470\tbest: 0.6779470 (0)\ttotal: 215ms\tremaining: 17m 56s\n",
      "1000:\ttest: 0.7551841\tbest: 0.7551841 (999)\ttotal: 3m 8s\tremaining: 12m 31s\n",
      "2000:\ttest: 0.7594756\tbest: 0.7594756 (2000)\ttotal: 5m 43s\tremaining: 8m 34s\n",
      "3000:\ttest: 0.7617962\tbest: 0.7617962 (2999)\ttotal: 8m 22s\tremaining: 5m 34s\n",
      "4000:\ttest: 0.7633075\tbest: 0.7633075 (4000)\ttotal: 11m\tremaining: 2m 45s\n",
      "4999:\ttest: 0.7642968\tbest: 0.7642974 (4998)\ttotal: 13m 28s\tremaining: 0us\n",
      "bestTest = 0.7642973959\n",
      "bestIteration = 4998\n",
      "Metric AUC is not calculated on train by default. To calculate this metric on train, add hints=skip_train~false to metric parameters.\n"
     ]
    },
    {
     "name": "stderr",
     "output_type": "stream",
     "text": [
      "Default metric period is 5 because AUC is/are not implemented for GPU\n"
     ]
    },
    {
     "name": "stdout",
     "output_type": "stream",
     "text": [
      "0:\ttest: 0.6897177\tbest: 0.6897177 (0)\ttotal: 267ms\tremaining: 22m 14s\n",
      "1000:\ttest: 0.7512361\tbest: 0.7512361 (999)\ttotal: 3m 17s\tremaining: 13m 8s\n",
      "2000:\ttest: 0.7539968\tbest: 0.7539968 (1997)\ttotal: 5m 39s\tremaining: 8m 29s\n",
      "bestTest = 0.7541826069\n",
      "bestIteration = 2279\n",
      "Metric AUC is not calculated on train by default. To calculate this metric on train, add hints=skip_train~false to metric parameters.\n"
     ]
    },
    {
     "name": "stderr",
     "output_type": "stream",
     "text": [
      "Default metric period is 5 because AUC is/are not implemented for GPU\n"
     ]
    },
    {
     "name": "stdout",
     "output_type": "stream",
     "text": [
      "0:\ttest: 0.6897177\tbest: 0.6897177 (0)\ttotal: 267ms\tremaining: 22m 12s\n",
      "1000:\ttest: 0.7545661\tbest: 0.7545661 (998)\ttotal: 3m 37s\tremaining: 14m 28s\n",
      "2000:\ttest: 0.7576615\tbest: 0.7576630 (1904)\ttotal: 6m 13s\tremaining: 9m 20s\n",
      "3000:\ttest: 0.7587741\tbest: 0.7587744 (2995)\ttotal: 8m 21s\tremaining: 5m 33s\n",
      "4000:\ttest: 0.7589313\tbest: 0.7589313 (3703)\ttotal: 10m 6s\tremaining: 2m 31s\n",
      "4999:\ttest: 0.7590054\tbest: 0.7590054 (4872)\ttotal: 11m 51s\tremaining: 0us\n",
      "bestTest = 0.7590053678\n",
      "bestIteration = 4872\n",
      "Metric AUC is not calculated on train by default. To calculate this metric on train, add hints=skip_train~false to metric parameters.\n"
     ]
    },
    {
     "name": "stderr",
     "output_type": "stream",
     "text": [
      "Default metric period is 5 because AUC is/are not implemented for GPU\n"
     ]
    },
    {
     "name": "stdout",
     "output_type": "stream",
     "text": [
      "0:\ttest: 0.6897177\tbest: 0.6897177 (0)\ttotal: 268ms\tremaining: 22m 17s\n",
      "1000:\ttest: 0.7563851\tbest: 0.7563851 (1000)\ttotal: 3m 51s\tremaining: 15m 26s\n",
      "2000:\ttest: 0.7607524\tbest: 0.7607524 (1999)\ttotal: 7m 5s\tremaining: 10m 37s\n",
      "3000:\ttest: 0.7626578\tbest: 0.7626578 (3000)\ttotal: 10m 6s\tremaining: 6m 44s\n",
      "4000:\ttest: 0.7636035\tbest: 0.7636038 (3993)\ttotal: 13m 7s\tremaining: 3m 16s\n",
      "4999:\ttest: 0.7641729\tbest: 0.7641729 (4999)\ttotal: 15m 59s\tremaining: 0us\n",
      "bestTest = 0.764172852\n",
      "bestIteration = 4999\n",
      "Metric AUC is not calculated on train by default. To calculate this metric on train, add hints=skip_train~false to metric parameters.\n",
      "8:\tloss: 0.7641729\tbest: 0.7642974 (5)\ttotal: 1h 38m 54s\tremaining: 0us\n",
      "Estimating final quality...\n"
     ]
    },
    {
     "name": "stderr",
     "output_type": "stream",
     "text": [
      "Default metric period is 5 because AUC is/are not implemented for GPU\n",
      "Warning: Overfitting detector is active, thus evaluation metric is calculated on every iteration. 'metric_period' is ignored for evaluation metric.\n"
     ]
    },
    {
     "name": "stdout",
     "output_type": "stream",
     "text": [
      "Training on fold [0/5]\n",
      "0:\ttest: 0.6807334\tbest: 0.6807334 (0)\ttotal: 224ms\tremaining: 18m 39s\n",
      "1000:\ttest: 0.7546948\tbest: 0.7546948 (999)\ttotal: 3m 1s\tremaining: 12m 3s\n",
      "2000:\ttest: 0.7596336\tbest: 0.7596336 (1998)\ttotal: 5m 40s\tremaining: 8m 29s\n",
      "3000:\ttest: 0.7621096\tbest: 0.7621096 (2999)\ttotal: 8m 10s\tremaining: 5m 26s\n",
      "4000:\ttest: 0.7630756\tbest: 0.7630756 (3982)\ttotal: 10m 18s\tremaining: 2m 34s\n",
      "4999:\ttest: 0.7634505\tbest: 0.7634505 (4999)\ttotal: 12m 12s\tremaining: 0us\n",
      "bestTest = 0.7634504735\n",
      "bestIteration = 4999\n",
      "Training on fold [1/5]\n",
      "0:\ttest: 0.6753471\tbest: 0.6753471 (0)\ttotal: 367ms\tremaining: 30m 34s\n",
      "1000:\ttest: 0.7528476\tbest: 0.7528476 (1000)\ttotal: 3m 3s\tremaining: 12m 12s\n",
      "2000:\ttest: 0.7573181\tbest: 0.7573181 (2000)\ttotal: 5m 34s\tremaining: 8m 21s\n",
      "3000:\ttest: 0.7601995\tbest: 0.7601995 (3000)\ttotal: 8m 11s\tremaining: 5m 27s\n",
      "4000:\ttest: 0.7619949\tbest: 0.7619949 (4000)\ttotal: 10m 51s\tremaining: 2m 42s\n",
      "4999:\ttest: 0.7633466\tbest: 0.7633477 (4997)\ttotal: 13m 39s\tremaining: 0us\n",
      "bestTest = 0.7633476853\n",
      "bestIteration = 4997\n",
      "Training on fold [2/5]\n",
      "0:\ttest: 0.6805421\tbest: 0.6805421 (0)\ttotal: 222ms\tremaining: 18m 31s\n",
      "1000:\ttest: 0.7579871\tbest: 0.7579871 (1000)\ttotal: 3m 7s\tremaining: 12m 28s\n",
      "2000:\ttest: 0.7628069\tbest: 0.7628069 (2000)\ttotal: 5m 43s\tremaining: 8m 34s\n",
      "3000:\ttest: 0.7659396\tbest: 0.7659401 (2999)\ttotal: 8m 28s\tremaining: 5m 38s\n",
      "4000:\ttest: 0.7673330\tbest: 0.7673330 (3999)\ttotal: 11m 8s\tremaining: 2m 46s\n",
      "4999:\ttest: 0.7679783\tbest: 0.7679788 (4993)\ttotal: 13m 33s\tremaining: 0us\n",
      "bestTest = 0.7679787576\n",
      "bestIteration = 4993\n",
      "Training on fold [3/5]\n",
      "0:\ttest: 0.6795714\tbest: 0.6795714 (0)\ttotal: 438ms\tremaining: 36m 29s\n",
      "1000:\ttest: 0.7556852\tbest: 0.7556852 (1000)\ttotal: 3m 5s\tremaining: 12m 21s\n",
      "2000:\ttest: 0.7601938\tbest: 0.7601938 (1997)\ttotal: 5m 36s\tremaining: 8m 25s\n",
      "3000:\ttest: 0.7633213\tbest: 0.7633213 (3000)\ttotal: 8m 19s\tremaining: 5m 32s\n",
      "4000:\ttest: 0.7650169\tbest: 0.7650169 (4000)\ttotal: 11m 9s\tremaining: 2m 47s\n",
      "4999:\ttest: 0.7659056\tbest: 0.7659056 (4999)\ttotal: 13m 54s\tremaining: 0us\n",
      "bestTest = 0.7659055889\n",
      "bestIteration = 4999\n",
      "Training on fold [4/5]\n",
      "0:\ttest: 0.6773392\tbest: 0.6773392 (0)\ttotal: 435ms\tremaining: 36m 12s\n",
      "1000:\ttest: 0.7554584\tbest: 0.7554584 (998)\ttotal: 3m 14s\tremaining: 12m 58s\n",
      "2000:\ttest: 0.7594240\tbest: 0.7594240 (2000)\ttotal: 5m 48s\tremaining: 8m 42s\n",
      "3000:\ttest: 0.7617276\tbest: 0.7617276 (3000)\ttotal: 8m 20s\tremaining: 5m 33s\n",
      "4000:\ttest: 0.7637171\tbest: 0.7637171 (4000)\ttotal: 11m 8s\tremaining: 2m 46s\n",
      "4999:\ttest: 0.7643713\tbest: 0.7644085 (4758)\ttotal: 13m 41s\tremaining: 0us\n",
      "bestTest = 0.764408499\n",
      "bestIteration = 4758\n"
     ]
    },
    {
     "name": "stderr",
     "output_type": "stream",
     "text": [
      "Default metric period is 5 because AUC is/are not implemented for GPU\n"
     ]
    }
   ],
   "source": [
    "catboost = CatBoostClassifier(\n",
    "            eval_metric='AUC',\n",
    "            verbose=1000,\n",
    "            task_type='GPU',\n",
    "            iterations=5000,\n",
    "            early_stopping_rounds=400,\n",
    "            loss_function='Logloss',\n",
    "            learning_rate=0.01,\n",
    "            auto_class_weights='Balanced',\n",
    "            random_state=42,\n",
    "            boosting_type='Ordered',\n",
    "            bootstrap_type='Bernoulli',\n",
    "            subsample=0.5,\n",
    "            leaf_estimation_iterations=5,\n",
    "            max_ctr_complexity=1)\n",
    "\n",
    "params = {\n",
    "    'depth': [4, 5, 6],\n",
    "    'l2_leaf_reg': [2, 3, 4]   \n",
    "}\n",
    "\n",
    "search_results = catboost.grid_search(params, X_train, y_train, cv=5, plot=True, verbose=1000)"
   ]
  },
  {
   "cell_type": "code",
   "execution_count": 11,
   "id": "fb45a08d",
   "metadata": {},
   "outputs": [],
   "source": [
    "best_params_catboost = catboost.get_params()"
   ]
  },
  {
   "cell_type": "code",
   "execution_count": 12,
   "id": "a56e4ccb",
   "metadata": {},
   "outputs": [
    {
     "data": {
      "text/plain": [
       "0"
      ]
     },
     "execution_count": 12,
     "metadata": {},
     "output_type": "execute_result"
    }
   ],
   "source": [
    "gc.collect()"
   ]
  },
  {
   "cell_type": "code",
   "execution_count": 13,
   "id": "1558a82c",
   "metadata": {},
   "outputs": [
    {
     "name": "stdout",
     "output_type": "stream",
     "text": [
      "Fold 1 started\n"
     ]
    },
    {
     "name": "stderr",
     "output_type": "stream",
     "text": [
      "Default metric period is 5 because AUC is/are not implemented for GPU\n"
     ]
    },
    {
     "name": "stdout",
     "output_type": "stream",
     "text": [
      "0:\ttest: 0.6791353\tbest: 0.6791353 (0)\ttotal: 225ms\tremaining: 18m 46s\n",
      "1000:\ttest: 0.7566491\tbest: 0.7566491 (1000)\ttotal: 3m 8s\tremaining: 12m 31s\n",
      "2000:\ttest: 0.7625438\tbest: 0.7625438 (2000)\ttotal: 6m 5s\tremaining: 9m 8s\n",
      "3000:\ttest: 0.7647199\tbest: 0.7647201 (2999)\ttotal: 8m 50s\tremaining: 5m 53s\n",
      "4000:\ttest: 0.7660391\tbest: 0.7660391 (4000)\ttotal: 11m 38s\tremaining: 2m 54s\n",
      "4999:\ttest: 0.7670122\tbest: 0.7670122 (4999)\ttotal: 14m 24s\tremaining: 0us\n",
      "bestTest = 0.7670122087\n",
      "bestIteration = 4999\n",
      "ROC AUC SCORE: 0.7670122242726762\n",
      "Fold 2 started\n"
     ]
    },
    {
     "name": "stderr",
     "output_type": "stream",
     "text": [
      "Default metric period is 5 because AUC is/are not implemented for GPU\n"
     ]
    },
    {
     "name": "stdout",
     "output_type": "stream",
     "text": [
      "0:\ttest: 0.6766360\tbest: 0.6766360 (0)\ttotal: 229ms\tremaining: 19m 3s\n",
      "1000:\ttest: 0.7541778\tbest: 0.7541778 (999)\ttotal: 3m 3s\tremaining: 12m 13s\n",
      "2000:\ttest: 0.7596983\tbest: 0.7596983 (2000)\ttotal: 5m 43s\tremaining: 8m 34s\n",
      "3000:\ttest: 0.7630168\tbest: 0.7630168 (3000)\ttotal: 8m 41s\tremaining: 5m 47s\n",
      "4000:\ttest: 0.7642345\tbest: 0.7642345 (4000)\ttotal: 11m 26s\tremaining: 2m 51s\n",
      "4999:\ttest: 0.7643392\tbest: 0.7643397 (4997)\ttotal: 13m 45s\tremaining: 0us\n",
      "bestTest = 0.7643396854\n",
      "bestIteration = 4997\n",
      "Shrink model to first 4998 iterations.\n",
      "ROC AUC SCORE: 0.7643396464970058\n",
      "Fold 3 started\n"
     ]
    },
    {
     "name": "stderr",
     "output_type": "stream",
     "text": [
      "Default metric period is 5 because AUC is/are not implemented for GPU\n"
     ]
    },
    {
     "name": "stdout",
     "output_type": "stream",
     "text": [
      "0:\ttest: 0.6770013\tbest: 0.6770013 (0)\ttotal: 222ms\tremaining: 18m 31s\n",
      "1000:\ttest: 0.7534680\tbest: 0.7534680 (1000)\ttotal: 3m 5s\tremaining: 12m 19s\n",
      "2000:\ttest: 0.7593266\tbest: 0.7593266 (2000)\ttotal: 5m 59s\tremaining: 8m 58s\n",
      "3000:\ttest: 0.7619958\tbest: 0.7619958 (3000)\ttotal: 8m 54s\tremaining: 5m 56s\n",
      "4000:\ttest: 0.7629983\tbest: 0.7630003 (3993)\ttotal: 11m 36s\tremaining: 2m 53s\n",
      "4999:\ttest: 0.7632692\tbest: 0.7632692 (4999)\ttotal: 14m 6s\tremaining: 0us\n",
      "bestTest = 0.7632692158\n",
      "bestIteration = 4999\n",
      "ROC AUC SCORE: 0.763269259841848\n",
      "Fold 4 started\n"
     ]
    },
    {
     "name": "stderr",
     "output_type": "stream",
     "text": [
      "Default metric period is 5 because AUC is/are not implemented for GPU\n"
     ]
    },
    {
     "name": "stdout",
     "output_type": "stream",
     "text": [
      "0:\ttest: 0.6784991\tbest: 0.6784991 (0)\ttotal: 222ms\tremaining: 18m 29s\n",
      "1000:\ttest: 0.7544881\tbest: 0.7544881 (1000)\ttotal: 3m\tremaining: 12m\n",
      "2000:\ttest: 0.7594315\tbest: 0.7594315 (1999)\ttotal: 5m 35s\tremaining: 8m 22s\n",
      "3000:\ttest: 0.7622085\tbest: 0.7622085 (2995)\ttotal: 8m 10s\tremaining: 5m 26s\n",
      "4000:\ttest: 0.7641071\tbest: 0.7641071 (4000)\ttotal: 10m 56s\tremaining: 2m 43s\n",
      "4999:\ttest: 0.7650754\tbest: 0.7650754 (4997)\ttotal: 13m 36s\tremaining: 0us\n",
      "bestTest = 0.7650754452\n",
      "bestIteration = 4997\n",
      "Shrink model to first 4998 iterations.\n",
      "ROC AUC SCORE: 0.7650754257275283\n",
      "Fold 5 started\n"
     ]
    },
    {
     "name": "stderr",
     "output_type": "stream",
     "text": [
      "Default metric period is 5 because AUC is/are not implemented for GPU\n"
     ]
    },
    {
     "name": "stdout",
     "output_type": "stream",
     "text": [
      "0:\ttest: 0.6829214\tbest: 0.6829214 (0)\ttotal: 224ms\tremaining: 18m 37s\n",
      "1000:\ttest: 0.7590761\tbest: 0.7590761 (1000)\ttotal: 3m 10s\tremaining: 12m 39s\n",
      "2000:\ttest: 0.7646350\tbest: 0.7646350 (2000)\ttotal: 6m 8s\tremaining: 9m 11s\n",
      "3000:\ttest: 0.7671057\tbest: 0.7671057 (3000)\ttotal: 9m 2s\tremaining: 6m 1s\n",
      "4000:\ttest: 0.7679885\tbest: 0.7679913 (3988)\ttotal: 11m 52s\tremaining: 2m 57s\n",
      "bestTest = 0.7680775821\n",
      "bestIteration = 4177\n",
      "Shrink model to first 4178 iterations.\n",
      "ROC AUC SCORE: 0.7680775769335368\n"
     ]
    }
   ],
   "source": [
    "cv = StratifiedKFold(n_splits = 5, random_state=42, shuffle=True)\n",
    "\n",
    "models_catboost = []\n",
    "metrics_catboost = []\n",
    "\n",
    "for i, (train_indexes, test_indexes) in enumerate(cv.split(X_train, y_train), start=1):\n",
    "    \n",
    "    print(f'Fold {i} started')\n",
    "    \n",
    "    model = CatBoostClassifier(**best_params_catboost)\n",
    "    \n",
    "    y_tr, y_v = y_train.iloc[train_indexes], y_train.iloc[test_indexes]\n",
    "    X_tr, X_v = X_train.iloc[train_indexes], X_train.iloc[test_indexes]\n",
    "    \n",
    "    fit_model = model.fit(X_tr, y_tr, eval_set=(X_v.values, y_v.values),\n",
    "                          use_best_model = True, plot=False)\n",
    "    \n",
    "    predictions = fit_model.predict_proba(X_v)[:, 1]\n",
    "    print('ROC AUC SCORE:', roc_auc_score(y_v, predictions))\n",
    "    \n",
    "    models_catboost.append(fit_model)\n",
    "    metrics_catboost.append(roc_auc_score(y_v, predictions))\n"
   ]
  },
  {
   "cell_type": "code",
   "execution_count": 14,
   "id": "0b6e0ca2",
   "metadata": {},
   "outputs": [],
   "source": [
    "agg_model_scores.append(['CatBoostClassifier', metrics_catboost])"
   ]
  },
  {
   "cell_type": "code",
   "execution_count": 15,
   "id": "0a1bc5b1",
   "metadata": {},
   "outputs": [
    {
     "data": {
      "text/plain": [
       "0"
      ]
     },
     "execution_count": 15,
     "metadata": {},
     "output_type": "execute_result"
    }
   ],
   "source": [
    "gc.collect()"
   ]
  },
  {
   "cell_type": "code",
   "execution_count": 16,
   "id": "4eacd32d",
   "metadata": {},
   "outputs": [
    {
     "name": "stderr",
     "output_type": "stream",
     "text": [
      "Default metric period is 5 because AUC is/are not implemented for GPU\n"
     ]
    },
    {
     "name": "stdout",
     "output_type": "stream",
     "text": [
      "0:\ttotal: 235ms\tremaining: 19m 35s\n",
      "1000:\ttotal: 3m 11s\tremaining: 12m 43s\n",
      "2000:\ttotal: 6m 4s\tremaining: 9m 6s\n",
      "3000:\ttotal: 8m 51s\tremaining: 5m 54s\n",
      "4000:\ttotal: 11m 34s\tremaining: 2m 53s\n",
      "4999:\ttotal: 14m 22s\tremaining: 0us\n",
      "ROC_AUC_SCORE: 0.7680675250876807\n"
     ]
    }
   ],
   "source": [
    "best_cat = CatBoostClassifier(**best_params_catboost).fit(X_train, y_train)\n",
    "print('ROC_AUC_SCORE:', roc_auc_score(y_test, best_cat.predict_proba(X_test)[:, 1]))"
   ]
  },
  {
   "cell_type": "code",
   "execution_count": 17,
   "id": "7251da8e",
   "metadata": {},
   "outputs": [],
   "source": [
    "path_to_save = 'pickle_model'\n",
    "model_filename_cat = f'{path_to_save}/CatClassifier_cr_sc.pkl'\n",
    "with open(model_filename_cat, 'wb') as file:\n",
    "    dill.dump(best_cat, file)"
   ]
  },
  {
   "cell_type": "markdown",
   "id": "45534bab",
   "metadata": {},
   "source": [
    "#### XGBClassifier"
   ]
  },
  {
   "cell_type": "code",
   "execution_count": 18,
   "id": "5b3e15f4",
   "metadata": {},
   "outputs": [],
   "source": [
    "def GridSearchCV_XGB_early_stoppping(param_grid, fit_params, scorer, cv, X, y):\n",
    "    if isinstance(X, pd.DataFrame):\n",
    "        X = X.to_numpy()\n",
    "    if isinstance(y, pd.Series):\n",
    "        y = y.to_numpy()\n",
    "        \n",
    "    param_names, param_values = zip(*list(param_grid.items()))\n",
    "\n",
    "    cv_best_iterations = defaultdict(list)\n",
    "    cv_results = defaultdict(list)\n",
    "\n",
    "    for train_index, test_index in cv.split(X, y):\n",
    "        X_in, X_out = X[train_index], X[test_index]\n",
    "        y_in, y_out = y[train_index], y[test_index]\n",
    "\n",
    "        fit_params_cv = deepcopy(fit_params)\n",
    "        fit_params_cv['eval_set'] = [(X_out, y_out)]\n",
    "\n",
    "        for value_combination in product(*param_values):\n",
    "            param_grid_cv = tuple(zip(param_names, value_combination))\n",
    "            xgboost = XGBClassifier(**dict(param_grid_cv))\n",
    "\n",
    "            xgboost.fit(X_in, y_in, **fit_params_cv)\n",
    "            best_iteration = xgboost.get_num_boosting_rounds() if 'early_stopping_rounds' not in fit_params_cv else xgboost.best_iteration\n",
    "            cv_best_iterations[param_grid_cv].append(best_iteration)\n",
    "\n",
    "            score = scorer(xgboost, X_out, y_out)\n",
    "            cv_results[param_grid_cv].append(score)\n",
    "        \n",
    "    best_params_xgb, score_list = max(cv_results.items(), key=lambda x: np.array(x[1]).mean())\n",
    "\n",
    "    # Note that our XGBoost model may stop early,\n",
    "    # so we calculate the mean of the actual number of estimators in each fold,\n",
    "    # in place of the originally planned n_estimators after finishing cross validation.\n",
    "    n_estimators = int(round(np.array(cv_best_iterations[best_params_xgb]).mean()))\n",
    "    \n",
    "    best_params_xgb = dict(best_params_xgb)\n",
    "    best_params_xgb['n_estimators'] = n_estimators\n",
    "\n",
    "    print (\"Best score: {:.3f}\".format(np.array(score_list).mean()))\n",
    "    print (\"Best Parameters: {}\".format(best_params_xgb))\n",
    "    \n",
    "    return best_params_xgb"
   ]
  },
  {
   "cell_type": "code",
   "execution_count": 19,
   "id": "6f4248db",
   "metadata": {},
   "outputs": [
    {
     "data": {
      "text/plain": [
       "0"
      ]
     },
     "execution_count": 19,
     "metadata": {},
     "output_type": "execute_result"
    }
   ],
   "source": [
    "gc.collect()"
   ]
  },
  {
   "cell_type": "code",
   "execution_count": 20,
   "id": "c2ccc84c",
   "metadata": {},
   "outputs": [
    {
     "name": "stderr",
     "output_type": "stream",
     "text": [
      "C:\\Users\\user\\anaconda3\\lib\\site-packages\\xgboost\\sklearn.py:835: UserWarning: `early_stopping_rounds` in `fit` method is deprecated for better compatibility with scikit-learn, use `early_stopping_rounds` in constructor or`set_params` instead.\n",
      "  warnings.warn(\n"
     ]
    },
    {
     "name": "stdout",
     "output_type": "stream",
     "text": [
      "[0]\tvalidation_0-auc:0.66242\n",
      "[300]\tvalidation_0-auc:0.76333\n",
      "[600]\tvalidation_0-auc:0.76638\n",
      "[900]\tvalidation_0-auc:0.76703\n",
      "[1200]\tvalidation_0-auc:0.76720\n",
      "[1369]\tvalidation_0-auc:0.76720\n"
     ]
    },
    {
     "name": "stderr",
     "output_type": "stream",
     "text": [
      "C:\\Users\\user\\anaconda3\\lib\\site-packages\\xgboost\\sklearn.py:835: UserWarning: `early_stopping_rounds` in `fit` method is deprecated for better compatibility with scikit-learn, use `early_stopping_rounds` in constructor or`set_params` instead.\n",
      "  warnings.warn(\n"
     ]
    },
    {
     "name": "stdout",
     "output_type": "stream",
     "text": [
      "[0]\tvalidation_0-auc:0.67617\n",
      "[300]\tvalidation_0-auc:0.76469\n",
      "[600]\tvalidation_0-auc:0.76647\n",
      "[733]\tvalidation_0-auc:0.76665\n"
     ]
    },
    {
     "name": "stderr",
     "output_type": "stream",
     "text": [
      "C:\\Users\\user\\anaconda3\\lib\\site-packages\\xgboost\\sklearn.py:835: UserWarning: `early_stopping_rounds` in `fit` method is deprecated for better compatibility with scikit-learn, use `early_stopping_rounds` in constructor or`set_params` instead.\n",
      "  warnings.warn(\n"
     ]
    },
    {
     "name": "stdout",
     "output_type": "stream",
     "text": [
      "[0]\tvalidation_0-auc:0.68694\n",
      "[300]\tvalidation_0-auc:0.76558\n",
      "[600]\tvalidation_0-auc:0.76621\n",
      "[622]\tvalidation_0-auc:0.76619\n"
     ]
    },
    {
     "name": "stderr",
     "output_type": "stream",
     "text": [
      "C:\\Users\\user\\anaconda3\\lib\\site-packages\\xgboost\\sklearn.py:835: UserWarning: `early_stopping_rounds` in `fit` method is deprecated for better compatibility with scikit-learn, use `early_stopping_rounds` in constructor or`set_params` instead.\n",
      "  warnings.warn(\n"
     ]
    },
    {
     "name": "stdout",
     "output_type": "stream",
     "text": [
      "[0]\tvalidation_0-auc:0.65977\n",
      "[300]\tvalidation_0-auc:0.76437\n",
      "[600]\tvalidation_0-auc:0.76640\n",
      "[900]\tvalidation_0-auc:0.76703\n",
      "[1200]\tvalidation_0-auc:0.76734\n",
      "[1258]\tvalidation_0-auc:0.76731\n"
     ]
    },
    {
     "name": "stderr",
     "output_type": "stream",
     "text": [
      "C:\\Users\\user\\anaconda3\\lib\\site-packages\\xgboost\\sklearn.py:835: UserWarning: `early_stopping_rounds` in `fit` method is deprecated for better compatibility with scikit-learn, use `early_stopping_rounds` in constructor or`set_params` instead.\n",
      "  warnings.warn(\n"
     ]
    },
    {
     "name": "stdout",
     "output_type": "stream",
     "text": [
      "[0]\tvalidation_0-auc:0.68150\n",
      "[300]\tvalidation_0-auc:0.76537\n",
      "[600]\tvalidation_0-auc:0.76662\n",
      "[645]\tvalidation_0-auc:0.76652\n"
     ]
    },
    {
     "name": "stderr",
     "output_type": "stream",
     "text": [
      "C:\\Users\\user\\anaconda3\\lib\\site-packages\\xgboost\\sklearn.py:835: UserWarning: `early_stopping_rounds` in `fit` method is deprecated for better compatibility with scikit-learn, use `early_stopping_rounds` in constructor or`set_params` instead.\n",
      "  warnings.warn(\n"
     ]
    },
    {
     "name": "stdout",
     "output_type": "stream",
     "text": [
      "[0]\tvalidation_0-auc:0.69173\n",
      "[300]\tvalidation_0-auc:0.76648\n",
      "[465]\tvalidation_0-auc:0.76678\n"
     ]
    },
    {
     "name": "stderr",
     "output_type": "stream",
     "text": [
      "C:\\Users\\user\\anaconda3\\lib\\site-packages\\xgboost\\sklearn.py:835: UserWarning: `early_stopping_rounds` in `fit` method is deprecated for better compatibility with scikit-learn, use `early_stopping_rounds` in constructor or`set_params` instead.\n",
      "  warnings.warn(\n"
     ]
    },
    {
     "name": "stdout",
     "output_type": "stream",
     "text": [
      "[0]\tvalidation_0-auc:0.66113\n",
      "[300]\tvalidation_0-auc:0.76587\n",
      "[600]\tvalidation_0-auc:0.76836\n",
      "[900]\tvalidation_0-auc:0.76924\n",
      "[1135]\tvalidation_0-auc:0.76939\n"
     ]
    },
    {
     "name": "stderr",
     "output_type": "stream",
     "text": [
      "C:\\Users\\user\\anaconda3\\lib\\site-packages\\xgboost\\sklearn.py:835: UserWarning: `early_stopping_rounds` in `fit` method is deprecated for better compatibility with scikit-learn, use `early_stopping_rounds` in constructor or`set_params` instead.\n",
      "  warnings.warn(\n"
     ]
    },
    {
     "name": "stdout",
     "output_type": "stream",
     "text": [
      "[0]\tvalidation_0-auc:0.68105\n",
      "[300]\tvalidation_0-auc:0.76745\n",
      "[600]\tvalidation_0-auc:0.76920\n",
      "[900]\tvalidation_0-auc:0.76963\n",
      "[982]\tvalidation_0-auc:0.76957\n"
     ]
    },
    {
     "name": "stderr",
     "output_type": "stream",
     "text": [
      "C:\\Users\\user\\anaconda3\\lib\\site-packages\\xgboost\\sklearn.py:835: UserWarning: `early_stopping_rounds` in `fit` method is deprecated for better compatibility with scikit-learn, use `early_stopping_rounds` in constructor or`set_params` instead.\n",
      "  warnings.warn(\n"
     ]
    },
    {
     "name": "stdout",
     "output_type": "stream",
     "text": [
      "[0]\tvalidation_0-auc:0.69203\n",
      "[300]\tvalidation_0-auc:0.76804\n",
      "[540]\tvalidation_0-auc:0.76833\n"
     ]
    },
    {
     "name": "stderr",
     "output_type": "stream",
     "text": [
      "C:\\Users\\user\\anaconda3\\lib\\site-packages\\xgboost\\sklearn.py:835: UserWarning: `early_stopping_rounds` in `fit` method is deprecated for better compatibility with scikit-learn, use `early_stopping_rounds` in constructor or`set_params` instead.\n",
      "  warnings.warn(\n"
     ]
    },
    {
     "name": "stdout",
     "output_type": "stream",
     "text": [
      "[0]\tvalidation_0-auc:0.67690\n",
      "[300]\tvalidation_0-auc:0.76752\n",
      "[600]\tvalidation_0-auc:0.77037\n",
      "[900]\tvalidation_0-auc:0.77120\n",
      "[1023]\tvalidation_0-auc:0.77123\n"
     ]
    },
    {
     "name": "stderr",
     "output_type": "stream",
     "text": [
      "C:\\Users\\user\\anaconda3\\lib\\site-packages\\xgboost\\sklearn.py:835: UserWarning: `early_stopping_rounds` in `fit` method is deprecated for better compatibility with scikit-learn, use `early_stopping_rounds` in constructor or`set_params` instead.\n",
      "  warnings.warn(\n"
     ]
    },
    {
     "name": "stdout",
     "output_type": "stream",
     "text": [
      "[0]\tvalidation_0-auc:0.69026\n",
      "[300]\tvalidation_0-auc:0.76885\n",
      "[600]\tvalidation_0-auc:0.77009\n",
      "[804]\tvalidation_0-auc:0.77030\n"
     ]
    },
    {
     "name": "stderr",
     "output_type": "stream",
     "text": [
      "C:\\Users\\user\\anaconda3\\lib\\site-packages\\xgboost\\sklearn.py:835: UserWarning: `early_stopping_rounds` in `fit` method is deprecated for better compatibility with scikit-learn, use `early_stopping_rounds` in constructor or`set_params` instead.\n",
      "  warnings.warn(\n"
     ]
    },
    {
     "name": "stdout",
     "output_type": "stream",
     "text": [
      "[0]\tvalidation_0-auc:0.69955\n",
      "[300]\tvalidation_0-auc:0.76990\n",
      "[570]\tvalidation_0-auc:0.77025\n"
     ]
    },
    {
     "name": "stderr",
     "output_type": "stream",
     "text": [
      "C:\\Users\\user\\anaconda3\\lib\\site-packages\\xgboost\\sklearn.py:835: UserWarning: `early_stopping_rounds` in `fit` method is deprecated for better compatibility with scikit-learn, use `early_stopping_rounds` in constructor or`set_params` instead.\n",
      "  warnings.warn(\n"
     ]
    },
    {
     "name": "stdout",
     "output_type": "stream",
     "text": [
      "[0]\tvalidation_0-auc:0.66157\n",
      "[300]\tvalidation_0-auc:0.76476\n",
      "[600]\tvalidation_0-auc:0.76687\n",
      "[900]\tvalidation_0-auc:0.76773\n",
      "[1122]\tvalidation_0-auc:0.76782\n"
     ]
    },
    {
     "name": "stderr",
     "output_type": "stream",
     "text": [
      "C:\\Users\\user\\anaconda3\\lib\\site-packages\\xgboost\\sklearn.py:835: UserWarning: `early_stopping_rounds` in `fit` method is deprecated for better compatibility with scikit-learn, use `early_stopping_rounds` in constructor or`set_params` instead.\n",
      "  warnings.warn(\n"
     ]
    },
    {
     "name": "stdout",
     "output_type": "stream",
     "text": [
      "[0]\tvalidation_0-auc:0.68150\n",
      "[300]\tvalidation_0-auc:0.76583\n",
      "[600]\tvalidation_0-auc:0.76691\n",
      "[608]\tvalidation_0-auc:0.76689\n"
     ]
    },
    {
     "name": "stderr",
     "output_type": "stream",
     "text": [
      "C:\\Users\\user\\anaconda3\\lib\\site-packages\\xgboost\\sklearn.py:835: UserWarning: `early_stopping_rounds` in `fit` method is deprecated for better compatibility with scikit-learn, use `early_stopping_rounds` in constructor or`set_params` instead.\n",
      "  warnings.warn(\n"
     ]
    },
    {
     "name": "stdout",
     "output_type": "stream",
     "text": [
      "[0]\tvalidation_0-auc:0.69207\n",
      "[300]\tvalidation_0-auc:0.76666\n",
      "[569]\tvalidation_0-auc:0.76649\n",
      "Best score: -0.501\n",
      "Best Parameters: {'objective': 'binary:logistic', 'n_estimators': 1082, 'max_depth': 4, 'learning_rate': 0.1, 'random_state': 42, 'subsample': 0.8, 'tree_method': 'gpu_hist', 'colsample_bytree': 0.8, 'scale_pos_weight': 1, 'eval_metric': 'auc', 'reg_lambda': 0.1}\n"
     ]
    }
   ],
   "source": [
    "param_grid = {\n",
    "    'objective': ['binary:logistic'],\n",
    "    'n_estimators': [1500],\n",
    "    'max_depth': [4, 5, 6],\n",
    "    'learning_rate': [0.1],\n",
    "    'random_state': [42],\n",
    "    'subsample': [0.8],\n",
    "    'tree_method': ['gpu_hist'],\n",
    "    'colsample_bytree': [0.8],\n",
    "    'scale_pos_weight': [1],\n",
    "    'eval_metric': ['auc'],\n",
    "    'reg_lambda': [0.1]\n",
    "}\n",
    "\n",
    "fit_params = {\n",
    "    'early_stopping_rounds': 100,\n",
    "    'verbose': 300\n",
    "}\n",
    "\n",
    "scorer = make_scorer(roc_auc_score, greater_is_better=False)\n",
    "kf = KFold(n_splits=5, shuffle=True, random_state=42)\n",
    "best_params_xgb = GridSearchCV_XGB_early_stoppping(param_grid, fit_params, scorer, kf, X_train, y_train)"
   ]
  },
  {
   "cell_type": "code",
   "execution_count": 21,
   "id": "dd361425",
   "metadata": {},
   "outputs": [
    {
     "data": {
      "text/plain": [
       "304"
      ]
     },
     "execution_count": 21,
     "metadata": {},
     "output_type": "execute_result"
    }
   ],
   "source": [
    "gc.collect()"
   ]
  },
  {
   "cell_type": "code",
   "execution_count": 22,
   "id": "2c23d7b4",
   "metadata": {},
   "outputs": [
    {
     "name": "stdout",
     "output_type": "stream",
     "text": [
      "Fold 1 started:\n"
     ]
    },
    {
     "name": "stderr",
     "output_type": "stream",
     "text": [
      "C:\\Users\\user\\anaconda3\\lib\\site-packages\\xgboost\\sklearn.py:835: UserWarning: `early_stopping_rounds` in `fit` method is deprecated for better compatibility with scikit-learn, use `early_stopping_rounds` in constructor or`set_params` instead.\n",
      "  warnings.warn(\n"
     ]
    },
    {
     "name": "stdout",
     "output_type": "stream",
     "text": [
      "[0]\tvalidation_0-auc:0.66118\n",
      "[300]\tvalidation_0-auc:0.76623\n",
      "[600]\tvalidation_0-auc:0.76884\n",
      "[900]\tvalidation_0-auc:0.76934\n",
      "[1081]\tvalidation_0-auc:0.76952\n",
      "Fold 1 training Done!\n",
      "Fold 2 started:\n"
     ]
    },
    {
     "name": "stderr",
     "output_type": "stream",
     "text": [
      "C:\\Users\\user\\anaconda3\\lib\\site-packages\\xgboost\\sklearn.py:835: UserWarning: `early_stopping_rounds` in `fit` method is deprecated for better compatibility with scikit-learn, use `early_stopping_rounds` in constructor or`set_params` instead.\n",
      "  warnings.warn(\n"
     ]
    },
    {
     "name": "stdout",
     "output_type": "stream",
     "text": [
      "[0]\tvalidation_0-auc:0.67243\n",
      "[300]\tvalidation_0-auc:0.76417\n",
      "[600]\tvalidation_0-auc:0.76668\n",
      "[900]\tvalidation_0-auc:0.76734\n",
      "[1081]\tvalidation_0-auc:0.76763\n",
      "Fold 2 training Done!\n",
      "Fold 3 started:\n"
     ]
    },
    {
     "name": "stderr",
     "output_type": "stream",
     "text": [
      "C:\\Users\\user\\anaconda3\\lib\\site-packages\\xgboost\\sklearn.py:835: UserWarning: `early_stopping_rounds` in `fit` method is deprecated for better compatibility with scikit-learn, use `early_stopping_rounds` in constructor or`set_params` instead.\n",
      "  warnings.warn(\n"
     ]
    },
    {
     "name": "stdout",
     "output_type": "stream",
     "text": [
      "[0]\tvalidation_0-auc:0.66967\n",
      "[300]\tvalidation_0-auc:0.76187\n",
      "[600]\tvalidation_0-auc:0.76416\n",
      "[900]\tvalidation_0-auc:0.76521\n",
      "[1081]\tvalidation_0-auc:0.76568\n",
      "Fold 3 training Done!\n",
      "Fold 4 started:\n"
     ]
    },
    {
     "name": "stderr",
     "output_type": "stream",
     "text": [
      "C:\\Users\\user\\anaconda3\\lib\\site-packages\\xgboost\\sklearn.py:835: UserWarning: `early_stopping_rounds` in `fit` method is deprecated for better compatibility with scikit-learn, use `early_stopping_rounds` in constructor or`set_params` instead.\n",
      "  warnings.warn(\n"
     ]
    },
    {
     "name": "stdout",
     "output_type": "stream",
     "text": [
      "[0]\tvalidation_0-auc:0.66127\n",
      "[300]\tvalidation_0-auc:0.76488\n",
      "[600]\tvalidation_0-auc:0.76737\n",
      "[900]\tvalidation_0-auc:0.76809\n",
      "[1081]\tvalidation_0-auc:0.76841\n",
      "Fold 4 training Done!\n",
      "Fold 5 started:\n"
     ]
    },
    {
     "name": "stderr",
     "output_type": "stream",
     "text": [
      "C:\\Users\\user\\anaconda3\\lib\\site-packages\\xgboost\\sklearn.py:835: UserWarning: `early_stopping_rounds` in `fit` method is deprecated for better compatibility with scikit-learn, use `early_stopping_rounds` in constructor or`set_params` instead.\n",
      "  warnings.warn(\n"
     ]
    },
    {
     "name": "stdout",
     "output_type": "stream",
     "text": [
      "[0]\tvalidation_0-auc:0.68075\n",
      "[300]\tvalidation_0-auc:0.76725\n",
      "[600]\tvalidation_0-auc:0.76970\n",
      "[900]\tvalidation_0-auc:0.77013\n",
      "[1077]\tvalidation_0-auc:0.77012\n",
      "Fold 5 training Done!\n"
     ]
    }
   ],
   "source": [
    "models_xgboost = []\n",
    "metrics_xgboost = []\n",
    "\n",
    "cv_xgboost = StratifiedKFold(n_splits=5, random_state=42, shuffle=True)\n",
    "\n",
    "for i, (train_indexes, test_indexes) in enumerate(cv_xgboost.split(X_train, y_train), start=1):\n",
    "    \n",
    "    print(f'Fold {i} started:')\n",
    "    \n",
    "    model_xg = XGBClassifier(**best_params_xgb)\n",
    "    \n",
    "    y_tr, y_v = y_train.iloc[train_indexes], y_train.iloc[test_indexes]\n",
    "    X_tr, X_v = X_train.iloc[train_indexes], X_train.iloc[test_indexes]\n",
    "    \n",
    "    fit_model_xg = model_xg.fit(X_tr, y_tr, eval_set=[(X_v, y_v)],\n",
    "                                verbose=300, early_stopping_rounds=100)\n",
    "    \n",
    "    models_xgboost.append(fit_model_xg)\n",
    "    metrics_xgboost.append(roc_auc_score(y_v, fit_model_xg.predict_proba(X_v)[:, 1]))\n",
    "    \n",
    "    print(f'Fold {i} training Done!')"
   ]
  },
  {
   "cell_type": "code",
   "execution_count": 23,
   "id": "2a55682c",
   "metadata": {},
   "outputs": [],
   "source": [
    "agg_model_scores.append(['XGBClassifier', metrics_xgboost])"
   ]
  },
  {
   "cell_type": "code",
   "execution_count": 24,
   "id": "cef70887",
   "metadata": {},
   "outputs": [
    {
     "name": "stdout",
     "output_type": "stream",
     "text": [
      "ROC_AUC_SCORE: 0.7717257028672684\n"
     ]
    }
   ],
   "source": [
    "final_model_XGBoost = XGBClassifier(**best_params_xgb).fit(X_train, y_train, verbose=100)\n",
    "print('ROC_AUC_SCORE:', roc_auc_score(y_test, final_model_XGBoost.predict_proba(X_test)[:, 1]))"
   ]
  },
  {
   "cell_type": "code",
   "execution_count": 25,
   "id": "4b9109e4",
   "metadata": {},
   "outputs": [],
   "source": [
    "path_to_save = 'pickle_model'\n",
    "model_filename = f'{path_to_save}/XGBClassifier_cr_sc.pkl'\n",
    "\n",
    "with open(model_filename, 'wb') as file:\n",
    "    dill.dump(final_model_XGBoost, file)"
   ]
  },
  {
   "cell_type": "code",
   "execution_count": 26,
   "id": "9ba97aca",
   "metadata": {},
   "outputs": [
    {
     "data": {
      "text/plain": [
       "483"
      ]
     },
     "execution_count": 26,
     "metadata": {},
     "output_type": "execute_result"
    }
   ],
   "source": [
    "gc.collect()"
   ]
  },
  {
   "cell_type": "markdown",
   "id": "0d0d66d9",
   "metadata": {},
   "source": [
    "#### LightGBM"
   ]
  },
  {
   "cell_type": "code",
   "execution_count": 27,
   "id": "e432d078",
   "metadata": {},
   "outputs": [
    {
     "name": "stderr",
     "output_type": "stream",
     "text": [
      "[I 2023-08-14 06:39:05,468] A new study created in memory with name: no-name-9db835a0-a1d7-405c-8b3d-5fc2bde223b1\n"
     ]
    },
    {
     "name": "stdout",
     "output_type": "stream",
     "text": [
      "[LightGBM] [Warning] lambda_l2 is set=0.37456560679919826, reg_lambda=0.0 will be ignored. Current value: lambda_l2=0.37456560679919826\n"
     ]
    },
    {
     "name": "stderr",
     "output_type": "stream",
     "text": [
      "[I 2023-08-14 06:46:40,994] Trial 0 finished with value: 0.7704728281294952 and parameters: {'n_estimators': 2500, 'learning_rate': 0.1, 'max_depth': 3, 'lambda_l2': 0.37456560679919826, 'num_leaves': 10, 'class_weight': 'balanced'}. Best is trial 0 with value: 0.7704728281294952.\n"
     ]
    },
    {
     "name": "stdout",
     "output_type": "stream",
     "text": [
      "[LightGBM] [Warning] lambda_l2 is set=0.28147179727369687, reg_lambda=0.0 will be ignored. Current value: lambda_l2=0.28147179727369687\n"
     ]
    },
    {
     "name": "stderr",
     "output_type": "stream",
     "text": [
      "[I 2023-08-14 06:55:18,035] Trial 1 finished with value: 0.7531513953492175 and parameters: {'n_estimators': 2500, 'learning_rate': 0.1, 'max_depth': 6, 'lambda_l2': 0.28147179727369687, 'num_leaves': 38, 'class_weight': 'balanced'}. Best is trial 0 with value: 0.7704728281294952.\n"
     ]
    },
    {
     "name": "stdout",
     "output_type": "stream",
     "text": [
      "[LightGBM] [Warning] lambda_l2 is set=0.18930790770860623, reg_lambda=0.0 will be ignored. Current value: lambda_l2=0.18930790770860623\n"
     ]
    },
    {
     "name": "stderr",
     "output_type": "stream",
     "text": [
      "[I 2023-08-14 07:03:18,542] Trial 2 finished with value: 0.7592238349689057 and parameters: {'n_estimators': 2500, 'learning_rate': 0.1, 'max_depth': 5, 'lambda_l2': 0.18930790770860623, 'num_leaves': 27, 'class_weight': 'balanced'}. Best is trial 0 with value: 0.7704728281294952.\n"
     ]
    },
    {
     "name": "stdout",
     "output_type": "stream",
     "text": [
      "[LightGBM] [Warning] lambda_l2 is set=0.3055035420050773, reg_lambda=0.0 will be ignored. Current value: lambda_l2=0.3055035420050773\n"
     ]
    },
    {
     "name": "stderr",
     "output_type": "stream",
     "text": [
      "[I 2023-08-14 07:10:37,657] Trial 3 finished with value: 0.7674221643282986 and parameters: {'n_estimators': 2500, 'learning_rate': 0.1, 'max_depth': 4, 'lambda_l2': 0.3055035420050773, 'num_leaves': 50, 'class_weight': 'balanced'}. Best is trial 0 with value: 0.7704728281294952.\n"
     ]
    },
    {
     "name": "stdout",
     "output_type": "stream",
     "text": [
      "[LightGBM] [Warning] lambda_l2 is set=0.24355461322083952, reg_lambda=0.0 will be ignored. Current value: lambda_l2=0.24355461322083952\n"
     ]
    },
    {
     "name": "stderr",
     "output_type": "stream",
     "text": [
      "[I 2023-08-14 07:18:44,820] Trial 4 finished with value: 0.7592416976124886 and parameters: {'n_estimators': 2500, 'learning_rate': 0.1, 'max_depth': 5, 'lambda_l2': 0.24355461322083952, 'num_leaves': 91, 'class_weight': 'balanced'}. Best is trial 0 with value: 0.7704728281294952.\n"
     ]
    },
    {
     "name": "stdout",
     "output_type": "stream",
     "text": [
      "[LightGBM] [Warning] lambda_l2 is set=0.26973575050824705, reg_lambda=0.0 will be ignored. Current value: lambda_l2=0.26973575050824705\n"
     ]
    },
    {
     "name": "stderr",
     "output_type": "stream",
     "text": [
      "[I 2023-08-14 07:25:30,101] Trial 5 finished with value: 0.7705734558999735 and parameters: {'n_estimators': 2500, 'learning_rate': 0.1, 'max_depth': 3, 'lambda_l2': 0.26973575050824705, 'num_leaves': 42, 'class_weight': 'balanced'}. Best is trial 5 with value: 0.7705734558999735.\n"
     ]
    },
    {
     "name": "stdout",
     "output_type": "stream",
     "text": [
      "[LightGBM] [Warning] lambda_l2 is set=0.24591672414785898, reg_lambda=0.0 will be ignored. Current value: lambda_l2=0.24591672414785898\n"
     ]
    },
    {
     "name": "stderr",
     "output_type": "stream",
     "text": [
      "[I 2023-08-14 07:32:13,673] Trial 6 finished with value: 0.7704306860053471 and parameters: {'n_estimators': 2500, 'learning_rate': 0.1, 'max_depth': 3, 'lambda_l2': 0.24591672414785898, 'num_leaves': 15, 'class_weight': 'balanced'}. Best is trial 5 with value: 0.7705734558999735.\n"
     ]
    },
    {
     "name": "stdout",
     "output_type": "stream",
     "text": [
      "[LightGBM] [Warning] lambda_l2 is set=0.6345722854646332, reg_lambda=0.0 will be ignored. Current value: lambda_l2=0.6345722854646332\n"
     ]
    },
    {
     "name": "stderr",
     "output_type": "stream",
     "text": [
      "[I 2023-08-14 07:41:02,501] Trial 7 finished with value: 0.747203771500486 and parameters: {'n_estimators': 2500, 'learning_rate': 0.1, 'max_depth': 7, 'lambda_l2': 0.6345722854646332, 'num_leaves': 49, 'class_weight': 'balanced'}. Best is trial 5 with value: 0.7705734558999735.\n"
     ]
    },
    {
     "name": "stdout",
     "output_type": "stream",
     "text": [
      "[LightGBM] [Warning] lambda_l2 is set=0.19228604821136597, reg_lambda=0.0 will be ignored. Current value: lambda_l2=0.19228604821136597\n"
     ]
    },
    {
     "name": "stderr",
     "output_type": "stream",
     "text": [
      "[I 2023-08-14 07:47:45,102] Trial 8 finished with value: 0.7705387562937065 and parameters: {'n_estimators': 2500, 'learning_rate': 0.1, 'max_depth': 3, 'lambda_l2': 0.19228604821136597, 'num_leaves': 49, 'class_weight': 'balanced'}. Best is trial 5 with value: 0.7705734558999735.\n"
     ]
    },
    {
     "name": "stdout",
     "output_type": "stream",
     "text": [
      "[LightGBM] [Warning] lambda_l2 is set=0.45634920343831553, reg_lambda=0.0 will be ignored. Current value: lambda_l2=0.45634920343831553\n"
     ]
    },
    {
     "name": "stderr",
     "output_type": "stream",
     "text": [
      "[I 2023-08-14 07:55:08,238] Trial 9 finished with value: 0.7674204237715152 and parameters: {'n_estimators': 2500, 'learning_rate': 0.1, 'max_depth': 4, 'lambda_l2': 0.45634920343831553, 'num_leaves': 86, 'class_weight': 'balanced'}. Best is trial 5 with value: 0.7705734558999735.\n"
     ]
    },
    {
     "name": "stdout",
     "output_type": "stream",
     "text": [
      "[LightGBM] [Warning] lambda_l2 is set=0.866675214093471, reg_lambda=0.0 will be ignored. Current value: lambda_l2=0.866675214093471\n"
     ]
    },
    {
     "name": "stderr",
     "output_type": "stream",
     "text": [
      "[I 2023-08-14 08:02:35,402] Trial 10 finished with value: 0.7676986369555423 and parameters: {'n_estimators': 2500, 'learning_rate': 0.1, 'max_depth': 4, 'lambda_l2': 0.866675214093471, 'num_leaves': 69, 'class_weight': 'balanced'}. Best is trial 5 with value: 0.7705734558999735.\n"
     ]
    },
    {
     "name": "stdout",
     "output_type": "stream",
     "text": [
      "[LightGBM] [Warning] lambda_l2 is set=0.10340927024355234, reg_lambda=0.0 will be ignored. Current value: lambda_l2=0.10340927024355234\n"
     ]
    },
    {
     "name": "stderr",
     "output_type": "stream",
     "text": [
      "[I 2023-08-14 08:09:22,682] Trial 11 finished with value: 0.7705402639293648 and parameters: {'n_estimators': 2500, 'learning_rate': 0.1, 'max_depth': 3, 'lambda_l2': 0.10340927024355234, 'num_leaves': 67, 'class_weight': 'balanced'}. Best is trial 5 with value: 0.7705734558999735.\n"
     ]
    },
    {
     "name": "stdout",
     "output_type": "stream",
     "text": [
      "[LightGBM] [Warning] lambda_l2 is set=0.10275328511168025, reg_lambda=0.0 will be ignored. Current value: lambda_l2=0.10275328511168025\n"
     ]
    },
    {
     "name": "stderr",
     "output_type": "stream",
     "text": [
      "[I 2023-08-14 08:16:05,024] Trial 12 finished with value: 0.7705104114689418 and parameters: {'n_estimators': 2500, 'learning_rate': 0.1, 'max_depth': 3, 'lambda_l2': 0.10275328511168025, 'num_leaves': 70, 'class_weight': 'balanced'}. Best is trial 5 with value: 0.7705734558999735.\n"
     ]
    },
    {
     "name": "stdout",
     "output_type": "stream",
     "text": [
      "[LightGBM] [Warning] lambda_l2 is set=0.12534480958584876, reg_lambda=0.0 will be ignored. Current value: lambda_l2=0.12534480958584876\n"
     ]
    },
    {
     "name": "stderr",
     "output_type": "stream",
     "text": [
      "[I 2023-08-14 08:23:26,220] Trial 13 finished with value: 0.7671721590735916 and parameters: {'n_estimators': 2500, 'learning_rate': 0.1, 'max_depth': 4, 'lambda_l2': 0.12534480958584876, 'num_leaves': 67, 'class_weight': 'balanced'}. Best is trial 5 with value: 0.7705734558999735.\n"
     ]
    },
    {
     "name": "stdout",
     "output_type": "stream",
     "text": [
      "[LightGBM] [Warning] lambda_l2 is set=0.4173936510710393, reg_lambda=0.0 will be ignored. Current value: lambda_l2=0.4173936510710393\n"
     ]
    },
    {
     "name": "stderr",
     "output_type": "stream",
     "text": [
      "[I 2023-08-14 08:31:31,114] Trial 14 finished with value: 0.755969024791082 and parameters: {'n_estimators': 2500, 'learning_rate': 0.1, 'max_depth': 6, 'lambda_l2': 0.4173936510710393, 'num_leaves': 31, 'class_weight': 'balanced'}. Best is trial 5 with value: 0.7705734558999735.\n"
     ]
    },
    {
     "name": "stdout",
     "output_type": "stream",
     "text": [
      "{'n_estimators': 2500, 'learning_rate': 0.1, 'max_depth': 3, 'lambda_l2': 0.26973575050824705, 'num_leaves': 42, 'class_weight': 'balanced'}\n",
      "0.7705734558999735\n"
     ]
    }
   ],
   "source": [
    "def objective(trial):\n",
    "    param_grid = {\n",
    "        \"n_estimators\": trial.suggest_categorical(\"n_estimators\", [2500]),\n",
    "        \"learning_rate\": trial.suggest_categorical(\"learning_rate\", [0.1]),\n",
    "        \"max_depth\": trial.suggest_int(\"max_depth\", 3, 7),\n",
    "        \"lambda_l2\": trial.suggest_float(\"lambda_l2\", 0.1, 1),\n",
    "        \"num_leaves\": trial.suggest_int(\"num_leaves\", 10, 100),\n",
    "        \"class_weight\": trial.suggest_categorical(\"class_weight\", ['balanced'])}  # to be filled in later\n",
    "    \n",
    "    classifier = lgbm.LGBMClassifier(**param_grid, metric='auc')\n",
    "    classifier.fit(X_train, y_train)\n",
    "    y_pred_proba = classifier.predict_proba(X_test)[:, 1]\n",
    "    \n",
    "    roc_auc = roc_auc_score(y_test, y_pred_proba)\n",
    "    \n",
    "    return roc_auc\n",
    "\n",
    "study = optuna.create_study(direction='maximize')\n",
    "study.optimize(objective, n_trials = 15)\n",
    "\n",
    "lgbm_best_params = study.best_params\n",
    "lgbm_best_score = study.best_value\n",
    "\n",
    "print(lgbm_best_params)\n",
    "print(lgbm_best_score)"
   ]
  },
  {
   "cell_type": "code",
   "execution_count": 28,
   "id": "7ef14e31",
   "metadata": {},
   "outputs": [
    {
     "data": {
      "text/plain": [
       "45"
      ]
     },
     "execution_count": 28,
     "metadata": {},
     "output_type": "execute_result"
    }
   ],
   "source": [
    "gc.collect()"
   ]
  },
  {
   "cell_type": "code",
   "execution_count": 29,
   "id": "9a81ad63",
   "metadata": {},
   "outputs": [
    {
     "name": "stdout",
     "output_type": "stream",
     "text": [
      "kf 1 started!\n",
      "[LightGBM] [Warning] lambda_l2 is set=0.26973575050824705, reg_lambda=0.0 will be ignored. Current value: lambda_l2=0.26973575050824705\n"
     ]
    },
    {
     "name": "stderr",
     "output_type": "stream",
     "text": [
      "C:\\Users\\user\\anaconda3\\lib\\site-packages\\lightgbm\\sklearn.py:726: UserWarning: 'early_stopping_rounds' argument is deprecated and will be removed in a future release of LightGBM. Pass 'early_stopping()' callback via 'callbacks' argument instead.\n",
      "  _log_warning(\"'early_stopping_rounds' argument is deprecated and will be removed in a future release of LightGBM. \"\n",
      "C:\\Users\\user\\anaconda3\\lib\\site-packages\\lightgbm\\sklearn.py:736: UserWarning: 'verbose' argument is deprecated and will be removed in a future release of LightGBM. Pass 'log_evaluation()' callback via 'callbacks' argument instead.\n",
      "  _log_warning(\"'verbose' argument is deprecated and will be removed in a future release of LightGBM. \"\n"
     ]
    },
    {
     "name": "stdout",
     "output_type": "stream",
     "text": [
      "[300]\tvalid_0's auc: 0.762362\n",
      "[600]\tvalid_0's auc: 0.765871\n",
      "[900]\tvalid_0's auc: 0.767119\n",
      "[1200]\tvalid_0's auc: 0.767632\n",
      "kf 2 started!\n",
      "[LightGBM] [Warning] lambda_l2 is set=0.26973575050824705, reg_lambda=0.0 will be ignored. Current value: lambda_l2=0.26973575050824705\n"
     ]
    },
    {
     "name": "stderr",
     "output_type": "stream",
     "text": [
      "C:\\Users\\user\\anaconda3\\lib\\site-packages\\lightgbm\\sklearn.py:726: UserWarning: 'early_stopping_rounds' argument is deprecated and will be removed in a future release of LightGBM. Pass 'early_stopping()' callback via 'callbacks' argument instead.\n",
      "  _log_warning(\"'early_stopping_rounds' argument is deprecated and will be removed in a future release of LightGBM. \"\n",
      "C:\\Users\\user\\anaconda3\\lib\\site-packages\\lightgbm\\sklearn.py:736: UserWarning: 'verbose' argument is deprecated and will be removed in a future release of LightGBM. Pass 'log_evaluation()' callback via 'callbacks' argument instead.\n",
      "  _log_warning(\"'verbose' argument is deprecated and will be removed in a future release of LightGBM. \"\n"
     ]
    },
    {
     "name": "stdout",
     "output_type": "stream",
     "text": [
      "[300]\tvalid_0's auc: 0.761417\n",
      "[600]\tvalid_0's auc: 0.76465\n",
      "[900]\tvalid_0's auc: 0.765834\n",
      "[1200]\tvalid_0's auc: 0.766267\n",
      "kf 3 started!\n",
      "[LightGBM] [Warning] lambda_l2 is set=0.26973575050824705, reg_lambda=0.0 will be ignored. Current value: lambda_l2=0.26973575050824705\n"
     ]
    },
    {
     "name": "stderr",
     "output_type": "stream",
     "text": [
      "C:\\Users\\user\\anaconda3\\lib\\site-packages\\lightgbm\\sklearn.py:726: UserWarning: 'early_stopping_rounds' argument is deprecated and will be removed in a future release of LightGBM. Pass 'early_stopping()' callback via 'callbacks' argument instead.\n",
      "  _log_warning(\"'early_stopping_rounds' argument is deprecated and will be removed in a future release of LightGBM. \"\n",
      "C:\\Users\\user\\anaconda3\\lib\\site-packages\\lightgbm\\sklearn.py:736: UserWarning: 'verbose' argument is deprecated and will be removed in a future release of LightGBM. Pass 'log_evaluation()' callback via 'callbacks' argument instead.\n",
      "  _log_warning(\"'verbose' argument is deprecated and will be removed in a future release of LightGBM. \"\n"
     ]
    },
    {
     "name": "stdout",
     "output_type": "stream",
     "text": [
      "[300]\tvalid_0's auc: 0.759724\n",
      "[600]\tvalid_0's auc: 0.762591\n",
      "[900]\tvalid_0's auc: 0.763613\n",
      "[1200]\tvalid_0's auc: 0.764\n",
      "kf 4 started!\n",
      "[LightGBM] [Warning] lambda_l2 is set=0.26973575050824705, reg_lambda=0.0 will be ignored. Current value: lambda_l2=0.26973575050824705\n"
     ]
    },
    {
     "name": "stderr",
     "output_type": "stream",
     "text": [
      "C:\\Users\\user\\anaconda3\\lib\\site-packages\\lightgbm\\sklearn.py:726: UserWarning: 'early_stopping_rounds' argument is deprecated and will be removed in a future release of LightGBM. Pass 'early_stopping()' callback via 'callbacks' argument instead.\n",
      "  _log_warning(\"'early_stopping_rounds' argument is deprecated and will be removed in a future release of LightGBM. \"\n",
      "C:\\Users\\user\\anaconda3\\lib\\site-packages\\lightgbm\\sklearn.py:736: UserWarning: 'verbose' argument is deprecated and will be removed in a future release of LightGBM. Pass 'log_evaluation()' callback via 'callbacks' argument instead.\n",
      "  _log_warning(\"'verbose' argument is deprecated and will be removed in a future release of LightGBM. \"\n"
     ]
    },
    {
     "name": "stdout",
     "output_type": "stream",
     "text": [
      "[300]\tvalid_0's auc: 0.761757\n",
      "[600]\tvalid_0's auc: 0.765246\n",
      "[900]\tvalid_0's auc: 0.766378\n",
      "[1200]\tvalid_0's auc: 0.766984\n",
      "kf 5 started!\n",
      "[LightGBM] [Warning] lambda_l2 is set=0.26973575050824705, reg_lambda=0.0 will be ignored. Current value: lambda_l2=0.26973575050824705\n"
     ]
    },
    {
     "name": "stderr",
     "output_type": "stream",
     "text": [
      "C:\\Users\\user\\anaconda3\\lib\\site-packages\\lightgbm\\sklearn.py:726: UserWarning: 'early_stopping_rounds' argument is deprecated and will be removed in a future release of LightGBM. Pass 'early_stopping()' callback via 'callbacks' argument instead.\n",
      "  _log_warning(\"'early_stopping_rounds' argument is deprecated and will be removed in a future release of LightGBM. \"\n",
      "C:\\Users\\user\\anaconda3\\lib\\site-packages\\lightgbm\\sklearn.py:736: UserWarning: 'verbose' argument is deprecated and will be removed in a future release of LightGBM. Pass 'log_evaluation()' callback via 'callbacks' argument instead.\n",
      "  _log_warning(\"'verbose' argument is deprecated and will be removed in a future release of LightGBM. \"\n"
     ]
    },
    {
     "name": "stdout",
     "output_type": "stream",
     "text": [
      "[300]\tvalid_0's auc: 0.764522\n",
      "[600]\tvalid_0's auc: 0.76736\n",
      "[900]\tvalid_0's auc: 0.768501\n",
      "[1200]\tvalid_0's auc: 0.768947\n"
     ]
    }
   ],
   "source": [
    "cv_lgb = StratifiedKFold(n_splits=5, random_state=42, shuffle=True)\n",
    "\n",
    "metrics_lgb = []\n",
    "models_lgb = []\n",
    "\n",
    "\n",
    "for i, (train_indexes, test_indexes) in enumerate(cv_lgb.split(X_train, y_train), start=1):\n",
    "    \n",
    "    print(f'kf {i} started!')\n",
    "    \n",
    "    X_tr, X_v = X_train.iloc[train_indexes], X_train.iloc[test_indexes]\n",
    "    y_tr, y_v = y_train.iloc[train_indexes], y_train.iloc[test_indexes]\n",
    "    \n",
    "    LGBM = lgbm.LGBMClassifier(**lgbm_best_params, metric='auc').fit(X_train,  y_train)\n",
    "    \n",
    "    fit_model_LGBM = LGBM.fit(X_tr, y_tr, eval_set=[(X_v, y_v)],\n",
    "                              verbose=300, early_stopping_rounds=100)\n",
    "    \n",
    "    models_lgb.append(fit_model_LGBM)\n",
    "    metrics_lgb.append(roc_auc_score(y_v, fit_model_LGBM.predict_proba(X_v)[:, 1]))"
   ]
  },
  {
   "cell_type": "code",
   "execution_count": 30,
   "id": "606b8e54",
   "metadata": {},
   "outputs": [
    {
     "data": {
      "text/plain": [
       "494"
      ]
     },
     "execution_count": 30,
     "metadata": {},
     "output_type": "execute_result"
    }
   ],
   "source": [
    "gc.collect()"
   ]
  },
  {
   "cell_type": "code",
   "execution_count": 31,
   "id": "a5296122",
   "metadata": {},
   "outputs": [
    {
     "name": "stdout",
     "output_type": "stream",
     "text": [
      "[LightGBM] [Warning] lambda_l2 is set=0.26973575050824705, reg_lambda=0.0 will be ignored. Current value: lambda_l2=0.26973575050824705\n",
      "ROC_AUC_SCORE: 0.7705734558999735\n"
     ]
    }
   ],
   "source": [
    "LGBMClassifier = lgbm.LGBMClassifier(**lgbm_best_params, metric='auc').fit(X_train, y_train)\n",
    "\n",
    "print('ROC_AUC_SCORE:', roc_auc_score(y_test, LGBMClassifier.predict_proba(X_test)[:, 1]))"
   ]
  },
  {
   "cell_type": "code",
   "execution_count": 32,
   "id": "97882d5a",
   "metadata": {},
   "outputs": [],
   "source": [
    "agg_model_scores.append(['LGBMClassifier', metrics_lgb])"
   ]
  },
  {
   "cell_type": "code",
   "execution_count": 33,
   "id": "a1726de7",
   "metadata": {},
   "outputs": [],
   "source": [
    "path_to_save = 'pickle_model'\n",
    "model_filename_lgbm = f'{path_to_save}/LGBMClassifier_cr_sc.pkl'\n",
    "with open(model_filename_lgbm, 'wb') as file:\n",
    "    dill.dump(LGBMClassifier, file)"
   ]
  },
  {
   "cell_type": "code",
   "execution_count": 34,
   "id": "3294283f",
   "metadata": {},
   "outputs": [
    {
     "data": {
      "text/plain": [
       "45"
      ]
     },
     "execution_count": 34,
     "metadata": {},
     "output_type": "execute_result"
    }
   ],
   "source": [
    "gc.collect()"
   ]
  },
  {
   "cell_type": "code",
   "execution_count": 35,
   "id": "79885470",
   "metadata": {},
   "outputs": [
    {
     "name": "stdout",
     "output_type": "stream",
     "text": [
      "[['CatBoostClassifier', [0.7670122242726762, 0.7643396464970058, 0.763269259841848, 0.7650754257275283, 0.7680775769335368]]]\n",
      "[['XGBClassifier', [0.7695185696360035, 0.7676779642618016, 0.7656862374419516, 0.7684325696551452, 0.7702363051127683]]]\n",
      "[['LGBMClassifier', [0.7677977698966809, 0.7664040654815093, 0.7642131478118648, 0.7670707869336656, 0.7690106656785134]]]\n"
     ]
    }
   ],
   "source": [
    "res = pd.concat([make_dataset(agg_model_scores[0]), make_dataset(agg_model_scores[1])], axis=0)\n",
    "res = pd.concat([res, make_dataset(agg_model_scores[2])], axis=0).reset_index(drop=True)"
   ]
  },
  {
   "cell_type": "code",
   "execution_count": 36,
   "id": "a6a8865a",
   "metadata": {},
   "outputs": [],
   "source": [
    "res.to_csv('results_cv.xlsx')"
   ]
  },
  {
   "cell_type": "code",
   "execution_count": 37,
   "id": "b6a951d2",
   "metadata": {},
   "outputs": [
    {
     "data": {
      "text/html": [
       "<div>\n",
       "<style scoped>\n",
       "    .dataframe tbody tr th:only-of-type {\n",
       "        vertical-align: middle;\n",
       "    }\n",
       "\n",
       "    .dataframe tbody tr th {\n",
       "        vertical-align: top;\n",
       "    }\n",
       "\n",
       "    .dataframe thead th {\n",
       "        text-align: right;\n",
       "    }\n",
       "</style>\n",
       "<table border=\"1\" class=\"dataframe\">\n",
       "  <thead>\n",
       "    <tr style=\"text-align: right;\">\n",
       "      <th></th>\n",
       "      <th>Модель</th>\n",
       "      <th>Fold 1</th>\n",
       "      <th>Fold 2</th>\n",
       "      <th>Fold 3</th>\n",
       "      <th>Fold 4</th>\n",
       "      <th>Fold 5</th>\n",
       "      <th>Mean roc_auc_score</th>\n",
       "    </tr>\n",
       "  </thead>\n",
       "  <tbody>\n",
       "    <tr>\n",
       "      <th>0</th>\n",
       "      <td>CatBoostClassifier</td>\n",
       "      <td>0.767012</td>\n",
       "      <td>0.764340</td>\n",
       "      <td>0.763269</td>\n",
       "      <td>0.765075</td>\n",
       "      <td>0.768078</td>\n",
       "      <td>0.765555</td>\n",
       "    </tr>\n",
       "    <tr>\n",
       "      <th>1</th>\n",
       "      <td>XGBClassifier</td>\n",
       "      <td>0.769519</td>\n",
       "      <td>0.767678</td>\n",
       "      <td>0.765686</td>\n",
       "      <td>0.768433</td>\n",
       "      <td>0.770236</td>\n",
       "      <td>0.768310</td>\n",
       "    </tr>\n",
       "    <tr>\n",
       "      <th>2</th>\n",
       "      <td>LGBMClassifier</td>\n",
       "      <td>0.767798</td>\n",
       "      <td>0.766404</td>\n",
       "      <td>0.764213</td>\n",
       "      <td>0.767071</td>\n",
       "      <td>0.769011</td>\n",
       "      <td>0.766899</td>\n",
       "    </tr>\n",
       "  </tbody>\n",
       "</table>\n",
       "</div>"
      ],
      "text/plain": [
       "               Модель    Fold 1    Fold 2    Fold 3    Fold 4    Fold 5  \\\n",
       "0  CatBoostClassifier  0.767012  0.764340  0.763269  0.765075  0.768078   \n",
       "1       XGBClassifier  0.769519  0.767678  0.765686  0.768433  0.770236   \n",
       "2      LGBMClassifier  0.767798  0.766404  0.764213  0.767071  0.769011   \n",
       "\n",
       "   Mean roc_auc_score  \n",
       "0            0.765555  \n",
       "1            0.768310  \n",
       "2            0.766899  "
      ]
     },
     "execution_count": 37,
     "metadata": {},
     "output_type": "execute_result"
    }
   ],
   "source": [
    "res"
   ]
  }
 ],
 "metadata": {
  "kernelspec": {
   "display_name": "Python 3 (ipykernel)",
   "language": "python",
   "name": "python3"
  },
  "language_info": {
   "codemirror_mode": {
    "name": "ipython",
    "version": 3
   },
   "file_extension": ".py",
   "mimetype": "text/x-python",
   "name": "python",
   "nbconvert_exporter": "python",
   "pygments_lexer": "ipython3",
   "version": "3.9.7"
  }
 },
 "nbformat": 4,
 "nbformat_minor": 5
}

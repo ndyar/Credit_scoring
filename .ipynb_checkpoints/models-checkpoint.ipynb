{
 "cells": [
  {
   "cell_type": "markdown",
   "id": "f5cdd4ee",
   "metadata": {},
   "source": [
    "#### Импорт библиотек"
   ]
  },
  {
   "cell_type": "code",
   "execution_count": 1,
   "id": "00843db9",
   "metadata": {},
   "outputs": [],
   "source": [
    "import pandas as pd\n",
    "import numpy as np\n",
    "import lightgbm as lgbm\n",
    "import ipywidgets\n",
    "import statistics\n",
    "import gc\n",
    "import os\n",
    "import sys\n",
    "import dd as dd\n",
    "import optuna\n",
    "import dill\n",
    "\n",
    "from catboost import Pool, CatBoostClassifier, CatBoostRanker\n",
    "from sklearn.model_selection import train_test_split, StratifiedKFold, KFold\n",
    "from sklearn.metrics import roc_auc_score\n",
    "from sklearn.model_selection import GridSearchCV\n",
    "from xgboost import XGBClassifier\n",
    "from sklearn.svm import SVC\n",
    "from sklearn.metrics import mean_absolute_error, make_scorer\n",
    "from sklearn.model_selection import KFold\n",
    "from collections import defaultdict\n",
    "from copy import deepcopy\n",
    "from itertools import product\n",
    "from sklearn.metrics import log_loss\n",
    "from sklearn.model_selection import StratifiedKFold\n",
    "from optuna.integration import LightGBMPruningCallback\n",
    "\n",
    "sys.path.append('../Credit Scoring/')"
   ]
  },
  {
   "cell_type": "code",
   "execution_count": 2,
   "id": "d58fded5",
   "metadata": {},
   "outputs": [],
   "source": [
    "path = 'data/train_data/'"
   ]
  },
  {
   "cell_type": "code",
   "execution_count": 3,
   "id": "9d45a282",
   "metadata": {},
   "outputs": [],
   "source": [
    "def make_dataset(list_scores):\n",
    "    \n",
    "    list_scores_model = [list_scores]\n",
    "    print(list_scores_model)\n",
    "    data = {\n",
    "        'Модель': [item[0] for item in list_scores_model],\n",
    "        'Fold 1': [item[1][0] for item in list_scores_model],\n",
    "        'Fold 2': [item[1][1] for item in list_scores_model],\n",
    "        'Fold 3': [item[1][2] for item in list_scores_model],\n",
    "        'Fold 4': [item[1][3] for item in list_scores_model],\n",
    "        'Fold 5': [item[1][4] for item in list_scores_model],\n",
    "        'Mean roc_auc_score': [statistics.mean(list_scores_model[0][1])]\n",
    "    }\n",
    "    \n",
    "    return pd.DataFrame(data)\n",
    "\n",
    "def make_df_for_modelling(data, target: str):\n",
    "    \n",
    "    data[['id', 'flag']] = data[['id', 'flag']].astype(int)\n",
    "    data.drop(['id'], axis=1, inplace=True)\n",
    "\n",
    "    features = list(data.columns.values)\n",
    "    features.remove(target)\n",
    "\n",
    "    X = data[features]\n",
    "    y = data[target]\n",
    "    \n",
    "    X_train, X_test, y_train, y_test = train_test_split(X, y, test_size=0.2, shuffle=True, stratify = y, random_state=42)\n",
    "    \n",
    "    return X_train, X_test, y_train, y_test"
   ]
  },
  {
   "cell_type": "code",
   "execution_count": 4,
   "id": "cb2b1b3a",
   "metadata": {},
   "outputs": [],
   "source": [
    "def pipeline():\n",
    "\n",
    "    data = dd.modify_data()\n",
    "    X_train, X_test, y_train, y_test = make_df_for_modelling(data, 'flag')\n",
    "    \n",
    "    return X_train, X_test, y_train, y_test"
   ]
  },
  {
   "cell_type": "code",
   "execution_count": 5,
   "id": "a119dc5b",
   "metadata": {},
   "outputs": [
    {
     "data": {
      "text/plain": [
       "0"
      ]
     },
     "execution_count": 5,
     "metadata": {},
     "output_type": "execute_result"
    }
   ],
   "source": [
    "gc.collect()"
   ]
  },
  {
   "cell_type": "markdown",
   "id": "576b01b5",
   "metadata": {},
   "source": [
    "#### Загрузка данных"
   ]
  },
  {
   "cell_type": "code",
   "execution_count": 6,
   "id": "0b19c847",
   "metadata": {},
   "outputs": [
    {
     "name": "stdout",
     "output_type": "stream",
     "text": [
      "Modify data!\n"
     ]
    },
    {
     "data": {
      "application/vnd.jupyter.widget-view+json": {
       "model_id": "02be1f8d456f4241b372930783843a40",
       "version_major": 2,
       "version_minor": 0
      },
      "text/plain": [
       "Transforming transactions data:   0%|          | 0/12 [00:00<?, ?it/s]"
      ]
     },
     "metadata": {},
     "output_type": "display_data"
    },
    {
     "name": "stdout",
     "output_type": "stream",
     "text": [
      "['data/train_data\\\\train_data_0.pq', 'data/train_data\\\\train_data_1.pq', 'data/train_data\\\\train_data_10.pq', 'data/train_data\\\\train_data_11.pq', 'data/train_data\\\\train_data_2.pq', 'data/train_data\\\\train_data_3.pq', 'data/train_data\\\\train_data_4.pq', 'data/train_data\\\\train_data_5.pq', 'data/train_data\\\\train_data_6.pq', 'data/train_data\\\\train_data_7.pq', 'data/train_data\\\\train_data_8.pq', 'data/train_data\\\\train_data_9.pq']\n",
      "Reading chunks!\n",
      "Read chunk: data/train_data\\train_data_0.pq\n"
     ]
    },
    {
     "data": {
      "application/vnd.jupyter.widget-view+json": {
       "model_id": "0f4f44af42994b45b8d21f18b5cff854",
       "version_major": 2,
       "version_minor": 0
      },
      "text/plain": [
       "Reading chunks with pandas!:   0%|          | 0/1 [00:00<?, ?it/s]"
      ]
     },
     "metadata": {},
     "output_type": "display_data"
    },
    {
     "name": "stdout",
     "output_type": "stream",
     "text": [
      "Chunk data/train_data\\train_data_0.pq\n",
      "['data/train_data\\\\train_data_0.pq', 'data/train_data\\\\train_data_1.pq', 'data/train_data\\\\train_data_10.pq', 'data/train_data\\\\train_data_11.pq', 'data/train_data\\\\train_data_2.pq', 'data/train_data\\\\train_data_3.pq', 'data/train_data\\\\train_data_4.pq', 'data/train_data\\\\train_data_5.pq', 'data/train_data\\\\train_data_6.pq', 'data/train_data\\\\train_data_7.pq', 'data/train_data\\\\train_data_8.pq', 'data/train_data\\\\train_data_9.pq']\n",
      "Reading chunks!\n",
      "Read chunk: data/train_data\\train_data_1.pq\n"
     ]
    },
    {
     "data": {
      "application/vnd.jupyter.widget-view+json": {
       "model_id": "a753d13ce1894735868c09d77778374b",
       "version_major": 2,
       "version_minor": 0
      },
      "text/plain": [
       "Reading chunks with pandas!:   0%|          | 0/1 [00:00<?, ?it/s]"
      ]
     },
     "metadata": {},
     "output_type": "display_data"
    },
    {
     "name": "stdout",
     "output_type": "stream",
     "text": [
      "Chunk data/train_data\\train_data_1.pq\n",
      "['data/train_data\\\\train_data_0.pq', 'data/train_data\\\\train_data_1.pq', 'data/train_data\\\\train_data_10.pq', 'data/train_data\\\\train_data_11.pq', 'data/train_data\\\\train_data_2.pq', 'data/train_data\\\\train_data_3.pq', 'data/train_data\\\\train_data_4.pq', 'data/train_data\\\\train_data_5.pq', 'data/train_data\\\\train_data_6.pq', 'data/train_data\\\\train_data_7.pq', 'data/train_data\\\\train_data_8.pq', 'data/train_data\\\\train_data_9.pq']\n",
      "Reading chunks!\n",
      "Read chunk: data/train_data\\train_data_10.pq\n"
     ]
    },
    {
     "data": {
      "application/vnd.jupyter.widget-view+json": {
       "model_id": "46fc77dcae054e8d8d6e8218f6bdcf6a",
       "version_major": 2,
       "version_minor": 0
      },
      "text/plain": [
       "Reading chunks with pandas!:   0%|          | 0/1 [00:00<?, ?it/s]"
      ]
     },
     "metadata": {},
     "output_type": "display_data"
    },
    {
     "name": "stdout",
     "output_type": "stream",
     "text": [
      "Chunk data/train_data\\train_data_10.pq\n",
      "['data/train_data\\\\train_data_0.pq', 'data/train_data\\\\train_data_1.pq', 'data/train_data\\\\train_data_10.pq', 'data/train_data\\\\train_data_11.pq', 'data/train_data\\\\train_data_2.pq', 'data/train_data\\\\train_data_3.pq', 'data/train_data\\\\train_data_4.pq', 'data/train_data\\\\train_data_5.pq', 'data/train_data\\\\train_data_6.pq', 'data/train_data\\\\train_data_7.pq', 'data/train_data\\\\train_data_8.pq', 'data/train_data\\\\train_data_9.pq']\n",
      "Reading chunks!\n",
      "Read chunk: data/train_data\\train_data_11.pq\n"
     ]
    },
    {
     "data": {
      "application/vnd.jupyter.widget-view+json": {
       "model_id": "4ccef68127b94bfa9b2fcaf830e98b5b",
       "version_major": 2,
       "version_minor": 0
      },
      "text/plain": [
       "Reading chunks with pandas!:   0%|          | 0/1 [00:00<?, ?it/s]"
      ]
     },
     "metadata": {},
     "output_type": "display_data"
    },
    {
     "name": "stdout",
     "output_type": "stream",
     "text": [
      "Chunk data/train_data\\train_data_11.pq\n",
      "['data/train_data\\\\train_data_0.pq', 'data/train_data\\\\train_data_1.pq', 'data/train_data\\\\train_data_10.pq', 'data/train_data\\\\train_data_11.pq', 'data/train_data\\\\train_data_2.pq', 'data/train_data\\\\train_data_3.pq', 'data/train_data\\\\train_data_4.pq', 'data/train_data\\\\train_data_5.pq', 'data/train_data\\\\train_data_6.pq', 'data/train_data\\\\train_data_7.pq', 'data/train_data\\\\train_data_8.pq', 'data/train_data\\\\train_data_9.pq']\n",
      "Reading chunks!\n",
      "Read chunk: data/train_data\\train_data_2.pq\n"
     ]
    },
    {
     "data": {
      "application/vnd.jupyter.widget-view+json": {
       "model_id": "84a26599d44c426f9cb051b2df5856ff",
       "version_major": 2,
       "version_minor": 0
      },
      "text/plain": [
       "Reading chunks with pandas!:   0%|          | 0/1 [00:00<?, ?it/s]"
      ]
     },
     "metadata": {},
     "output_type": "display_data"
    },
    {
     "name": "stdout",
     "output_type": "stream",
     "text": [
      "Chunk data/train_data\\train_data_2.pq\n",
      "['data/train_data\\\\train_data_0.pq', 'data/train_data\\\\train_data_1.pq', 'data/train_data\\\\train_data_10.pq', 'data/train_data\\\\train_data_11.pq', 'data/train_data\\\\train_data_2.pq', 'data/train_data\\\\train_data_3.pq', 'data/train_data\\\\train_data_4.pq', 'data/train_data\\\\train_data_5.pq', 'data/train_data\\\\train_data_6.pq', 'data/train_data\\\\train_data_7.pq', 'data/train_data\\\\train_data_8.pq', 'data/train_data\\\\train_data_9.pq']\n",
      "Reading chunks!\n",
      "Read chunk: data/train_data\\train_data_3.pq\n"
     ]
    },
    {
     "data": {
      "application/vnd.jupyter.widget-view+json": {
       "model_id": "29629a65fdd24f49848e990da553b204",
       "version_major": 2,
       "version_minor": 0
      },
      "text/plain": [
       "Reading chunks with pandas!:   0%|          | 0/1 [00:00<?, ?it/s]"
      ]
     },
     "metadata": {},
     "output_type": "display_data"
    },
    {
     "name": "stdout",
     "output_type": "stream",
     "text": [
      "Chunk data/train_data\\train_data_3.pq\n",
      "['data/train_data\\\\train_data_0.pq', 'data/train_data\\\\train_data_1.pq', 'data/train_data\\\\train_data_10.pq', 'data/train_data\\\\train_data_11.pq', 'data/train_data\\\\train_data_2.pq', 'data/train_data\\\\train_data_3.pq', 'data/train_data\\\\train_data_4.pq', 'data/train_data\\\\train_data_5.pq', 'data/train_data\\\\train_data_6.pq', 'data/train_data\\\\train_data_7.pq', 'data/train_data\\\\train_data_8.pq', 'data/train_data\\\\train_data_9.pq']\n",
      "Reading chunks!\n",
      "Read chunk: data/train_data\\train_data_4.pq\n"
     ]
    },
    {
     "data": {
      "application/vnd.jupyter.widget-view+json": {
       "model_id": "e7e9634903674b8d8939151c968b380f",
       "version_major": 2,
       "version_minor": 0
      },
      "text/plain": [
       "Reading chunks with pandas!:   0%|          | 0/1 [00:00<?, ?it/s]"
      ]
     },
     "metadata": {},
     "output_type": "display_data"
    },
    {
     "name": "stdout",
     "output_type": "stream",
     "text": [
      "Chunk data/train_data\\train_data_4.pq\n",
      "['data/train_data\\\\train_data_0.pq', 'data/train_data\\\\train_data_1.pq', 'data/train_data\\\\train_data_10.pq', 'data/train_data\\\\train_data_11.pq', 'data/train_data\\\\train_data_2.pq', 'data/train_data\\\\train_data_3.pq', 'data/train_data\\\\train_data_4.pq', 'data/train_data\\\\train_data_5.pq', 'data/train_data\\\\train_data_6.pq', 'data/train_data\\\\train_data_7.pq', 'data/train_data\\\\train_data_8.pq', 'data/train_data\\\\train_data_9.pq']\n",
      "Reading chunks!\n",
      "Read chunk: data/train_data\\train_data_5.pq\n"
     ]
    },
    {
     "data": {
      "application/vnd.jupyter.widget-view+json": {
       "model_id": "95449d9e598645b8b95346e526db934a",
       "version_major": 2,
       "version_minor": 0
      },
      "text/plain": [
       "Reading chunks with pandas!:   0%|          | 0/1 [00:00<?, ?it/s]"
      ]
     },
     "metadata": {},
     "output_type": "display_data"
    },
    {
     "name": "stdout",
     "output_type": "stream",
     "text": [
      "Chunk data/train_data\\train_data_5.pq\n",
      "['data/train_data\\\\train_data_0.pq', 'data/train_data\\\\train_data_1.pq', 'data/train_data\\\\train_data_10.pq', 'data/train_data\\\\train_data_11.pq', 'data/train_data\\\\train_data_2.pq', 'data/train_data\\\\train_data_3.pq', 'data/train_data\\\\train_data_4.pq', 'data/train_data\\\\train_data_5.pq', 'data/train_data\\\\train_data_6.pq', 'data/train_data\\\\train_data_7.pq', 'data/train_data\\\\train_data_8.pq', 'data/train_data\\\\train_data_9.pq']\n",
      "Reading chunks!\n",
      "Read chunk: data/train_data\\train_data_6.pq\n"
     ]
    },
    {
     "data": {
      "application/vnd.jupyter.widget-view+json": {
       "model_id": "fb95a3fe1a284d138384bcb95eb78208",
       "version_major": 2,
       "version_minor": 0
      },
      "text/plain": [
       "Reading chunks with pandas!:   0%|          | 0/1 [00:00<?, ?it/s]"
      ]
     },
     "metadata": {},
     "output_type": "display_data"
    },
    {
     "name": "stdout",
     "output_type": "stream",
     "text": [
      "Chunk data/train_data\\train_data_6.pq\n",
      "['data/train_data\\\\train_data_0.pq', 'data/train_data\\\\train_data_1.pq', 'data/train_data\\\\train_data_10.pq', 'data/train_data\\\\train_data_11.pq', 'data/train_data\\\\train_data_2.pq', 'data/train_data\\\\train_data_3.pq', 'data/train_data\\\\train_data_4.pq', 'data/train_data\\\\train_data_5.pq', 'data/train_data\\\\train_data_6.pq', 'data/train_data\\\\train_data_7.pq', 'data/train_data\\\\train_data_8.pq', 'data/train_data\\\\train_data_9.pq']\n",
      "Reading chunks!\n",
      "Read chunk: data/train_data\\train_data_7.pq\n"
     ]
    },
    {
     "data": {
      "application/vnd.jupyter.widget-view+json": {
       "model_id": "5dcff34f74b84f259830251aac9524a7",
       "version_major": 2,
       "version_minor": 0
      },
      "text/plain": [
       "Reading chunks with pandas!:   0%|          | 0/1 [00:00<?, ?it/s]"
      ]
     },
     "metadata": {},
     "output_type": "display_data"
    },
    {
     "name": "stdout",
     "output_type": "stream",
     "text": [
      "Chunk data/train_data\\train_data_7.pq\n",
      "['data/train_data\\\\train_data_0.pq', 'data/train_data\\\\train_data_1.pq', 'data/train_data\\\\train_data_10.pq', 'data/train_data\\\\train_data_11.pq', 'data/train_data\\\\train_data_2.pq', 'data/train_data\\\\train_data_3.pq', 'data/train_data\\\\train_data_4.pq', 'data/train_data\\\\train_data_5.pq', 'data/train_data\\\\train_data_6.pq', 'data/train_data\\\\train_data_7.pq', 'data/train_data\\\\train_data_8.pq', 'data/train_data\\\\train_data_9.pq']\n",
      "Reading chunks!\n",
      "Read chunk: data/train_data\\train_data_8.pq\n"
     ]
    },
    {
     "data": {
      "application/vnd.jupyter.widget-view+json": {
       "model_id": "548ce6195cb4436ca0b05da7b5eddf44",
       "version_major": 2,
       "version_minor": 0
      },
      "text/plain": [
       "Reading chunks with pandas!:   0%|          | 0/1 [00:00<?, ?it/s]"
      ]
     },
     "metadata": {},
     "output_type": "display_data"
    },
    {
     "name": "stdout",
     "output_type": "stream",
     "text": [
      "Chunk data/train_data\\train_data_8.pq\n",
      "['data/train_data\\\\train_data_0.pq', 'data/train_data\\\\train_data_1.pq', 'data/train_data\\\\train_data_10.pq', 'data/train_data\\\\train_data_11.pq', 'data/train_data\\\\train_data_2.pq', 'data/train_data\\\\train_data_3.pq', 'data/train_data\\\\train_data_4.pq', 'data/train_data\\\\train_data_5.pq', 'data/train_data\\\\train_data_6.pq', 'data/train_data\\\\train_data_7.pq', 'data/train_data\\\\train_data_8.pq', 'data/train_data\\\\train_data_9.pq']\n",
      "Reading chunks!\n",
      "Read chunk: data/train_data\\train_data_9.pq\n"
     ]
    },
    {
     "data": {
      "application/vnd.jupyter.widget-view+json": {
       "model_id": "2530a913e68a4d8ca3a25ace54756f37",
       "version_major": 2,
       "version_minor": 0
      },
      "text/plain": [
       "Reading chunks with pandas!:   0%|          | 0/1 [00:00<?, ?it/s]"
      ]
     },
     "metadata": {},
     "output_type": "display_data"
    },
    {
     "name": "stdout",
     "output_type": "stream",
     "text": [
      "Chunk data/train_data\\train_data_9.pq\n"
     ]
    },
    {
     "data": {
      "application/vnd.jupyter.widget-view+json": {
       "model_id": "65cf393944d140749fa397d7fef3668c",
       "version_major": 2,
       "version_minor": 0
      },
      "text/plain": [
       "Transforming transactions data:   0%|          | 0/12 [00:00<?, ?it/s]"
      ]
     },
     "metadata": {},
     "output_type": "display_data"
    },
    {
     "name": "stdout",
     "output_type": "stream",
     "text": [
      "['data/train_data\\\\train_data_0.pq', 'data/train_data\\\\train_data_1.pq', 'data/train_data\\\\train_data_10.pq', 'data/train_data\\\\train_data_11.pq', 'data/train_data\\\\train_data_2.pq', 'data/train_data\\\\train_data_3.pq', 'data/train_data\\\\train_data_4.pq', 'data/train_data\\\\train_data_5.pq', 'data/train_data\\\\train_data_6.pq', 'data/train_data\\\\train_data_7.pq', 'data/train_data\\\\train_data_8.pq', 'data/train_data\\\\train_data_9.pq']\n",
      "Reading chunks!\n",
      "Read chunk: data/train_data\\train_data_0.pq\n"
     ]
    },
    {
     "data": {
      "application/vnd.jupyter.widget-view+json": {
       "model_id": "9ce0883b13f343ac92145b01e0b99ee4",
       "version_major": 2,
       "version_minor": 0
      },
      "text/plain": [
       "Reading chunks with pandas!:   0%|          | 0/1 [00:00<?, ?it/s]"
      ]
     },
     "metadata": {},
     "output_type": "display_data"
    },
    {
     "name": "stdout",
     "output_type": "stream",
     "text": [
      "Chunk data/train_data\\train_data_0.pq\n",
      "['data/train_data\\\\train_data_0.pq', 'data/train_data\\\\train_data_1.pq', 'data/train_data\\\\train_data_10.pq', 'data/train_data\\\\train_data_11.pq', 'data/train_data\\\\train_data_2.pq', 'data/train_data\\\\train_data_3.pq', 'data/train_data\\\\train_data_4.pq', 'data/train_data\\\\train_data_5.pq', 'data/train_data\\\\train_data_6.pq', 'data/train_data\\\\train_data_7.pq', 'data/train_data\\\\train_data_8.pq', 'data/train_data\\\\train_data_9.pq']\n",
      "Reading chunks!\n",
      "Read chunk: data/train_data\\train_data_1.pq\n"
     ]
    },
    {
     "data": {
      "application/vnd.jupyter.widget-view+json": {
       "model_id": "198cae9702cb489395b94e422b59cc51",
       "version_major": 2,
       "version_minor": 0
      },
      "text/plain": [
       "Reading chunks with pandas!:   0%|          | 0/1 [00:00<?, ?it/s]"
      ]
     },
     "metadata": {},
     "output_type": "display_data"
    },
    {
     "name": "stdout",
     "output_type": "stream",
     "text": [
      "Chunk data/train_data\\train_data_1.pq\n",
      "['data/train_data\\\\train_data_0.pq', 'data/train_data\\\\train_data_1.pq', 'data/train_data\\\\train_data_10.pq', 'data/train_data\\\\train_data_11.pq', 'data/train_data\\\\train_data_2.pq', 'data/train_data\\\\train_data_3.pq', 'data/train_data\\\\train_data_4.pq', 'data/train_data\\\\train_data_5.pq', 'data/train_data\\\\train_data_6.pq', 'data/train_data\\\\train_data_7.pq', 'data/train_data\\\\train_data_8.pq', 'data/train_data\\\\train_data_9.pq']\n",
      "Reading chunks!\n",
      "Read chunk: data/train_data\\train_data_10.pq\n"
     ]
    },
    {
     "data": {
      "application/vnd.jupyter.widget-view+json": {
       "model_id": "402a8e45641444ccbfeaa1a5de5dc609",
       "version_major": 2,
       "version_minor": 0
      },
      "text/plain": [
       "Reading chunks with pandas!:   0%|          | 0/1 [00:00<?, ?it/s]"
      ]
     },
     "metadata": {},
     "output_type": "display_data"
    },
    {
     "name": "stdout",
     "output_type": "stream",
     "text": [
      "Chunk data/train_data\\train_data_10.pq\n",
      "['data/train_data\\\\train_data_0.pq', 'data/train_data\\\\train_data_1.pq', 'data/train_data\\\\train_data_10.pq', 'data/train_data\\\\train_data_11.pq', 'data/train_data\\\\train_data_2.pq', 'data/train_data\\\\train_data_3.pq', 'data/train_data\\\\train_data_4.pq', 'data/train_data\\\\train_data_5.pq', 'data/train_data\\\\train_data_6.pq', 'data/train_data\\\\train_data_7.pq', 'data/train_data\\\\train_data_8.pq', 'data/train_data\\\\train_data_9.pq']\n",
      "Reading chunks!\n",
      "Read chunk: data/train_data\\train_data_11.pq\n"
     ]
    },
    {
     "data": {
      "application/vnd.jupyter.widget-view+json": {
       "model_id": "67ffd5deaca44ea2a6c0caf86eaca052",
       "version_major": 2,
       "version_minor": 0
      },
      "text/plain": [
       "Reading chunks with pandas!:   0%|          | 0/1 [00:00<?, ?it/s]"
      ]
     },
     "metadata": {},
     "output_type": "display_data"
    },
    {
     "name": "stdout",
     "output_type": "stream",
     "text": [
      "Chunk data/train_data\\train_data_11.pq\n",
      "['data/train_data\\\\train_data_0.pq', 'data/train_data\\\\train_data_1.pq', 'data/train_data\\\\train_data_10.pq', 'data/train_data\\\\train_data_11.pq', 'data/train_data\\\\train_data_2.pq', 'data/train_data\\\\train_data_3.pq', 'data/train_data\\\\train_data_4.pq', 'data/train_data\\\\train_data_5.pq', 'data/train_data\\\\train_data_6.pq', 'data/train_data\\\\train_data_7.pq', 'data/train_data\\\\train_data_8.pq', 'data/train_data\\\\train_data_9.pq']\n",
      "Reading chunks!\n",
      "Read chunk: data/train_data\\train_data_2.pq\n"
     ]
    },
    {
     "data": {
      "application/vnd.jupyter.widget-view+json": {
       "model_id": "162d7ce9b50e4663a35c7d7b8d6a52e6",
       "version_major": 2,
       "version_minor": 0
      },
      "text/plain": [
       "Reading chunks with pandas!:   0%|          | 0/1 [00:00<?, ?it/s]"
      ]
     },
     "metadata": {},
     "output_type": "display_data"
    },
    {
     "name": "stdout",
     "output_type": "stream",
     "text": [
      "Chunk data/train_data\\train_data_2.pq\n",
      "['data/train_data\\\\train_data_0.pq', 'data/train_data\\\\train_data_1.pq', 'data/train_data\\\\train_data_10.pq', 'data/train_data\\\\train_data_11.pq', 'data/train_data\\\\train_data_2.pq', 'data/train_data\\\\train_data_3.pq', 'data/train_data\\\\train_data_4.pq', 'data/train_data\\\\train_data_5.pq', 'data/train_data\\\\train_data_6.pq', 'data/train_data\\\\train_data_7.pq', 'data/train_data\\\\train_data_8.pq', 'data/train_data\\\\train_data_9.pq']\n",
      "Reading chunks!\n",
      "Read chunk: data/train_data\\train_data_3.pq\n"
     ]
    },
    {
     "data": {
      "application/vnd.jupyter.widget-view+json": {
       "model_id": "1ddf62f8f4e94f2ea2a52d550b2c57cb",
       "version_major": 2,
       "version_minor": 0
      },
      "text/plain": [
       "Reading chunks with pandas!:   0%|          | 0/1 [00:00<?, ?it/s]"
      ]
     },
     "metadata": {},
     "output_type": "display_data"
    },
    {
     "name": "stdout",
     "output_type": "stream",
     "text": [
      "Chunk data/train_data\\train_data_3.pq\n",
      "['data/train_data\\\\train_data_0.pq', 'data/train_data\\\\train_data_1.pq', 'data/train_data\\\\train_data_10.pq', 'data/train_data\\\\train_data_11.pq', 'data/train_data\\\\train_data_2.pq', 'data/train_data\\\\train_data_3.pq', 'data/train_data\\\\train_data_4.pq', 'data/train_data\\\\train_data_5.pq', 'data/train_data\\\\train_data_6.pq', 'data/train_data\\\\train_data_7.pq', 'data/train_data\\\\train_data_8.pq', 'data/train_data\\\\train_data_9.pq']\n",
      "Reading chunks!\n",
      "Read chunk: data/train_data\\train_data_4.pq\n"
     ]
    },
    {
     "data": {
      "application/vnd.jupyter.widget-view+json": {
       "model_id": "5bf319d321b14d6e90b69fbf77cf9362",
       "version_major": 2,
       "version_minor": 0
      },
      "text/plain": [
       "Reading chunks with pandas!:   0%|          | 0/1 [00:00<?, ?it/s]"
      ]
     },
     "metadata": {},
     "output_type": "display_data"
    },
    {
     "name": "stdout",
     "output_type": "stream",
     "text": [
      "Chunk data/train_data\\train_data_4.pq\n",
      "['data/train_data\\\\train_data_0.pq', 'data/train_data\\\\train_data_1.pq', 'data/train_data\\\\train_data_10.pq', 'data/train_data\\\\train_data_11.pq', 'data/train_data\\\\train_data_2.pq', 'data/train_data\\\\train_data_3.pq', 'data/train_data\\\\train_data_4.pq', 'data/train_data\\\\train_data_5.pq', 'data/train_data\\\\train_data_6.pq', 'data/train_data\\\\train_data_7.pq', 'data/train_data\\\\train_data_8.pq', 'data/train_data\\\\train_data_9.pq']\n",
      "Reading chunks!\n",
      "Read chunk: data/train_data\\train_data_5.pq\n"
     ]
    },
    {
     "data": {
      "application/vnd.jupyter.widget-view+json": {
       "model_id": "869d9ed2dcae45b8bde98c664fbb3b90",
       "version_major": 2,
       "version_minor": 0
      },
      "text/plain": [
       "Reading chunks with pandas!:   0%|          | 0/1 [00:00<?, ?it/s]"
      ]
     },
     "metadata": {},
     "output_type": "display_data"
    },
    {
     "name": "stdout",
     "output_type": "stream",
     "text": [
      "Chunk data/train_data\\train_data_5.pq\n",
      "['data/train_data\\\\train_data_0.pq', 'data/train_data\\\\train_data_1.pq', 'data/train_data\\\\train_data_10.pq', 'data/train_data\\\\train_data_11.pq', 'data/train_data\\\\train_data_2.pq', 'data/train_data\\\\train_data_3.pq', 'data/train_data\\\\train_data_4.pq', 'data/train_data\\\\train_data_5.pq', 'data/train_data\\\\train_data_6.pq', 'data/train_data\\\\train_data_7.pq', 'data/train_data\\\\train_data_8.pq', 'data/train_data\\\\train_data_9.pq']\n",
      "Reading chunks!\n",
      "Read chunk: data/train_data\\train_data_6.pq\n"
     ]
    },
    {
     "data": {
      "application/vnd.jupyter.widget-view+json": {
       "model_id": "ef382c3acfd94167b3214aa81c9f55bf",
       "version_major": 2,
       "version_minor": 0
      },
      "text/plain": [
       "Reading chunks with pandas!:   0%|          | 0/1 [00:00<?, ?it/s]"
      ]
     },
     "metadata": {},
     "output_type": "display_data"
    },
    {
     "name": "stdout",
     "output_type": "stream",
     "text": [
      "Chunk data/train_data\\train_data_6.pq\n",
      "['data/train_data\\\\train_data_0.pq', 'data/train_data\\\\train_data_1.pq', 'data/train_data\\\\train_data_10.pq', 'data/train_data\\\\train_data_11.pq', 'data/train_data\\\\train_data_2.pq', 'data/train_data\\\\train_data_3.pq', 'data/train_data\\\\train_data_4.pq', 'data/train_data\\\\train_data_5.pq', 'data/train_data\\\\train_data_6.pq', 'data/train_data\\\\train_data_7.pq', 'data/train_data\\\\train_data_8.pq', 'data/train_data\\\\train_data_9.pq']\n",
      "Reading chunks!\n",
      "Read chunk: data/train_data\\train_data_7.pq\n"
     ]
    },
    {
     "data": {
      "application/vnd.jupyter.widget-view+json": {
       "model_id": "42468c1d520247de95adf81f72db1269",
       "version_major": 2,
       "version_minor": 0
      },
      "text/plain": [
       "Reading chunks with pandas!:   0%|          | 0/1 [00:00<?, ?it/s]"
      ]
     },
     "metadata": {},
     "output_type": "display_data"
    },
    {
     "name": "stdout",
     "output_type": "stream",
     "text": [
      "Chunk data/train_data\\train_data_7.pq\n",
      "['data/train_data\\\\train_data_0.pq', 'data/train_data\\\\train_data_1.pq', 'data/train_data\\\\train_data_10.pq', 'data/train_data\\\\train_data_11.pq', 'data/train_data\\\\train_data_2.pq', 'data/train_data\\\\train_data_3.pq', 'data/train_data\\\\train_data_4.pq', 'data/train_data\\\\train_data_5.pq', 'data/train_data\\\\train_data_6.pq', 'data/train_data\\\\train_data_7.pq', 'data/train_data\\\\train_data_8.pq', 'data/train_data\\\\train_data_9.pq']\n",
      "Reading chunks!\n",
      "Read chunk: data/train_data\\train_data_8.pq\n"
     ]
    },
    {
     "data": {
      "application/vnd.jupyter.widget-view+json": {
       "model_id": "403c4e936a1c4b8c8ce56e03050d2af2",
       "version_major": 2,
       "version_minor": 0
      },
      "text/plain": [
       "Reading chunks with pandas!:   0%|          | 0/1 [00:00<?, ?it/s]"
      ]
     },
     "metadata": {},
     "output_type": "display_data"
    },
    {
     "name": "stdout",
     "output_type": "stream",
     "text": [
      "Chunk data/train_data\\train_data_8.pq\n",
      "['data/train_data\\\\train_data_0.pq', 'data/train_data\\\\train_data_1.pq', 'data/train_data\\\\train_data_10.pq', 'data/train_data\\\\train_data_11.pq', 'data/train_data\\\\train_data_2.pq', 'data/train_data\\\\train_data_3.pq', 'data/train_data\\\\train_data_4.pq', 'data/train_data\\\\train_data_5.pq', 'data/train_data\\\\train_data_6.pq', 'data/train_data\\\\train_data_7.pq', 'data/train_data\\\\train_data_8.pq', 'data/train_data\\\\train_data_9.pq']\n",
      "Reading chunks!\n",
      "Read chunk: data/train_data\\train_data_9.pq\n"
     ]
    },
    {
     "data": {
      "application/vnd.jupyter.widget-view+json": {
       "model_id": "e0081ff78cb34e7584831fabe57ba80e",
       "version_major": 2,
       "version_minor": 0
      },
      "text/plain": [
       "Reading chunks with pandas!:   0%|          | 0/1 [00:00<?, ?it/s]"
      ]
     },
     "metadata": {},
     "output_type": "display_data"
    },
    {
     "name": "stdout",
     "output_type": "stream",
     "text": [
      "Chunk data/train_data\\train_data_9.pq\n",
      "['data/preprocess_train_data\\\\processed_chunk_count_agg_000.parquet', 'data/preprocess_train_data\\\\processed_chunk_count_agg_001.parquet', 'data/preprocess_train_data\\\\processed_chunk_count_agg_002.parquet', 'data/preprocess_train_data\\\\processed_chunk_count_agg_003.parquet', 'data/preprocess_train_data\\\\processed_chunk_count_agg_004.parquet', 'data/preprocess_train_data\\\\processed_chunk_count_agg_005.parquet', 'data/preprocess_train_data\\\\processed_chunk_count_agg_006.parquet', 'data/preprocess_train_data\\\\processed_chunk_count_agg_007.parquet', 'data/preprocess_train_data\\\\processed_chunk_count_agg_008.parquet', 'data/preprocess_train_data\\\\processed_chunk_count_agg_009.parquet', 'data/preprocess_train_data\\\\processed_chunk_count_agg_010.parquet', 'data/preprocess_train_data\\\\processed_chunk_count_agg_011.parquet']\n",
      "Reading chunks!\n"
     ]
    },
    {
     "data": {
      "application/vnd.jupyter.widget-view+json": {
       "model_id": "a03d34a2f855404f9b526e1e3ae9f713",
       "version_major": 2,
       "version_minor": 0
      },
      "text/plain": [
       "Reading chunks in COUNT frames:   0%|          | 0/12 [00:00<?, ?it/s]"
      ]
     },
     "metadata": {},
     "output_type": "display_data"
    },
    {
     "data": {
      "application/vnd.jupyter.widget-view+json": {
       "model_id": "c9eddab434a24c2b902c67701b4de003",
       "version_major": 2,
       "version_minor": 0
      },
      "text/plain": [
       "Reading chunks in WEIGHT frames:   0%|          | 0/12 [00:00<?, ?it/s]"
      ]
     },
     "metadata": {},
     "output_type": "display_data"
    },
    {
     "name": "stdout",
     "output_type": "stream",
     "text": [
      "Фрейм сохранен по пути data/process_data\\train_data_w_target.csv\n"
     ]
    }
   ],
   "source": [
    "X_train, X_test, y_train, y_test = pipeline()"
   ]
  },
  {
   "cell_type": "code",
   "execution_count": 7,
   "id": "7a80ff8e",
   "metadata": {},
   "outputs": [
    {
     "name": "stdout",
     "output_type": "stream",
     "text": [
      "Размеры обучающей выборки: (2400000, 839)\n",
      "Размеры тестовой выбоки (600000, 839)\n"
     ]
    }
   ],
   "source": [
    "print('Размеры обучающей выборки:', X_train.shape)\n",
    "print('Размеры тестовой выбоки', X_test.shape)"
   ]
  },
  {
   "cell_type": "code",
   "execution_count": 8,
   "id": "bc2ab7e1",
   "metadata": {},
   "outputs": [],
   "source": [
    "agg_model_scores = []"
   ]
  },
  {
   "cell_type": "code",
   "execution_count": 9,
   "id": "a4c0d6d5",
   "metadata": {},
   "outputs": [],
   "source": [
    "def make_df_for_modelling(path_to_data: str, target: str):\n",
    "    \n",
    "    data = pd.read_csv(os.path.join(path, 'train_data_w_target.csv'), index_col=0)\n",
    "    data[['id', 'flag']] = data[['id', 'flag']].astype(int)\n",
    "    data.drop(['id'], axis=1, inplace=True)\n",
    "\n",
    "    features = list(data.columns.values)\n",
    "    features.remove(target)\n",
    "\n",
    "    X = data[features]\n",
    "    y = data[target]\n",
    "    \n",
    "    X_train, X_test, y_train, y_test = train_test_split(X, y, test_size=0.2, shuffle=True, stratify = y, random_state=42)\n",
    "    \n",
    "    return X_train, X_test, y_train, y_test"
   ]
  },
  {
   "cell_type": "markdown",
   "id": "d38c4bdf",
   "metadata": {},
   "source": [
    "#### Catboost Classifier"
   ]
  },
  {
   "cell_type": "code",
   "execution_count": 10,
   "id": "0e5091c3",
   "metadata": {},
   "outputs": [
    {
     "data": {
      "application/vnd.jupyter.widget-view+json": {
       "model_id": "a8a1a164b15d4c738e5ad3c2005b9015",
       "version_major": 2,
       "version_minor": 0
      },
      "text/plain": [
       "MetricVisualizer(layout=Layout(align_self='stretch', height='500px'))"
      ]
     },
     "metadata": {},
     "output_type": "display_data"
    },
    {
     "name": "stderr",
     "output_type": "stream",
     "text": [
      "Default metric period is 5 because AUC is/are not implemented for GPU\n",
      "Default metric period is 5 because AUC is/are not implemented for GPU\n"
     ]
    },
    {
     "name": "stdout",
     "output_type": "stream",
     "text": [
      "0:\ttest: 0.6659016\tbest: 0.6659016 (0)\ttotal: 204ms\tremaining: 16m 59s\n",
      "1000:\ttest: 0.7507770\tbest: 0.7507770 (998)\ttotal: 2m 28s\tremaining: 9m 53s\n",
      "2000:\ttest: 0.7533397\tbest: 0.7533397 (1999)\ttotal: 4m 24s\tremaining: 6m 36s\n",
      "3000:\ttest: 0.7543293\tbest: 0.7543294 (2998)\ttotal: 6m 16s\tremaining: 4m 10s\n",
      "4000:\ttest: 0.7550957\tbest: 0.7550957 (3995)\ttotal: 8m 7s\tremaining: 2m 1s\n",
      "4999:\ttest: 0.7567956\tbest: 0.7567956 (4957)\ttotal: 10m 5s\tremaining: 0us\n",
      "bestTest = 0.7567955852\n",
      "bestIteration = 4957\n",
      "Metric AUC is not calculated on train by default. To calculate this metric on train, add hints=skip_train~false to metric parameters.\n",
      "0:\tloss: 0.7567956\tbest: 0.7567956 (0)\ttotal: 10m 12s\tremaining: 1h 21m 43s\n"
     ]
    },
    {
     "name": "stderr",
     "output_type": "stream",
     "text": [
      "Default metric period is 5 because AUC is/are not implemented for GPU\n"
     ]
    },
    {
     "name": "stdout",
     "output_type": "stream",
     "text": [
      "0:\ttest: 0.6659016\tbest: 0.6659016 (0)\ttotal: 170ms\tremaining: 14m 10s\n",
      "1000:\ttest: 0.7516360\tbest: 0.7516360 (1000)\ttotal: 2m 31s\tremaining: 10m 3s\n",
      "2000:\ttest: 0.7562869\tbest: 0.7562869 (2000)\ttotal: 4m 40s\tremaining: 7m\n",
      "3000:\ttest: 0.7579376\tbest: 0.7579376 (3000)\ttotal: 6m 38s\tremaining: 4m 25s\n",
      "4000:\ttest: 0.7582504\tbest: 0.7582504 (3983)\ttotal: 8m 23s\tremaining: 2m 5s\n",
      "4999:\ttest: 0.7589853\tbest: 0.7589853 (4997)\ttotal: 10m 14s\tremaining: 0us\n",
      "bestTest = 0.7589853108\n",
      "bestIteration = 4997\n",
      "Metric AUC is not calculated on train by default. To calculate this metric on train, add hints=skip_train~false to metric parameters.\n"
     ]
    },
    {
     "name": "stderr",
     "output_type": "stream",
     "text": [
      "Default metric period is 5 because AUC is/are not implemented for GPU\n"
     ]
    },
    {
     "name": "stdout",
     "output_type": "stream",
     "text": [
      "0:\ttest: 0.6659016\tbest: 0.6659016 (0)\ttotal: 172ms\tremaining: 14m 19s\n",
      "1000:\ttest: 0.7522424\tbest: 0.7522424 (1000)\ttotal: 2m 32s\tremaining: 10m 8s\n",
      "2000:\ttest: 0.7574581\tbest: 0.7574581 (2000)\ttotal: 4m 48s\tremaining: 7m 12s\n",
      "3000:\ttest: 0.7596771\tbest: 0.7596771 (3000)\ttotal: 6m 56s\tremaining: 4m 37s\n",
      "4000:\ttest: 0.7614625\tbest: 0.7614625 (4000)\ttotal: 9m 9s\tremaining: 2m 17s\n",
      "4999:\ttest: 0.7629502\tbest: 0.7629502 (4999)\ttotal: 11m 27s\tremaining: 0us\n",
      "bestTest = 0.7629502416\n",
      "bestIteration = 4999\n",
      "Metric AUC is not calculated on train by default. To calculate this metric on train, add hints=skip_train~false to metric parameters.\n"
     ]
    },
    {
     "name": "stderr",
     "output_type": "stream",
     "text": [
      "Default metric period is 5 because AUC is/are not implemented for GPU\n"
     ]
    },
    {
     "name": "stdout",
     "output_type": "stream",
     "text": [
      "0:\ttest: 0.6779470\tbest: 0.6779470 (0)\ttotal: 214ms\tremaining: 17m 51s\n",
      "1000:\ttest: 0.7513551\tbest: 0.7513551 (1000)\ttotal: 2m 49s\tremaining: 11m 17s\n",
      "2000:\ttest: 0.7530580\tbest: 0.7530580 (1997)\ttotal: 4m 49s\tremaining: 7m 13s\n",
      "3000:\ttest: 0.7532376\tbest: 0.7532414 (2836)\ttotal: 6m 33s\tremaining: 4m 22s\n",
      "bestTest = 0.7532414496\n",
      "bestIteration = 2836\n",
      "Metric AUC is not calculated on train by default. To calculate this metric on train, add hints=skip_train~false to metric parameters.\n"
     ]
    },
    {
     "name": "stderr",
     "output_type": "stream",
     "text": [
      "Default metric period is 5 because AUC is/are not implemented for GPU\n"
     ]
    },
    {
     "name": "stdout",
     "output_type": "stream",
     "text": [
      "0:\ttest: 0.6779470\tbest: 0.6779470 (0)\ttotal: 214ms\tremaining: 17m 51s\n",
      "1000:\ttest: 0.7532697\tbest: 0.7532697 (1000)\ttotal: 2m 58s\tremaining: 11m 51s\n",
      "2000:\ttest: 0.7579461\tbest: 0.7579461 (1999)\ttotal: 5m 27s\tremaining: 8m 11s\n",
      "3000:\ttest: 0.7589621\tbest: 0.7589621 (2904)\ttotal: 7m 32s\tremaining: 5m 1s\n",
      "4000:\ttest: 0.7595068\tbest: 0.7595068 (3997)\ttotal: 9m 31s\tremaining: 2m 22s\n",
      "4999:\ttest: 0.7598498\tbest: 0.7598498 (4960)\ttotal: 11m 28s\tremaining: 0us\n",
      "bestTest = 0.7598497868\n",
      "bestIteration = 4960\n",
      "Metric AUC is not calculated on train by default. To calculate this metric on train, add hints=skip_train~false to metric parameters.\n"
     ]
    },
    {
     "name": "stderr",
     "output_type": "stream",
     "text": [
      "Default metric period is 5 because AUC is/are not implemented for GPU\n"
     ]
    },
    {
     "name": "stdout",
     "output_type": "stream",
     "text": [
      "0:\ttest: 0.6779470\tbest: 0.6779470 (0)\ttotal: 217ms\tremaining: 18m 7s\n",
      "1000:\ttest: 0.7551841\tbest: 0.7551841 (999)\ttotal: 3m 7s\tremaining: 12m 30s\n",
      "2000:\ttest: 0.7594083\tbest: 0.7594083 (2000)\ttotal: 5m 43s\tremaining: 8m 34s\n",
      "3000:\ttest: 0.7615683\tbest: 0.7615683 (2999)\ttotal: 8m 18s\tremaining: 5m 32s\n",
      "4000:\ttest: 0.7631362\tbest: 0.7631362 (3999)\ttotal: 10m 57s\tremaining: 2m 44s\n",
      "4999:\ttest: 0.7644028\tbest: 0.7644028 (4999)\ttotal: 13m 36s\tremaining: 0us\n",
      "bestTest = 0.7644028366\n",
      "bestIteration = 4999\n",
      "Metric AUC is not calculated on train by default. To calculate this metric on train, add hints=skip_train~false to metric parameters.\n"
     ]
    },
    {
     "name": "stderr",
     "output_type": "stream",
     "text": [
      "Default metric period is 5 because AUC is/are not implemented for GPU\n"
     ]
    },
    {
     "name": "stdout",
     "output_type": "stream",
     "text": [
      "0:\ttest: 0.6897177\tbest: 0.6897177 (0)\ttotal: 270ms\tremaining: 22m 28s\n",
      "1000:\ttest: 0.7510465\tbest: 0.7510465 (1000)\ttotal: 3m 15s\tremaining: 13m 2s\n",
      "2000:\ttest: 0.7534392\tbest: 0.7534392 (1917)\ttotal: 5m 38s\tremaining: 8m 26s\n",
      "3000:\ttest: 0.7537952\tbest: 0.7537957 (2669)\ttotal: 7m 35s\tremaining: 5m 3s\n",
      "bestTest = 0.753795743\n",
      "bestIteration = 2669\n",
      "Metric AUC is not calculated on train by default. To calculate this metric on train, add hints=skip_train~false to metric parameters.\n"
     ]
    },
    {
     "name": "stderr",
     "output_type": "stream",
     "text": [
      "Default metric period is 5 because AUC is/are not implemented for GPU\n"
     ]
    },
    {
     "name": "stdout",
     "output_type": "stream",
     "text": [
      "0:\ttest: 0.6897177\tbest: 0.6897177 (0)\ttotal: 268ms\tremaining: 22m 19s\n",
      "1000:\ttest: 0.7546702\tbest: 0.7546702 (1000)\ttotal: 3m 37s\tremaining: 14m 29s\n",
      "2000:\ttest: 0.7578044\tbest: 0.7578044 (1993)\ttotal: 6m 18s\tremaining: 9m 26s\n",
      "3000:\ttest: 0.7579497\tbest: 0.7579512 (2869)\ttotal: 8m 10s\tremaining: 5m 26s\n",
      "4000:\ttest: 0.7585276\tbest: 0.7585278 (3988)\ttotal: 10m 6s\tremaining: 2m 31s\n",
      "4999:\ttest: 0.7587413\tbest: 0.7587421 (4944)\ttotal: 11m 56s\tremaining: 0us\n",
      "bestTest = 0.7587421238\n",
      "bestIteration = 4944\n",
      "Metric AUC is not calculated on train by default. To calculate this metric on train, add hints=skip_train~false to metric parameters.\n"
     ]
    },
    {
     "name": "stderr",
     "output_type": "stream",
     "text": [
      "Default metric period is 5 because AUC is/are not implemented for GPU\n"
     ]
    },
    {
     "name": "stdout",
     "output_type": "stream",
     "text": [
      "0:\ttest: 0.6897177\tbest: 0.6897177 (0)\ttotal: 267ms\tremaining: 22m 12s\n",
      "1000:\ttest: 0.7563083\tbest: 0.7563083 (1000)\ttotal: 3m 51s\tremaining: 15m 24s\n",
      "2000:\ttest: 0.7609338\tbest: 0.7609338 (2000)\ttotal: 7m 8s\tremaining: 10m 41s\n",
      "3000:\ttest: 0.7626669\tbest: 0.7626669 (3000)\ttotal: 10m 6s\tremaining: 6m 43s\n",
      "4000:\ttest: 0.7635306\tbest: 0.7635351 (3910)\ttotal: 13m 6s\tremaining: 3m 16s\n",
      "4999:\ttest: 0.7644069\tbest: 0.7644139 (4978)\ttotal: 16m 9s\tremaining: 0us\n",
      "bestTest = 0.764413923\n",
      "bestIteration = 4978\n",
      "Metric AUC is not calculated on train by default. To calculate this metric on train, add hints=skip_train~false to metric parameters.\n",
      "8:\tloss: 0.7644139\tbest: 0.7644139 (8)\ttotal: 1h 39m 51s\tremaining: 0us\n",
      "Estimating final quality...\n"
     ]
    },
    {
     "name": "stderr",
     "output_type": "stream",
     "text": [
      "Default metric period is 5 because AUC is/are not implemented for GPU\n",
      "Warning: Overfitting detector is active, thus evaluation metric is calculated on every iteration. 'metric_period' is ignored for evaluation metric.\n"
     ]
    },
    {
     "name": "stdout",
     "output_type": "stream",
     "text": [
      "Training on fold [0/5]\n",
      "0:\ttest: 0.6922425\tbest: 0.6922425 (0)\ttotal: 275ms\tremaining: 22m 54s\n",
      "1000:\ttest: 0.7569688\tbest: 0.7569688 (999)\ttotal: 3m 48s\tremaining: 15m 12s\n",
      "2000:\ttest: 0.7614845\tbest: 0.7614845 (1999)\ttotal: 6m 58s\tremaining: 10m 27s\n",
      "3000:\ttest: 0.7623931\tbest: 0.7623931 (3000)\ttotal: 9m 11s\tremaining: 6m 7s\n",
      "4000:\ttest: 0.7635339\tbest: 0.7635339 (4000)\ttotal: 11m 36s\tremaining: 2m 53s\n",
      "4999:\ttest: 0.7647406\tbest: 0.7647406 (4993)\ttotal: 14m 14s\tremaining: 0us\n",
      "bestTest = 0.7647406161\n",
      "bestIteration = 4993\n",
      "Training on fold [1/5]\n",
      "0:\ttest: 0.6862042\tbest: 0.6862042 (0)\ttotal: 274ms\tremaining: 22m 52s\n",
      "1000:\ttest: 0.7545269\tbest: 0.7545269 (999)\ttotal: 3m 47s\tremaining: 15m 10s\n",
      "2000:\ttest: 0.7588683\tbest: 0.7588683 (2000)\ttotal: 6m 50s\tremaining: 10m 15s\n",
      "3000:\ttest: 0.7616961\tbest: 0.7616961 (3000)\ttotal: 10m 7s\tremaining: 6m 44s\n",
      "4000:\ttest: 0.7635733\tbest: 0.7635733 (4000)\ttotal: 13m 37s\tremaining: 3m 24s\n",
      "4999:\ttest: 0.7637800\tbest: 0.7637800 (4995)\ttotal: 16m 24s\tremaining: 0us\n",
      "bestTest = 0.763779968\n",
      "bestIteration = 4995\n",
      "Training on fold [2/5]\n",
      "0:\ttest: 0.6917153\tbest: 0.6917153 (0)\ttotal: 275ms\tremaining: 22m 55s\n",
      "1000:\ttest: 0.7590604\tbest: 0.7590604 (1000)\ttotal: 3m 47s\tremaining: 15m 8s\n",
      "2000:\ttest: 0.7638703\tbest: 0.7638703 (2000)\ttotal: 6m 53s\tremaining: 10m 19s\n",
      "3000:\ttest: 0.7667210\tbest: 0.7667248 (2987)\ttotal: 10m 18s\tremaining: 6m 51s\n",
      "4000:\ttest: 0.7677504\tbest: 0.7677504 (4000)\ttotal: 13m 24s\tremaining: 3m 20s\n",
      "4999:\ttest: 0.7685829\tbest: 0.7685859 (4993)\ttotal: 16m 34s\tremaining: 0us\n",
      "bestTest = 0.7685859203\n",
      "bestIteration = 4993\n",
      "Training on fold [3/5]\n",
      "0:\ttest: 0.6910078\tbest: 0.6910078 (0)\ttotal: 276ms\tremaining: 23m 1s\n",
      "1000:\ttest: 0.7570942\tbest: 0.7570942 (999)\ttotal: 3m 47s\tremaining: 15m 10s\n",
      "2000:\ttest: 0.7614463\tbest: 0.7614463 (1997)\ttotal: 6m 44s\tremaining: 10m 6s\n",
      "3000:\ttest: 0.7640367\tbest: 0.7640367 (3000)\ttotal: 9m 50s\tremaining: 6m 33s\n",
      "4000:\ttest: 0.7652104\tbest: 0.7652111 (3989)\ttotal: 13m 9s\tremaining: 3m 17s\n",
      "4999:\ttest: 0.7656448\tbest: 0.7656561 (4815)\ttotal: 15m 57s\tremaining: 0us\n",
      "bestTest = 0.7656560838\n",
      "bestIteration = 4815\n",
      "Training on fold [4/5]\n",
      "0:\ttest: 0.6898232\tbest: 0.6898232 (0)\ttotal: 286ms\tremaining: 23m 50s\n",
      "1000:\ttest: 0.7567780\tbest: 0.7567780 (1000)\ttotal: 3m 58s\tremaining: 15m 54s\n",
      "2000:\ttest: 0.7612441\tbest: 0.7612441 (2000)\ttotal: 7m 15s\tremaining: 10m 52s\n",
      "3000:\ttest: 0.7632057\tbest: 0.7632222 (2888)\ttotal: 10m 34s\tremaining: 7m 2s\n",
      "bestTest = 0.763222158\n",
      "bestIteration = 2888\n"
     ]
    },
    {
     "name": "stderr",
     "output_type": "stream",
     "text": [
      "Default metric period is 5 because AUC is/are not implemented for GPU\n"
     ]
    }
   ],
   "source": [
    "catboost = CatBoostClassifier(\n",
    "            eval_metric='AUC',\n",
    "            verbose=1000,\n",
    "            task_type='GPU',\n",
    "            iterations=5000,\n",
    "            early_stopping_rounds=400,\n",
    "            loss_function='Logloss',\n",
    "            learning_rate=0.01,\n",
    "            auto_class_weights='Balanced',\n",
    "            random_state=42,\n",
    "            boosting_type='Ordered',\n",
    "            bootstrap_type='Bernoulli',\n",
    "            subsample=0.5,\n",
    "            leaf_estimation_iterations=5,\n",
    "            max_ctr_complexity=1)\n",
    "\n",
    "params = {\n",
    "    'depth': [4, 5, 6],\n",
    "    'l2_leaf_reg': [2, 3, 4]   \n",
    "}\n",
    "\n",
    "search_results = catboost.grid_search(params, X_train, y_train, cv=5, plot=True, verbose=1000)"
   ]
  },
  {
   "cell_type": "code",
   "execution_count": 11,
   "id": "fb45a08d",
   "metadata": {},
   "outputs": [],
   "source": [
    "best_params_catboost = catboost.get_params()"
   ]
  },
  {
   "cell_type": "code",
   "execution_count": 12,
   "id": "a56e4ccb",
   "metadata": {},
   "outputs": [
    {
     "data": {
      "text/plain": [
       "0"
      ]
     },
     "execution_count": 12,
     "metadata": {},
     "output_type": "execute_result"
    }
   ],
   "source": [
    "gc.collect()"
   ]
  },
  {
   "cell_type": "code",
   "execution_count": 13,
   "id": "1558a82c",
   "metadata": {},
   "outputs": [
    {
     "name": "stdout",
     "output_type": "stream",
     "text": [
      "Fold 1 started\n"
     ]
    },
    {
     "name": "stderr",
     "output_type": "stream",
     "text": [
      "Default metric period is 5 because AUC is/are not implemented for GPU\n"
     ]
    },
    {
     "name": "stdout",
     "output_type": "stream",
     "text": [
      "0:\ttest: 0.6906648\tbest: 0.6906648 (0)\ttotal: 277ms\tremaining: 23m 5s\n",
      "1000:\ttest: 0.7588211\tbest: 0.7588211 (1000)\ttotal: 4m\tremaining: 16m 1s\n",
      "2000:\ttest: 0.7629662\tbest: 0.7629662 (2000)\ttotal: 7m 23s\tremaining: 11m 5s\n",
      "bestTest = 0.7632828951\n",
      "bestIteration = 2201\n",
      "Shrink model to first 2202 iterations.\n",
      "ROC AUC SCORE: 0.7632828809563457\n",
      "Fold 2 started\n"
     ]
    },
    {
     "name": "stderr",
     "output_type": "stream",
     "text": [
      "Default metric period is 5 because AUC is/are not implemented for GPU\n"
     ]
    },
    {
     "name": "stdout",
     "output_type": "stream",
     "text": [
      "0:\ttest: 0.6885715\tbest: 0.6885715 (0)\ttotal: 282ms\tremaining: 23m 29s\n",
      "1000:\ttest: 0.7560538\tbest: 0.7560538 (1000)\ttotal: 3m 46s\tremaining: 15m 6s\n",
      "2000:\ttest: 0.7614513\tbest: 0.7614513 (2000)\ttotal: 7m 6s\tremaining: 10m 39s\n",
      "3000:\ttest: 0.7640398\tbest: 0.7640398 (3000)\ttotal: 10m 40s\tremaining: 7m 6s\n",
      "4000:\ttest: 0.7648053\tbest: 0.7648109 (3659)\ttotal: 13m 45s\tremaining: 3m 26s\n",
      "bestTest = 0.7648108602\n",
      "bestIteration = 3659\n",
      "Shrink model to first 3660 iterations.\n",
      "ROC AUC SCORE: 0.764810871093826\n",
      "Fold 3 started\n"
     ]
    },
    {
     "name": "stderr",
     "output_type": "stream",
     "text": [
      "Default metric period is 5 because AUC is/are not implemented for GPU\n"
     ]
    },
    {
     "name": "stdout",
     "output_type": "stream",
     "text": [
      "0:\ttest: 0.6882116\tbest: 0.6882116 (0)\ttotal: 279ms\tremaining: 23m 12s\n",
      "1000:\ttest: 0.7557673\tbest: 0.7557673 (1000)\ttotal: 3m 56s\tremaining: 15m 44s\n",
      "2000:\ttest: 0.7608649\tbest: 0.7608649 (2000)\ttotal: 7m 33s\tremaining: 11m 18s\n",
      "3000:\ttest: 0.7625690\tbest: 0.7625705 (2999)\ttotal: 10m 53s\tremaining: 7m 15s\n",
      "bestTest = 0.7627416849\n",
      "bestIteration = 3227\n",
      "Shrink model to first 3228 iterations.\n",
      "ROC AUC SCORE: 0.7627416911286014\n",
      "Fold 4 started\n"
     ]
    },
    {
     "name": "stderr",
     "output_type": "stream",
     "text": [
      "Default metric period is 5 because AUC is/are not implemented for GPU\n"
     ]
    },
    {
     "name": "stdout",
     "output_type": "stream",
     "text": [
      "0:\ttest: 0.6894701\tbest: 0.6894701 (0)\ttotal: 273ms\tremaining: 22m 43s\n",
      "1000:\ttest: 0.7565920\tbest: 0.7565920 (999)\ttotal: 3m 44s\tremaining: 14m 55s\n",
      "2000:\ttest: 0.7616656\tbest: 0.7616656 (2000)\ttotal: 6m 58s\tremaining: 10m 27s\n",
      "3000:\ttest: 0.7638637\tbest: 0.7638637 (3000)\ttotal: 10m 24s\tremaining: 6m 55s\n",
      "4000:\ttest: 0.7652782\tbest: 0.7652782 (4000)\ttotal: 13m 44s\tremaining: 3m 25s\n",
      "bestTest = 0.7654461563\n",
      "bestIteration = 4319\n",
      "Shrink model to first 4320 iterations.\n",
      "ROC AUC SCORE: 0.7654461895029501\n",
      "Fold 5 started\n"
     ]
    },
    {
     "name": "stderr",
     "output_type": "stream",
     "text": [
      "Default metric period is 5 because AUC is/are not implemented for GPU\n"
     ]
    },
    {
     "name": "stdout",
     "output_type": "stream",
     "text": [
      "0:\ttest: 0.6938946\tbest: 0.6938946 (0)\ttotal: 277ms\tremaining: 23m 6s\n",
      "1000:\ttest: 0.7610837\tbest: 0.7610837 (1000)\ttotal: 4m 1s\tremaining: 16m 3s\n",
      "2000:\ttest: 0.7658649\tbest: 0.7658649 (2000)\ttotal: 7m 36s\tremaining: 11m 24s\n",
      "3000:\ttest: 0.7676634\tbest: 0.7676634 (3000)\ttotal: 11m 7s\tremaining: 7m 24s\n",
      "4000:\ttest: 0.7680399\tbest: 0.7680415 (3965)\ttotal: 13m 57s\tremaining: 3m 29s\n",
      "bestTest = 0.7680414617\n",
      "bestIteration = 3965\n",
      "Shrink model to first 3966 iterations.\n",
      "ROC AUC SCORE: 0.7680414922393816\n"
     ]
    }
   ],
   "source": [
    "cv = StratifiedKFold(n_splits = 5, random_state=42, shuffle=True)\n",
    "\n",
    "models_catboost = []\n",
    "metrics_catboost = []\n",
    "\n",
    "for i, (train_indexes, test_indexes) in enumerate(cv.split(X_train, y_train), start=1):\n",
    "    \n",
    "    print(f'Fold {i} started')\n",
    "    \n",
    "    model = CatBoostClassifier(**best_params_catboost)\n",
    "    \n",
    "    y_tr, y_v = y_train.iloc[train_indexes], y_train.iloc[test_indexes]\n",
    "    X_tr, X_v = X_train.iloc[train_indexes], X_train.iloc[test_indexes]\n",
    "    \n",
    "    fit_model = model.fit(X_tr, y_tr, eval_set=(X_v.values, y_v.values),\n",
    "                          use_best_model = True, plot=False)\n",
    "    \n",
    "    predictions = fit_model.predict_proba(X_v)[:, 1]\n",
    "    print('ROC AUC SCORE:', roc_auc_score(y_v, predictions))\n",
    "    \n",
    "    models_catboost.append(fit_model)\n",
    "    metrics_catboost.append(roc_auc_score(y_v, predictions))\n"
   ]
  },
  {
   "cell_type": "code",
   "execution_count": 14,
   "id": "0b6e0ca2",
   "metadata": {},
   "outputs": [],
   "source": [
    "agg_model_scores.append(['CatBoostClassifier', metrics_catboost])"
   ]
  },
  {
   "cell_type": "code",
   "execution_count": 15,
   "id": "0a1bc5b1",
   "metadata": {},
   "outputs": [
    {
     "data": {
      "text/plain": [
       "0"
      ]
     },
     "execution_count": 15,
     "metadata": {},
     "output_type": "execute_result"
    }
   ],
   "source": [
    "gc.collect()"
   ]
  },
  {
   "cell_type": "code",
   "execution_count": 16,
   "id": "4eacd32d",
   "metadata": {},
   "outputs": [
    {
     "name": "stderr",
     "output_type": "stream",
     "text": [
      "Default metric period is 5 because AUC is/are not implemented for GPU\n"
     ]
    },
    {
     "name": "stdout",
     "output_type": "stream",
     "text": [
      "0:\ttotal: 287ms\tremaining: 23m 53s\n",
      "1000:\ttotal: 3m 57s\tremaining: 15m 47s\n",
      "2000:\ttotal: 7m 34s\tremaining: 11m 21s\n",
      "3000:\ttotal: 11m 9s\tremaining: 7m 25s\n",
      "4000:\ttotal: 14m 34s\tremaining: 3m 38s\n",
      "4999:\ttotal: 17m 57s\tremaining: 0us\n",
      "ROC_AUC_SCORE: 0.7691941819009794\n"
     ]
    }
   ],
   "source": [
    "best_cat = CatBoostClassifier(**best_params_catboost).fit(X_train, y_train)\n",
    "print('ROC_AUC_SCORE:', roc_auc_score(y_test, best_cat.predict_proba(X_test)[:, 1]))"
   ]
  },
  {
   "cell_type": "code",
   "execution_count": 17,
   "id": "7251da8e",
   "metadata": {},
   "outputs": [],
   "source": [
    "path_to_save = 'pickle_model'\n",
    "model_filename_cat = f'{path_to_save}/CatClassifier_cr_sc.pkl'\n",
    "with open(model_filename_cat, 'wb') as file:\n",
    "    dill.dump(best_cat, file)"
   ]
  },
  {
   "cell_type": "markdown",
   "id": "45534bab",
   "metadata": {},
   "source": [
    "#### XGBClassifier"
   ]
  },
  {
   "cell_type": "code",
   "execution_count": 18,
   "id": "5b3e15f4",
   "metadata": {},
   "outputs": [],
   "source": [
    "def GridSearchCV_XGB_early_stoppping(param_grid, fit_params, scorer, cv, X, y):\n",
    "    if isinstance(X, pd.DataFrame):\n",
    "        X = X.to_numpy()\n",
    "    if isinstance(y, pd.Series):\n",
    "        y = y.to_numpy()\n",
    "        \n",
    "    param_names, param_values = zip(*list(param_grid.items()))\n",
    "\n",
    "    cv_best_iterations = defaultdict(list)\n",
    "    cv_results = defaultdict(list)\n",
    "\n",
    "    for train_index, test_index in cv.split(X, y):\n",
    "        X_in, X_out = X[train_index], X[test_index]\n",
    "        y_in, y_out = y[train_index], y[test_index]\n",
    "\n",
    "        fit_params_cv = deepcopy(fit_params)\n",
    "        fit_params_cv['eval_set'] = [(X_out, y_out)]\n",
    "\n",
    "        for value_combination in product(*param_values):\n",
    "            param_grid_cv = tuple(zip(param_names, value_combination))\n",
    "            xgboost = XGBClassifier(**dict(param_grid_cv))\n",
    "\n",
    "            xgboost.fit(X_in, y_in, **fit_params_cv)\n",
    "            best_iteration = xgboost.get_num_boosting_rounds() if 'early_stopping_rounds' not in fit_params_cv else xgboost.best_iteration\n",
    "            cv_best_iterations[param_grid_cv].append(best_iteration)\n",
    "\n",
    "            score = scorer(xgboost, X_out, y_out)\n",
    "            cv_results[param_grid_cv].append(score)\n",
    "        \n",
    "    best_params_xgb, score_list = max(cv_results.items(), key=lambda x: np.array(x[1]).mean())\n",
    "\n",
    "    # Note that our XGBoost model may stop early,\n",
    "    # so we calculate the mean of the actual number of estimators in each fold,\n",
    "    # in place of the originally planned n_estimators after finishing cross validation.\n",
    "    n_estimators = int(round(np.array(cv_best_iterations[best_params_xgb]).mean()))\n",
    "    \n",
    "    best_params_xgb = dict(best_params_xgb)\n",
    "    best_params_xgb['n_estimators'] = n_estimators\n",
    "\n",
    "    print (\"Best score: {:.3f}\".format(np.array(score_list).mean()))\n",
    "    print (\"Best Parameters: {}\".format(best_params_xgb))\n",
    "    \n",
    "    return best_params_xgb"
   ]
  },
  {
   "cell_type": "code",
   "execution_count": 19,
   "id": "6f4248db",
   "metadata": {},
   "outputs": [
    {
     "data": {
      "text/plain": [
       "0"
      ]
     },
     "execution_count": 19,
     "metadata": {},
     "output_type": "execute_result"
    }
   ],
   "source": [
    "gc.collect()"
   ]
  },
  {
   "cell_type": "code",
   "execution_count": 20,
   "id": "c2ccc84c",
   "metadata": {},
   "outputs": [
    {
     "name": "stderr",
     "output_type": "stream",
     "text": [
      "C:\\Users\\user\\anaconda3\\lib\\site-packages\\xgboost\\sklearn.py:835: UserWarning: `early_stopping_rounds` in `fit` method is deprecated for better compatibility with scikit-learn, use `early_stopping_rounds` in constructor or`set_params` instead.\n",
      "  warnings.warn(\n"
     ]
    },
    {
     "name": "stdout",
     "output_type": "stream",
     "text": [
      "[0]\tvalidation_0-auc:0.66242\n",
      "[300]\tvalidation_0-auc:0.76333\n",
      "[600]\tvalidation_0-auc:0.76638\n",
      "[900]\tvalidation_0-auc:0.76703\n",
      "[1200]\tvalidation_0-auc:0.76720\n",
      "[1368]\tvalidation_0-auc:0.76721\n"
     ]
    },
    {
     "name": "stderr",
     "output_type": "stream",
     "text": [
      "C:\\Users\\user\\anaconda3\\lib\\site-packages\\xgboost\\sklearn.py:835: UserWarning: `early_stopping_rounds` in `fit` method is deprecated for better compatibility with scikit-learn, use `early_stopping_rounds` in constructor or`set_params` instead.\n",
      "  warnings.warn(\n"
     ]
    },
    {
     "name": "stdout",
     "output_type": "stream",
     "text": [
      "[0]\tvalidation_0-auc:0.67617\n",
      "[300]\tvalidation_0-auc:0.76469\n",
      "[600]\tvalidation_0-auc:0.76647\n",
      "[734]\tvalidation_0-auc:0.76666\n"
     ]
    },
    {
     "name": "stderr",
     "output_type": "stream",
     "text": [
      "C:\\Users\\user\\anaconda3\\lib\\site-packages\\xgboost\\sklearn.py:835: UserWarning: `early_stopping_rounds` in `fit` method is deprecated for better compatibility with scikit-learn, use `early_stopping_rounds` in constructor or`set_params` instead.\n",
      "  warnings.warn(\n"
     ]
    },
    {
     "name": "stdout",
     "output_type": "stream",
     "text": [
      "[0]\tvalidation_0-auc:0.68694\n",
      "[300]\tvalidation_0-auc:0.76558\n",
      "[600]\tvalidation_0-auc:0.76621\n",
      "[621]\tvalidation_0-auc:0.76617\n"
     ]
    },
    {
     "name": "stderr",
     "output_type": "stream",
     "text": [
      "C:\\Users\\user\\anaconda3\\lib\\site-packages\\xgboost\\sklearn.py:835: UserWarning: `early_stopping_rounds` in `fit` method is deprecated for better compatibility with scikit-learn, use `early_stopping_rounds` in constructor or`set_params` instead.\n",
      "  warnings.warn(\n"
     ]
    },
    {
     "name": "stdout",
     "output_type": "stream",
     "text": [
      "[0]\tvalidation_0-auc:0.65977\n",
      "[300]\tvalidation_0-auc:0.76437\n",
      "[600]\tvalidation_0-auc:0.76640\n",
      "[900]\tvalidation_0-auc:0.76703\n",
      "[1200]\tvalidation_0-auc:0.76734\n",
      "[1258]\tvalidation_0-auc:0.76731\n"
     ]
    },
    {
     "name": "stderr",
     "output_type": "stream",
     "text": [
      "C:\\Users\\user\\anaconda3\\lib\\site-packages\\xgboost\\sklearn.py:835: UserWarning: `early_stopping_rounds` in `fit` method is deprecated for better compatibility with scikit-learn, use `early_stopping_rounds` in constructor or`set_params` instead.\n",
      "  warnings.warn(\n"
     ]
    },
    {
     "name": "stdout",
     "output_type": "stream",
     "text": [
      "[0]\tvalidation_0-auc:0.68150\n",
      "[300]\tvalidation_0-auc:0.76537\n",
      "[600]\tvalidation_0-auc:0.76662\n",
      "[645]\tvalidation_0-auc:0.76652\n"
     ]
    },
    {
     "name": "stderr",
     "output_type": "stream",
     "text": [
      "C:\\Users\\user\\anaconda3\\lib\\site-packages\\xgboost\\sklearn.py:835: UserWarning: `early_stopping_rounds` in `fit` method is deprecated for better compatibility with scikit-learn, use `early_stopping_rounds` in constructor or`set_params` instead.\n",
      "  warnings.warn(\n"
     ]
    },
    {
     "name": "stdout",
     "output_type": "stream",
     "text": [
      "[0]\tvalidation_0-auc:0.69173\n",
      "[300]\tvalidation_0-auc:0.76648\n",
      "[465]\tvalidation_0-auc:0.76678\n"
     ]
    },
    {
     "name": "stderr",
     "output_type": "stream",
     "text": [
      "C:\\Users\\user\\anaconda3\\lib\\site-packages\\xgboost\\sklearn.py:835: UserWarning: `early_stopping_rounds` in `fit` method is deprecated for better compatibility with scikit-learn, use `early_stopping_rounds` in constructor or`set_params` instead.\n",
      "  warnings.warn(\n"
     ]
    },
    {
     "name": "stdout",
     "output_type": "stream",
     "text": [
      "[0]\tvalidation_0-auc:0.66113\n",
      "[300]\tvalidation_0-auc:0.76587\n",
      "[600]\tvalidation_0-auc:0.76836\n",
      "[900]\tvalidation_0-auc:0.76924\n",
      "[1135]\tvalidation_0-auc:0.76939\n"
     ]
    },
    {
     "name": "stderr",
     "output_type": "stream",
     "text": [
      "C:\\Users\\user\\anaconda3\\lib\\site-packages\\xgboost\\sklearn.py:835: UserWarning: `early_stopping_rounds` in `fit` method is deprecated for better compatibility with scikit-learn, use `early_stopping_rounds` in constructor or`set_params` instead.\n",
      "  warnings.warn(\n"
     ]
    },
    {
     "name": "stdout",
     "output_type": "stream",
     "text": [
      "[0]\tvalidation_0-auc:0.68105\n",
      "[300]\tvalidation_0-auc:0.76745\n",
      "[600]\tvalidation_0-auc:0.76920\n",
      "[900]\tvalidation_0-auc:0.76963\n",
      "[982]\tvalidation_0-auc:0.76957\n"
     ]
    },
    {
     "name": "stderr",
     "output_type": "stream",
     "text": [
      "C:\\Users\\user\\anaconda3\\lib\\site-packages\\xgboost\\sklearn.py:835: UserWarning: `early_stopping_rounds` in `fit` method is deprecated for better compatibility with scikit-learn, use `early_stopping_rounds` in constructor or`set_params` instead.\n",
      "  warnings.warn(\n"
     ]
    },
    {
     "name": "stdout",
     "output_type": "stream",
     "text": [
      "[0]\tvalidation_0-auc:0.69203\n",
      "[300]\tvalidation_0-auc:0.76804\n",
      "[540]\tvalidation_0-auc:0.76833\n"
     ]
    },
    {
     "name": "stderr",
     "output_type": "stream",
     "text": [
      "C:\\Users\\user\\anaconda3\\lib\\site-packages\\xgboost\\sklearn.py:835: UserWarning: `early_stopping_rounds` in `fit` method is deprecated for better compatibility with scikit-learn, use `early_stopping_rounds` in constructor or`set_params` instead.\n",
      "  warnings.warn(\n"
     ]
    },
    {
     "name": "stdout",
     "output_type": "stream",
     "text": [
      "[0]\tvalidation_0-auc:0.67690\n",
      "[300]\tvalidation_0-auc:0.76752\n",
      "[600]\tvalidation_0-auc:0.77037\n",
      "[900]\tvalidation_0-auc:0.77120\n",
      "[1023]\tvalidation_0-auc:0.77123\n"
     ]
    },
    {
     "name": "stderr",
     "output_type": "stream",
     "text": [
      "C:\\Users\\user\\anaconda3\\lib\\site-packages\\xgboost\\sklearn.py:835: UserWarning: `early_stopping_rounds` in `fit` method is deprecated for better compatibility with scikit-learn, use `early_stopping_rounds` in constructor or`set_params` instead.\n",
      "  warnings.warn(\n"
     ]
    },
    {
     "name": "stdout",
     "output_type": "stream",
     "text": [
      "[0]\tvalidation_0-auc:0.69026\n",
      "[300]\tvalidation_0-auc:0.76885\n",
      "[600]\tvalidation_0-auc:0.77009\n",
      "[804]\tvalidation_0-auc:0.77030\n"
     ]
    },
    {
     "name": "stderr",
     "output_type": "stream",
     "text": [
      "C:\\Users\\user\\anaconda3\\lib\\site-packages\\xgboost\\sklearn.py:835: UserWarning: `early_stopping_rounds` in `fit` method is deprecated for better compatibility with scikit-learn, use `early_stopping_rounds` in constructor or`set_params` instead.\n",
      "  warnings.warn(\n"
     ]
    },
    {
     "name": "stdout",
     "output_type": "stream",
     "text": [
      "[0]\tvalidation_0-auc:0.69955\n",
      "[300]\tvalidation_0-auc:0.76990\n",
      "[571]\tvalidation_0-auc:0.77023\n"
     ]
    },
    {
     "name": "stderr",
     "output_type": "stream",
     "text": [
      "C:\\Users\\user\\anaconda3\\lib\\site-packages\\xgboost\\sklearn.py:835: UserWarning: `early_stopping_rounds` in `fit` method is deprecated for better compatibility with scikit-learn, use `early_stopping_rounds` in constructor or`set_params` instead.\n",
      "  warnings.warn(\n"
     ]
    },
    {
     "name": "stdout",
     "output_type": "stream",
     "text": [
      "[0]\tvalidation_0-auc:0.66157\n",
      "[300]\tvalidation_0-auc:0.76476\n",
      "[600]\tvalidation_0-auc:0.76687\n",
      "[900]\tvalidation_0-auc:0.76773\n",
      "[1122]\tvalidation_0-auc:0.76782\n"
     ]
    },
    {
     "name": "stderr",
     "output_type": "stream",
     "text": [
      "C:\\Users\\user\\anaconda3\\lib\\site-packages\\xgboost\\sklearn.py:835: UserWarning: `early_stopping_rounds` in `fit` method is deprecated for better compatibility with scikit-learn, use `early_stopping_rounds` in constructor or`set_params` instead.\n",
      "  warnings.warn(\n"
     ]
    },
    {
     "name": "stdout",
     "output_type": "stream",
     "text": [
      "[0]\tvalidation_0-auc:0.68150\n",
      "[300]\tvalidation_0-auc:0.76583\n",
      "[600]\tvalidation_0-auc:0.76691\n",
      "[609]\tvalidation_0-auc:0.76689\n"
     ]
    },
    {
     "name": "stderr",
     "output_type": "stream",
     "text": [
      "C:\\Users\\user\\anaconda3\\lib\\site-packages\\xgboost\\sklearn.py:835: UserWarning: `early_stopping_rounds` in `fit` method is deprecated for better compatibility with scikit-learn, use `early_stopping_rounds` in constructor or`set_params` instead.\n",
      "  warnings.warn(\n"
     ]
    },
    {
     "name": "stdout",
     "output_type": "stream",
     "text": [
      "[0]\tvalidation_0-auc:0.69207\n",
      "[300]\tvalidation_0-auc:0.76666\n",
      "[569]\tvalidation_0-auc:0.76649\n",
      "Best score: -0.501\n",
      "Best Parameters: {'objective': 'binary:logistic', 'n_estimators': 1082, 'max_depth': 4, 'learning_rate': 0.1, 'random_state': 42, 'subsample': 0.8, 'tree_method': 'gpu_hist', 'colsample_bytree': 0.8, 'scale_pos_weight': 1, 'eval_metric': 'auc', 'reg_lambda': 0.1}\n"
     ]
    }
   ],
   "source": [
    "param_grid = {\n",
    "    'objective': ['binary:logistic'],\n",
    "    'n_estimators': [1500],\n",
    "    'max_depth': [4, 5, 6],\n",
    "    'learning_rate': [0.1],\n",
    "    'random_state': [42],\n",
    "    'subsample': [0.8],\n",
    "    'tree_method': ['gpu_hist'],\n",
    "    'colsample_bytree': [0.8],\n",
    "    'scale_pos_weight': [1],\n",
    "    'eval_metric': ['auc'],\n",
    "    'reg_lambda': [0.1]\n",
    "}\n",
    "\n",
    "fit_params = {\n",
    "    'early_stopping_rounds': 100,\n",
    "    'verbose': 300\n",
    "}\n",
    "\n",
    "scorer = make_scorer(roc_auc_score, greater_is_better=False)\n",
    "kf = KFold(n_splits=5, shuffle=True, random_state=42)\n",
    "best_params_xgb = GridSearchCV_XGB_early_stoppping(param_grid, fit_params, scorer, kf, X_train, y_train)"
   ]
  },
  {
   "cell_type": "code",
   "execution_count": 21,
   "id": "dd361425",
   "metadata": {},
   "outputs": [
    {
     "data": {
      "text/plain": [
       "304"
      ]
     },
     "execution_count": 21,
     "metadata": {},
     "output_type": "execute_result"
    }
   ],
   "source": [
    "gc.collect()"
   ]
  },
  {
   "cell_type": "code",
   "execution_count": 22,
   "id": "2c23d7b4",
   "metadata": {},
   "outputs": [
    {
     "name": "stdout",
     "output_type": "stream",
     "text": [
      "Fold 1 started:\n"
     ]
    },
    {
     "name": "stderr",
     "output_type": "stream",
     "text": [
      "C:\\Users\\user\\anaconda3\\lib\\site-packages\\xgboost\\sklearn.py:835: UserWarning: `early_stopping_rounds` in `fit` method is deprecated for better compatibility with scikit-learn, use `early_stopping_rounds` in constructor or`set_params` instead.\n",
      "  warnings.warn(\n"
     ]
    },
    {
     "name": "stdout",
     "output_type": "stream",
     "text": [
      "[0]\tvalidation_0-auc:0.66118\n",
      "[300]\tvalidation_0-auc:0.76623\n",
      "[600]\tvalidation_0-auc:0.76884\n",
      "[900]\tvalidation_0-auc:0.76934\n",
      "[1081]\tvalidation_0-auc:0.76952\n",
      "Fold 1 training Done!\n",
      "Fold 2 started:\n"
     ]
    },
    {
     "name": "stderr",
     "output_type": "stream",
     "text": [
      "C:\\Users\\user\\anaconda3\\lib\\site-packages\\xgboost\\sklearn.py:835: UserWarning: `early_stopping_rounds` in `fit` method is deprecated for better compatibility with scikit-learn, use `early_stopping_rounds` in constructor or`set_params` instead.\n",
      "  warnings.warn(\n"
     ]
    },
    {
     "name": "stdout",
     "output_type": "stream",
     "text": [
      "[0]\tvalidation_0-auc:0.67243\n",
      "[300]\tvalidation_0-auc:0.76417\n",
      "[600]\tvalidation_0-auc:0.76668\n",
      "[900]\tvalidation_0-auc:0.76734\n",
      "[1081]\tvalidation_0-auc:0.76763\n",
      "Fold 2 training Done!\n",
      "Fold 3 started:\n"
     ]
    },
    {
     "name": "stderr",
     "output_type": "stream",
     "text": [
      "C:\\Users\\user\\anaconda3\\lib\\site-packages\\xgboost\\sklearn.py:835: UserWarning: `early_stopping_rounds` in `fit` method is deprecated for better compatibility with scikit-learn, use `early_stopping_rounds` in constructor or`set_params` instead.\n",
      "  warnings.warn(\n"
     ]
    },
    {
     "name": "stdout",
     "output_type": "stream",
     "text": [
      "[0]\tvalidation_0-auc:0.66967\n",
      "[300]\tvalidation_0-auc:0.76187\n",
      "[600]\tvalidation_0-auc:0.76416\n",
      "[900]\tvalidation_0-auc:0.76521\n",
      "[1081]\tvalidation_0-auc:0.76568\n",
      "Fold 3 training Done!\n",
      "Fold 4 started:\n"
     ]
    },
    {
     "name": "stderr",
     "output_type": "stream",
     "text": [
      "C:\\Users\\user\\anaconda3\\lib\\site-packages\\xgboost\\sklearn.py:835: UserWarning: `early_stopping_rounds` in `fit` method is deprecated for better compatibility with scikit-learn, use `early_stopping_rounds` in constructor or`set_params` instead.\n",
      "  warnings.warn(\n"
     ]
    },
    {
     "name": "stdout",
     "output_type": "stream",
     "text": [
      "[0]\tvalidation_0-auc:0.66127\n",
      "[300]\tvalidation_0-auc:0.76488\n",
      "[600]\tvalidation_0-auc:0.76737\n",
      "[900]\tvalidation_0-auc:0.76809\n",
      "[1081]\tvalidation_0-auc:0.76841\n",
      "Fold 4 training Done!\n",
      "Fold 5 started:\n"
     ]
    },
    {
     "name": "stderr",
     "output_type": "stream",
     "text": [
      "C:\\Users\\user\\anaconda3\\lib\\site-packages\\xgboost\\sklearn.py:835: UserWarning: `early_stopping_rounds` in `fit` method is deprecated for better compatibility with scikit-learn, use `early_stopping_rounds` in constructor or`set_params` instead.\n",
      "  warnings.warn(\n"
     ]
    },
    {
     "name": "stdout",
     "output_type": "stream",
     "text": [
      "[0]\tvalidation_0-auc:0.68075\n",
      "[300]\tvalidation_0-auc:0.76725\n",
      "[600]\tvalidation_0-auc:0.76970\n",
      "[900]\tvalidation_0-auc:0.77013\n",
      "[1077]\tvalidation_0-auc:0.77012\n",
      "Fold 5 training Done!\n"
     ]
    }
   ],
   "source": [
    "models_xgboost = []\n",
    "metrics_xgboost = []\n",
    "\n",
    "cv_xgboost = StratifiedKFold(n_splits=5, random_state=42, shuffle=True)\n",
    "\n",
    "for i, (train_indexes, test_indexes) in enumerate(cv_xgboost.split(X_train, y_train), start=1):\n",
    "    \n",
    "    print(f'Fold {i} started:')\n",
    "    \n",
    "    model_xg = XGBClassifier(**best_params_xgb)\n",
    "    \n",
    "    y_tr, y_v = y_train.iloc[train_indexes], y_train.iloc[test_indexes]\n",
    "    X_tr, X_v = X_train.iloc[train_indexes], X_train.iloc[test_indexes]\n",
    "    \n",
    "    fit_model_xg = model_xg.fit(X_tr, y_tr, eval_set=[(X_v, y_v)],\n",
    "                                verbose=300, early_stopping_rounds=100)\n",
    "    \n",
    "    models_xgboost.append(fit_model_xg)\n",
    "    metrics_xgboost.append(roc_auc_score(y_v, fit_model_xg.predict_proba(X_v)[:, 1]))\n",
    "    \n",
    "    print(f'Fold {i} training Done!')"
   ]
  },
  {
   "cell_type": "code",
   "execution_count": 23,
   "id": "2a55682c",
   "metadata": {},
   "outputs": [],
   "source": [
    "agg_model_scores.append(['XGBClassifier', metrics_xgboost])"
   ]
  },
  {
   "cell_type": "code",
   "execution_count": 24,
   "id": "cef70887",
   "metadata": {},
   "outputs": [
    {
     "name": "stdout",
     "output_type": "stream",
     "text": [
      "ROC_AUC_SCORE: 0.7717257028672684\n"
     ]
    }
   ],
   "source": [
    "final_model_XGBoost = XGBClassifier(**best_params_xgb).fit(X_train, y_train, verbose=100)\n",
    "print('ROC_AUC_SCORE:', roc_auc_score(y_test, final_model_XGBoost.predict_proba(X_test)[:, 1]))"
   ]
  },
  {
   "cell_type": "code",
   "execution_count": 25,
   "id": "4b9109e4",
   "metadata": {},
   "outputs": [],
   "source": [
    "path_to_save = 'pickle_model'\n",
    "model_filename = f'{path_to_save}/XGBClassifier_cr_sc.pkl'\n",
    "\n",
    "with open(model_filename, 'wb') as file:\n",
    "    dill.dump(final_model_XGBoost, file)"
   ]
  },
  {
   "cell_type": "code",
   "execution_count": 28,
   "id": "9ba97aca",
   "metadata": {},
   "outputs": [
    {
     "data": {
      "text/plain": [
       "0"
      ]
     },
     "execution_count": 28,
     "metadata": {},
     "output_type": "execute_result"
    }
   ],
   "source": [
    "gc.collect()"
   ]
  },
  {
   "cell_type": "markdown",
   "id": "0d0d66d9",
   "metadata": {},
   "source": [
    "#### LightGBM"
   ]
  },
  {
   "cell_type": "code",
   "execution_count": 29,
   "id": "e432d078",
   "metadata": {},
   "outputs": [
    {
     "name": "stderr",
     "output_type": "stream",
     "text": [
      "[I 2023-08-13 11:33:10,441] A new study created in memory with name: no-name-825fc578-d31d-4fbe-b18f-ebfeeadf2321\n"
     ]
    },
    {
     "name": "stdout",
     "output_type": "stream",
     "text": [
      "[LightGBM] [Warning] lambda_l2 is set=0.2884585563349771, reg_lambda=0.0 will be ignored. Current value: lambda_l2=0.2884585563349771\n"
     ]
    },
    {
     "name": "stderr",
     "output_type": "stream",
     "text": [
      "[I 2023-08-13 11:40:56,910] Trial 0 finished with value: 0.7674131530933349 and parameters: {'n_estimators': 2500, 'learning_rate': 0.1, 'max_depth': 4, 'lambda_l2': 0.2884585563349771, 'num_leaves': 67, 'class_weight': 'balanced'}. Best is trial 0 with value: 0.7674131530933349.\n"
     ]
    },
    {
     "name": "stdout",
     "output_type": "stream",
     "text": [
      "[LightGBM] [Warning] lambda_l2 is set=0.3113326669415388, reg_lambda=0.0 will be ignored. Current value: lambda_l2=0.3113326669415388\n"
     ]
    },
    {
     "name": "stderr",
     "output_type": "stream",
     "text": [
      "[I 2023-08-13 11:49:18,922] Trial 1 finished with value: 0.7630666069003478 and parameters: {'n_estimators': 2500, 'learning_rate': 0.1, 'max_depth': 6, 'lambda_l2': 0.3113326669415388, 'num_leaves': 19, 'class_weight': 'balanced'}. Best is trial 0 with value: 0.7674131530933349.\n"
     ]
    },
    {
     "name": "stdout",
     "output_type": "stream",
     "text": [
      "[LightGBM] [Warning] lambda_l2 is set=0.9468662293967758, reg_lambda=0.0 will be ignored. Current value: lambda_l2=0.9468662293967758\n"
     ]
    },
    {
     "name": "stderr",
     "output_type": "stream",
     "text": [
      "[I 2023-08-13 11:57:04,203] Trial 2 finished with value: 0.7592394594754652 and parameters: {'n_estimators': 2500, 'learning_rate': 0.1, 'max_depth': 7, 'lambda_l2': 0.9468662293967758, 'num_leaves': 24, 'class_weight': 'balanced'}. Best is trial 0 with value: 0.7674131530933349.\n"
     ]
    },
    {
     "name": "stdout",
     "output_type": "stream",
     "text": [
      "[LightGBM] [Warning] lambda_l2 is set=0.5411430507668167, reg_lambda=0.0 will be ignored. Current value: lambda_l2=0.5411430507668167\n"
     ]
    },
    {
     "name": "stderr",
     "output_type": "stream",
     "text": [
      "[I 2023-08-13 12:06:09,316] Trial 3 finished with value: 0.7604052804804063 and parameters: {'n_estimators': 2500, 'learning_rate': 0.1, 'max_depth': 5, 'lambda_l2': 0.5411430507668167, 'num_leaves': 64, 'class_weight': 'balanced'}. Best is trial 0 with value: 0.7674131530933349.\n"
     ]
    },
    {
     "name": "stdout",
     "output_type": "stream",
     "text": [
      "[LightGBM] [Warning] lambda_l2 is set=0.3073934559712276, reg_lambda=0.0 will be ignored. Current value: lambda_l2=0.3073934559712276\n"
     ]
    },
    {
     "name": "stderr",
     "output_type": "stream",
     "text": [
      "[I 2023-08-13 12:14:09,015] Trial 4 finished with value: 0.7670844054003993 and parameters: {'n_estimators': 2500, 'learning_rate': 0.1, 'max_depth': 4, 'lambda_l2': 0.3073934559712276, 'num_leaves': 52, 'class_weight': 'balanced'}. Best is trial 0 with value: 0.7674131530933349.\n"
     ]
    },
    {
     "name": "stdout",
     "output_type": "stream",
     "text": [
      "[LightGBM] [Warning] lambda_l2 is set=0.15598244920987886, reg_lambda=0.0 will be ignored. Current value: lambda_l2=0.15598244920987886\n"
     ]
    },
    {
     "name": "stderr",
     "output_type": "stream",
     "text": [
      "[I 2023-08-13 12:22:50,115] Trial 5 finished with value: 0.747412337250059 and parameters: {'n_estimators': 2500, 'learning_rate': 0.1, 'max_depth': 7, 'lambda_l2': 0.15598244920987886, 'num_leaves': 48, 'class_weight': 'balanced'}. Best is trial 0 with value: 0.7674131530933349.\n"
     ]
    },
    {
     "name": "stdout",
     "output_type": "stream",
     "text": [
      "[LightGBM] [Warning] lambda_l2 is set=0.2547807344482527, reg_lambda=0.0 will be ignored. Current value: lambda_l2=0.2547807344482527\n"
     ]
    },
    {
     "name": "stderr",
     "output_type": "stream",
     "text": [
      "[I 2023-08-13 12:29:39,132] Trial 6 finished with value: 0.7703389368358831 and parameters: {'n_estimators': 2500, 'learning_rate': 0.1, 'max_depth': 3, 'lambda_l2': 0.2547807344482527, 'num_leaves': 32, 'class_weight': 'balanced'}. Best is trial 6 with value: 0.7703389368358831.\n"
     ]
    },
    {
     "name": "stdout",
     "output_type": "stream",
     "text": [
      "[LightGBM] [Warning] lambda_l2 is set=0.3561448718164705, reg_lambda=0.0 will be ignored. Current value: lambda_l2=0.3561448718164705\n"
     ]
    },
    {
     "name": "stderr",
     "output_type": "stream",
     "text": [
      "[I 2023-08-13 12:37:33,846] Trial 7 finished with value: 0.7561993324431684 and parameters: {'n_estimators': 2500, 'learning_rate': 0.1, 'max_depth': 7, 'lambda_l2': 0.3561448718164705, 'num_leaves': 27, 'class_weight': 'balanced'}. Best is trial 6 with value: 0.7703389368358831.\n"
     ]
    },
    {
     "name": "stdout",
     "output_type": "stream",
     "text": [
      "[LightGBM] [Warning] lambda_l2 is set=0.5121700732435824, reg_lambda=0.0 will be ignored. Current value: lambda_l2=0.5121700732435824\n"
     ]
    },
    {
     "name": "stderr",
     "output_type": "stream",
     "text": [
      "[I 2023-08-13 12:45:10,626] Trial 8 finished with value: 0.7671085719716475 and parameters: {'n_estimators': 2500, 'learning_rate': 0.1, 'max_depth': 4, 'lambda_l2': 0.5121700732435824, 'num_leaves': 97, 'class_weight': 'balanced'}. Best is trial 6 with value: 0.7703389368358831.\n"
     ]
    },
    {
     "name": "stdout",
     "output_type": "stream",
     "text": [
      "[LightGBM] [Warning] lambda_l2 is set=0.6881868761253771, reg_lambda=0.0 will be ignored. Current value: lambda_l2=0.6881868761253771\n"
     ]
    },
    {
     "name": "stderr",
     "output_type": "stream",
     "text": [
      "[I 2023-08-13 12:52:36,887] Trial 9 finished with value: 0.7614574492882843 and parameters: {'n_estimators': 2500, 'learning_rate': 0.1, 'max_depth': 7, 'lambda_l2': 0.6881868761253771, 'num_leaves': 21, 'class_weight': 'balanced'}. Best is trial 6 with value: 0.7703389368358831.\n"
     ]
    },
    {
     "name": "stdout",
     "output_type": "stream",
     "text": [
      "[LightGBM] [Warning] lambda_l2 is set=0.13247448985394467, reg_lambda=0.0 will be ignored. Current value: lambda_l2=0.13247448985394467\n"
     ]
    },
    {
     "name": "stderr",
     "output_type": "stream",
     "text": [
      "[I 2023-08-13 12:59:40,114] Trial 10 finished with value: 0.7705429847516894 and parameters: {'n_estimators': 2500, 'learning_rate': 0.1, 'max_depth': 3, 'lambda_l2': 0.13247448985394467, 'num_leaves': 36, 'class_weight': 'balanced'}. Best is trial 10 with value: 0.7705429847516894.\n"
     ]
    },
    {
     "name": "stdout",
     "output_type": "stream",
     "text": [
      "[LightGBM] [Warning] lambda_l2 is set=0.10514151588906295, reg_lambda=0.0 will be ignored. Current value: lambda_l2=0.10514151588906295\n"
     ]
    },
    {
     "name": "stderr",
     "output_type": "stream",
     "text": [
      "[I 2023-08-13 13:06:42,381] Trial 11 finished with value: 0.7706785918854158 and parameters: {'n_estimators': 2500, 'learning_rate': 0.1, 'max_depth': 3, 'lambda_l2': 0.10514151588906295, 'num_leaves': 38, 'class_weight': 'balanced'}. Best is trial 11 with value: 0.7706785918854158.\n"
     ]
    },
    {
     "name": "stdout",
     "output_type": "stream",
     "text": [
      "[LightGBM] [Warning] lambda_l2 is set=0.10638511491122002, reg_lambda=0.0 will be ignored. Current value: lambda_l2=0.10638511491122002\n"
     ]
    },
    {
     "name": "stderr",
     "output_type": "stream",
     "text": [
      "[I 2023-08-13 13:13:39,781] Trial 12 finished with value: 0.7704910916376809 and parameters: {'n_estimators': 2500, 'learning_rate': 0.1, 'max_depth': 3, 'lambda_l2': 0.10638511491122002, 'num_leaves': 39, 'class_weight': 'balanced'}. Best is trial 11 with value: 0.7706785918854158.\n"
     ]
    },
    {
     "name": "stdout",
     "output_type": "stream",
     "text": [
      "[LightGBM] [Warning] lambda_l2 is set=0.1077529039673541, reg_lambda=0.0 will be ignored. Current value: lambda_l2=0.1077529039673541\n"
     ]
    },
    {
     "name": "stderr",
     "output_type": "stream",
     "text": [
      "[I 2023-08-13 13:20:33,791] Trial 13 finished with value: 0.7706490889487307 and parameters: {'n_estimators': 2500, 'learning_rate': 0.1, 'max_depth': 3, 'lambda_l2': 0.1077529039673541, 'num_leaves': 11, 'class_weight': 'balanced'}. Best is trial 11 with value: 0.7706785918854158.\n"
     ]
    },
    {
     "name": "stdout",
     "output_type": "stream",
     "text": [
      "[LightGBM] [Warning] lambda_l2 is set=0.11782807732535533, reg_lambda=0.0 will be ignored. Current value: lambda_l2=0.11782807732535533\n"
     ]
    },
    {
     "name": "stderr",
     "output_type": "stream",
     "text": [
      "[I 2023-08-13 13:27:37,799] Trial 14 finished with value: 0.7675678089460871 and parameters: {'n_estimators': 2500, 'learning_rate': 0.1, 'max_depth': 5, 'lambda_l2': 0.11782807732535533, 'num_leaves': 11, 'class_weight': 'balanced'}. Best is trial 11 with value: 0.7706785918854158.\n"
     ]
    },
    {
     "name": "stdout",
     "output_type": "stream",
     "text": [
      "{'n_estimators': 2500, 'learning_rate': 0.1, 'max_depth': 3, 'lambda_l2': 0.10514151588906295, 'num_leaves': 38, 'class_weight': 'balanced'}\n",
      "0.7706785918854158\n"
     ]
    }
   ],
   "source": [
    "def objective(trial):\n",
    "    param_grid = {\n",
    "        \"n_estimators\": trial.suggest_categorical(\"n_estimators\", [2500]),\n",
    "        \"learning_rate\": trial.suggest_categorical(\"learning_rate\", [0.1]),\n",
    "        \"max_depth\": trial.suggest_int(\"max_depth\", 3, 7),\n",
    "        \"lambda_l2\": trial.suggest_float(\"lambda_l2\", 0.1, 1),\n",
    "        \"num_leaves\": trial.suggest_int(\"num_leaves\", 10, 100),\n",
    "        \"class_weight\": trial.suggest_categorical(\"class_weight\", ['balanced'])}  # to be filled in later\n",
    "    \n",
    "    classifier = lgbm.LGBMClassifier(**param_grid, metric='auc')\n",
    "    classifier.fit(X_train, y_train)\n",
    "    y_pred_proba = classifier.predict_proba(X_test)[:, 1]\n",
    "    \n",
    "    roc_auc = roc_auc_score(y_test, y_pred_proba)\n",
    "    \n",
    "    return roc_auc\n",
    "\n",
    "study = optuna.create_study(direction='maximize')\n",
    "study.optimize(objective, n_trials = 15)\n",
    "\n",
    "lgbm_best_params = study.best_params\n",
    "lgbm_best_score = study.best_value\n",
    "\n",
    "print(lgbm_best_params)\n",
    "print(lgbm_best_score)"
   ]
  },
  {
   "cell_type": "code",
   "execution_count": 30,
   "id": "7ef14e31",
   "metadata": {},
   "outputs": [
    {
     "data": {
      "text/plain": [
       "45"
      ]
     },
     "execution_count": 30,
     "metadata": {},
     "output_type": "execute_result"
    }
   ],
   "source": [
    "gc.collect()"
   ]
  },
  {
   "cell_type": "code",
   "execution_count": 31,
   "id": "9a81ad63",
   "metadata": {},
   "outputs": [
    {
     "name": "stdout",
     "output_type": "stream",
     "text": [
      "kf 1 started!\n",
      "[LightGBM] [Warning] lambda_l2 is set=0.10514151588906295, reg_lambda=0.0 will be ignored. Current value: lambda_l2=0.10514151588906295\n"
     ]
    },
    {
     "name": "stderr",
     "output_type": "stream",
     "text": [
      "C:\\Users\\user\\anaconda3\\lib\\site-packages\\lightgbm\\sklearn.py:726: UserWarning: 'early_stopping_rounds' argument is deprecated and will be removed in a future release of LightGBM. Pass 'early_stopping()' callback via 'callbacks' argument instead.\n",
      "  _log_warning(\"'early_stopping_rounds' argument is deprecated and will be removed in a future release of LightGBM. \"\n",
      "C:\\Users\\user\\anaconda3\\lib\\site-packages\\lightgbm\\sklearn.py:736: UserWarning: 'verbose' argument is deprecated and will be removed in a future release of LightGBM. Pass 'log_evaluation()' callback via 'callbacks' argument instead.\n",
      "  _log_warning(\"'verbose' argument is deprecated and will be removed in a future release of LightGBM. \"\n"
     ]
    },
    {
     "name": "stdout",
     "output_type": "stream",
     "text": [
      "[300]\tvalid_0's auc: 0.762291\n",
      "[600]\tvalid_0's auc: 0.765724\n",
      "[900]\tvalid_0's auc: 0.767065\n",
      "[1200]\tvalid_0's auc: 0.767644\n",
      "kf 2 started!\n",
      "[LightGBM] [Warning] lambda_l2 is set=0.10514151588906295, reg_lambda=0.0 will be ignored. Current value: lambda_l2=0.10514151588906295\n"
     ]
    },
    {
     "name": "stderr",
     "output_type": "stream",
     "text": [
      "C:\\Users\\user\\anaconda3\\lib\\site-packages\\lightgbm\\sklearn.py:726: UserWarning: 'early_stopping_rounds' argument is deprecated and will be removed in a future release of LightGBM. Pass 'early_stopping()' callback via 'callbacks' argument instead.\n",
      "  _log_warning(\"'early_stopping_rounds' argument is deprecated and will be removed in a future release of LightGBM. \"\n",
      "C:\\Users\\user\\anaconda3\\lib\\site-packages\\lightgbm\\sklearn.py:736: UserWarning: 'verbose' argument is deprecated and will be removed in a future release of LightGBM. Pass 'log_evaluation()' callback via 'callbacks' argument instead.\n",
      "  _log_warning(\"'verbose' argument is deprecated and will be removed in a future release of LightGBM. \"\n"
     ]
    },
    {
     "name": "stdout",
     "output_type": "stream",
     "text": [
      "[300]\tvalid_0's auc: 0.761374\n",
      "[600]\tvalid_0's auc: 0.764711\n",
      "[900]\tvalid_0's auc: 0.765801\n",
      "[1200]\tvalid_0's auc: 0.766352\n",
      "kf 3 started!\n",
      "[LightGBM] [Warning] lambda_l2 is set=0.10514151588906295, reg_lambda=0.0 will be ignored. Current value: lambda_l2=0.10514151588906295\n"
     ]
    },
    {
     "name": "stderr",
     "output_type": "stream",
     "text": [
      "C:\\Users\\user\\anaconda3\\lib\\site-packages\\lightgbm\\sklearn.py:726: UserWarning: 'early_stopping_rounds' argument is deprecated and will be removed in a future release of LightGBM. Pass 'early_stopping()' callback via 'callbacks' argument instead.\n",
      "  _log_warning(\"'early_stopping_rounds' argument is deprecated and will be removed in a future release of LightGBM. \"\n",
      "C:\\Users\\user\\anaconda3\\lib\\site-packages\\lightgbm\\sklearn.py:736: UserWarning: 'verbose' argument is deprecated and will be removed in a future release of LightGBM. Pass 'log_evaluation()' callback via 'callbacks' argument instead.\n",
      "  _log_warning(\"'verbose' argument is deprecated and will be removed in a future release of LightGBM. \"\n"
     ]
    },
    {
     "name": "stdout",
     "output_type": "stream",
     "text": [
      "[300]\tvalid_0's auc: 0.759782\n",
      "[600]\tvalid_0's auc: 0.762771\n",
      "[900]\tvalid_0's auc: 0.763876\n",
      "kf 4 started!\n",
      "[LightGBM] [Warning] lambda_l2 is set=0.10514151588906295, reg_lambda=0.0 will be ignored. Current value: lambda_l2=0.10514151588906295\n"
     ]
    },
    {
     "name": "stderr",
     "output_type": "stream",
     "text": [
      "C:\\Users\\user\\anaconda3\\lib\\site-packages\\lightgbm\\sklearn.py:726: UserWarning: 'early_stopping_rounds' argument is deprecated and will be removed in a future release of LightGBM. Pass 'early_stopping()' callback via 'callbacks' argument instead.\n",
      "  _log_warning(\"'early_stopping_rounds' argument is deprecated and will be removed in a future release of LightGBM. \"\n",
      "C:\\Users\\user\\anaconda3\\lib\\site-packages\\lightgbm\\sklearn.py:736: UserWarning: 'verbose' argument is deprecated and will be removed in a future release of LightGBM. Pass 'log_evaluation()' callback via 'callbacks' argument instead.\n",
      "  _log_warning(\"'verbose' argument is deprecated and will be removed in a future release of LightGBM. \"\n"
     ]
    },
    {
     "name": "stdout",
     "output_type": "stream",
     "text": [
      "[300]\tvalid_0's auc: 0.761772\n",
      "[600]\tvalid_0's auc: 0.765385\n",
      "[900]\tvalid_0's auc: 0.766554\n",
      "[1200]\tvalid_0's auc: 0.767101\n",
      "kf 5 started!\n",
      "[LightGBM] [Warning] lambda_l2 is set=0.10514151588906295, reg_lambda=0.0 will be ignored. Current value: lambda_l2=0.10514151588906295\n"
     ]
    },
    {
     "name": "stderr",
     "output_type": "stream",
     "text": [
      "C:\\Users\\user\\anaconda3\\lib\\site-packages\\lightgbm\\sklearn.py:726: UserWarning: 'early_stopping_rounds' argument is deprecated and will be removed in a future release of LightGBM. Pass 'early_stopping()' callback via 'callbacks' argument instead.\n",
      "  _log_warning(\"'early_stopping_rounds' argument is deprecated and will be removed in a future release of LightGBM. \"\n",
      "C:\\Users\\user\\anaconda3\\lib\\site-packages\\lightgbm\\sklearn.py:736: UserWarning: 'verbose' argument is deprecated and will be removed in a future release of LightGBM. Pass 'log_evaluation()' callback via 'callbacks' argument instead.\n",
      "  _log_warning(\"'verbose' argument is deprecated and will be removed in a future release of LightGBM. \"\n"
     ]
    },
    {
     "name": "stdout",
     "output_type": "stream",
     "text": [
      "[300]\tvalid_0's auc: 0.764543\n",
      "[600]\tvalid_0's auc: 0.767337\n",
      "[900]\tvalid_0's auc: 0.768243\n"
     ]
    }
   ],
   "source": [
    "cv_lgb = StratifiedKFold(n_splits=5, random_state=42, shuffle=True)\n",
    "\n",
    "metrics_lgb = []\n",
    "models_lgb = []\n",
    "\n",
    "\n",
    "for i, (train_indexes, test_indexes) in enumerate(cv_lgb.split(X_train, y_train), start=1):\n",
    "    \n",
    "    print(f'kf {i} started!')\n",
    "    \n",
    "    X_tr, X_v = X_train.iloc[train_indexes], X_train.iloc[test_indexes]\n",
    "    y_tr, y_v = y_train.iloc[train_indexes], y_train.iloc[test_indexes]\n",
    "    \n",
    "    LGBM = lgbm.LGBMClassifier(**lgbm_best_params, metric='auc').fit(X_train,  y_train)\n",
    "    \n",
    "    fit_model_LGBM = LGBM.fit(X_tr, y_tr, eval_set=[(X_v, y_v)],\n",
    "                              verbose=300, early_stopping_rounds=100)\n",
    "    \n",
    "    models_lgb.append(fit_model_LGBM)\n",
    "    metrics_lgb.append(roc_auc_score(y_v, fit_model_LGBM.predict_proba(X_v)[:, 1]))"
   ]
  },
  {
   "cell_type": "code",
   "execution_count": 32,
   "id": "606b8e54",
   "metadata": {},
   "outputs": [
    {
     "data": {
      "text/plain": [
       "373"
      ]
     },
     "execution_count": 32,
     "metadata": {},
     "output_type": "execute_result"
    }
   ],
   "source": [
    "gc.collect()"
   ]
  },
  {
   "cell_type": "code",
   "execution_count": 33,
   "id": "a5296122",
   "metadata": {},
   "outputs": [
    {
     "name": "stdout",
     "output_type": "stream",
     "text": [
      "[LightGBM] [Warning] lambda_l2 is set=0.10514151588906295, reg_lambda=0.0 will be ignored. Current value: lambda_l2=0.10514151588906295\n",
      "ROC_AUC_SCORE: 0.7706785918854158\n"
     ]
    }
   ],
   "source": [
    "LGBMClassifier = lgbm.LGBMClassifier(**lgbm_best_params, metric='auc').fit(X_train, y_train)\n",
    "\n",
    "print('ROC_AUC_SCORE:', roc_auc_score(y_test, LGBMClassifier.predict_proba(X_test)[:, 1]))"
   ]
  },
  {
   "cell_type": "code",
   "execution_count": 34,
   "id": "97882d5a",
   "metadata": {},
   "outputs": [],
   "source": [
    "agg_model_scores.append(['LGBMClassifier', metrics_lgb])"
   ]
  },
  {
   "cell_type": "code",
   "execution_count": 35,
   "id": "a1726de7",
   "metadata": {},
   "outputs": [],
   "source": [
    "path_to_save = 'pickle_model'\n",
    "model_filename_lgbm = f'{path_to_save}/LGBMClassifier_cr_sc.pkl'\n",
    "with open(model_filename_lgbm, 'wb') as file:\n",
    "    dill.dump(LGBMClassifier, file)"
   ]
  },
  {
   "cell_type": "code",
   "execution_count": 36,
   "id": "3294283f",
   "metadata": {},
   "outputs": [
    {
     "data": {
      "text/plain": [
       "45"
      ]
     },
     "execution_count": 36,
     "metadata": {},
     "output_type": "execute_result"
    }
   ],
   "source": [
    "gc.collect()"
   ]
  },
  {
   "cell_type": "code",
   "execution_count": 37,
   "id": "79885470",
   "metadata": {},
   "outputs": [
    {
     "name": "stdout",
     "output_type": "stream",
     "text": [
      "[['CatBoostClassifier', [0.7632828809563457, 0.764810871093826, 0.7627416911286014, 0.7654461895029501, 0.7680414922393816]]]\n",
      "[['XGBClassifier', [0.7695185696360035, 0.7676779642618016, 0.7656862374419516, 0.7684325696551452, 0.7702363051127683]]]\n",
      "[['LGBMClassifier', [0.7677147998883007, 0.7665336721620564, 0.7639607008659713, 0.7671968099582838, 0.7683068978748457]]]\n"
     ]
    }
   ],
   "source": [
    "res = pd.concat([make_dataset(agg_model_scores[0]), make_dataset(agg_model_scores[1])], axis=0)\n",
    "res = pd.concat([res, make_dataset(agg_model_scores[2])], axis=0).reset_index(drop=True)"
   ]
  },
  {
   "cell_type": "code",
   "execution_count": 38,
   "id": "a6a8865a",
   "metadata": {},
   "outputs": [],
   "source": [
    "res.to_csv('results_cv.xlsx')"
   ]
  },
  {
   "cell_type": "code",
   "execution_count": 39,
   "id": "b6a951d2",
   "metadata": {},
   "outputs": [
    {
     "data": {
      "text/html": [
       "<div>\n",
       "<style scoped>\n",
       "    .dataframe tbody tr th:only-of-type {\n",
       "        vertical-align: middle;\n",
       "    }\n",
       "\n",
       "    .dataframe tbody tr th {\n",
       "        vertical-align: top;\n",
       "    }\n",
       "\n",
       "    .dataframe thead th {\n",
       "        text-align: right;\n",
       "    }\n",
       "</style>\n",
       "<table border=\"1\" class=\"dataframe\">\n",
       "  <thead>\n",
       "    <tr style=\"text-align: right;\">\n",
       "      <th></th>\n",
       "      <th>Модель</th>\n",
       "      <th>Fold 1</th>\n",
       "      <th>Fold 2</th>\n",
       "      <th>Fold 3</th>\n",
       "      <th>Fold 4</th>\n",
       "      <th>Fold 5</th>\n",
       "      <th>Mean roc_auc_score</th>\n",
       "    </tr>\n",
       "  </thead>\n",
       "  <tbody>\n",
       "    <tr>\n",
       "      <th>0</th>\n",
       "      <td>CatBoostClassifier</td>\n",
       "      <td>0.763283</td>\n",
       "      <td>0.764811</td>\n",
       "      <td>0.762742</td>\n",
       "      <td>0.765446</td>\n",
       "      <td>0.768041</td>\n",
       "      <td>0.764865</td>\n",
       "    </tr>\n",
       "    <tr>\n",
       "      <th>1</th>\n",
       "      <td>XGBClassifier</td>\n",
       "      <td>0.769519</td>\n",
       "      <td>0.767678</td>\n",
       "      <td>0.765686</td>\n",
       "      <td>0.768433</td>\n",
       "      <td>0.770236</td>\n",
       "      <td>0.768310</td>\n",
       "    </tr>\n",
       "    <tr>\n",
       "      <th>2</th>\n",
       "      <td>LGBMClassifier</td>\n",
       "      <td>0.767715</td>\n",
       "      <td>0.766534</td>\n",
       "      <td>0.763961</td>\n",
       "      <td>0.767197</td>\n",
       "      <td>0.768307</td>\n",
       "      <td>0.766743</td>\n",
       "    </tr>\n",
       "  </tbody>\n",
       "</table>\n",
       "</div>"
      ],
      "text/plain": [
       "               Модель    Fold 1    Fold 2    Fold 3    Fold 4    Fold 5  \\\n",
       "0  CatBoostClassifier  0.763283  0.764811  0.762742  0.765446  0.768041   \n",
       "1       XGBClassifier  0.769519  0.767678  0.765686  0.768433  0.770236   \n",
       "2      LGBMClassifier  0.767715  0.766534  0.763961  0.767197  0.768307   \n",
       "\n",
       "   Mean roc_auc_score  \n",
       "0            0.764865  \n",
       "1            0.768310  \n",
       "2            0.766743  "
      ]
     },
     "execution_count": 39,
     "metadata": {},
     "output_type": "execute_result"
    }
   ],
   "source": [
    "res"
   ]
  }
 ],
 "metadata": {
  "kernelspec": {
   "display_name": "Python 3 (ipykernel)",
   "language": "python",
   "name": "python3"
  },
  "language_info": {
   "codemirror_mode": {
    "name": "ipython",
    "version": 3
   },
   "file_extension": ".py",
   "mimetype": "text/x-python",
   "name": "python",
   "nbconvert_exporter": "python",
   "pygments_lexer": "ipython3",
   "version": "3.9.7"
  }
 },
 "nbformat": 4,
 "nbformat_minor": 5
}
